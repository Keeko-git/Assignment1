{
  "nbformat": 4,
  "nbformat_minor": 0,
  "metadata": {
    "colab": {
      "provenance": []
    },
    "kernelspec": {
      "name": "python3",
      "display_name": "Python 3"
    },
    "language_info": {
      "name": "python"
    }
  },
  "cells": [
    {
      "cell_type": "markdown",
      "source": [
        "# **INTRODUCTION:**\n",
        "\n",
        "When someone kills another person, it is called homicide. A homicide merely needs to be a voluntary action or omission that results in the death of another person; therefore, it can happen because of careless, irresponsible, or accidental behaviour even when no malice was intended. whereas suicide is the deliberate killing of oneself. Intense sentiments of despair, hopelessness, wrath, helplessness, melancholy, and worthlessness are among the many emotions that lead someone to end their own life. For those left behind, homicide and suicide frequently leave more questions than answers—questions that are never simple to resolve.\n",
        "The concept that homicide and suicide are both violent responses to frustration caused by the flow of economic pressures is supported by examination of the relationship between homicide and suicide rates around the world. The field of public health has grown to be very concerned about this. Numerous studies have been conducted to determine the primary causes of homicide and suicide. With the strength of external restraint over behaviour, suicide changes negatively and homicide positively. It is simple to point the finger at others when irritation arises when behaviour is subject to strong external control because of subordinate rank or active involvement in social relationships. When there are little external constraints, frustration is entirely the person's fault. The psychological underpinnings of the justification of other-oriented hostility may be used to explain disparities in suicide and homicide rates that cannot be explained in terms of external control over behaviour (a f henry; j f short 1977).\n",
        "\n",
        "**Research purpose:**\n",
        "\n",
        "Since the relationship between homicide and suicide rates and economic factors may be established, analysis will be done on the global standard of living (GDP per capital), which determines a country's economic status. After that, changes can be made to make things better. \n",
        "\n",
        "A regression analysis will also be perform to demonstrate the accuracy, performance and predict the dataset for the research purpose.\n",
        "\n"
      ],
      "metadata": {
        "id": "5x1Yq7h8DSMx"
      }
    },
    {
      "cell_type": "markdown",
      "source": [
        "# Importing and mounting drive into google collab."
      ],
      "metadata": {
        "id": "1NzgqtcnE6Di"
      }
    },
    {
      "cell_type": "code",
      "source": [
        "from google.colab import drive\n",
        "drive.mount('/content/drive')\n",
        "%cd \"/content/drive/My Drive/Colab\""
      ],
      "metadata": {
        "colab": {
          "base_uri": "https://localhost:8080/"
        },
        "id": "CqKZrzwCFG5N",
        "outputId": "c102d957-ecf0-47ee-80cc-e2805d396f59"
      },
      "execution_count": null,
      "outputs": [
        {
          "output_type": "stream",
          "name": "stdout",
          "text": [
            "Mounted at /content/drive\n",
            "/content/drive/My Drive/Colab\n"
          ]
        }
      ]
    },
    {
      "cell_type": "markdown",
      "source": [
        "**Importing python libraries**\n",
        "\n",
        "The community surrounding the excellent language of Python has produced numerous incredible libraries. I will therefore use a few essential libraries for my research and continue unboxing new libraries as necessary."
      ],
      "metadata": {
        "id": "Vnckc6VrGLDD"
      }
    },
    {
      "cell_type": "code",
      "source": [
        "import pandas as pd\n",
        "import numpy as np\n",
        "import matplotlib.pyplot as plt\n",
        "import seaborn as sns\n",
        "from scipy import stats\n",
        "from sklearn.metrics import r2_score\n",
        "from sklearn.linear_model import LinearRegression\n",
        "from sklearn.model_selection import train_test_split\n",
        "from sklearn.metrics import accuracy_score"
      ],
      "metadata": {
        "id": "qUDnawaKGbC7"
      },
      "execution_count": null,
      "outputs": []
    },
    {
      "cell_type": "markdown",
      "source": [
        "**Load data set and view the first ten rows **"
      ],
      "metadata": {
        "id": "XXHk4hoqHUSs"
      }
    },
    {
      "cell_type": "code",
      "source": [
        "df = pd.read_csv('suicide homicide gdp.csv')\n",
        "df.head(10)"
      ],
      "metadata": {
        "colab": {
          "base_uri": "https://localhost:8080/",
          "height": 424
        },
        "id": "Zp05UusIHsfh",
        "outputId": "2fcab7b9-20cc-4e94-de23-e6085cdd605f"
      },
      "execution_count": null,
      "outputs": [
        {
          "output_type": "execute_result",
          "data": {
            "text/plain": [
              "       country iso3c iso2c  year  Intentional homicides (per 100,000 people)  \\\n",
              "0  Afghanistan   AFG    AF  1970                                         NaN   \n",
              "1  Afghanistan   AFG    AF  1971                                         NaN   \n",
              "2  Afghanistan   AFG    AF  1972                                         NaN   \n",
              "3  Afghanistan   AFG    AF  1973                                         NaN   \n",
              "4  Afghanistan   AFG    AF  1974                                         NaN   \n",
              "5  Afghanistan   AFG    AF  1975                                         NaN   \n",
              "6  Afghanistan   AFG    AF  1976                                         NaN   \n",
              "7  Afghanistan   AFG    AF  1977                                         NaN   \n",
              "8  Afghanistan   AFG    AF  1978                                         NaN   \n",
              "9  Afghanistan   AFG    AF  1979                                         NaN   \n",
              "\n",
              "   Suicide mortality rate (per 100,000 population)  GDP (current US$)  \\\n",
              "0                                              NaN       1.748887e+09   \n",
              "1                                              NaN       1.831109e+09   \n",
              "2                                              NaN       1.595555e+09   \n",
              "3                                              NaN       1.733333e+09   \n",
              "4                                              NaN       2.155555e+09   \n",
              "5                                              NaN       2.366667e+09   \n",
              "6                                              NaN       2.555556e+09   \n",
              "7                                              NaN       2.953333e+09   \n",
              "8                                              NaN       3.300000e+09   \n",
              "9                                              NaN       3.697940e+09   \n",
              "\n",
              "   GDP per capita, PPP (current international $) adminregion incomeLevel  \n",
              "0                                            NaN  South Asia  Low income  \n",
              "1                                            NaN  South Asia  Low income  \n",
              "2                                            NaN  South Asia  Low income  \n",
              "3                                            NaN  South Asia  Low income  \n",
              "4                                            NaN  South Asia  Low income  \n",
              "5                                            NaN  South Asia  Low income  \n",
              "6                                            NaN  South Asia  Low income  \n",
              "7                                            NaN  South Asia  Low income  \n",
              "8                                            NaN  South Asia  Low income  \n",
              "9                                            NaN  South Asia  Low income  "
            ],
            "text/html": [
              "\n",
              "  <div id=\"df-66428393-12ed-48fc-8bfe-5306fe617332\">\n",
              "    <div class=\"colab-df-container\">\n",
              "      <div>\n",
              "<style scoped>\n",
              "    .dataframe tbody tr th:only-of-type {\n",
              "        vertical-align: middle;\n",
              "    }\n",
              "\n",
              "    .dataframe tbody tr th {\n",
              "        vertical-align: top;\n",
              "    }\n",
              "\n",
              "    .dataframe thead th {\n",
              "        text-align: right;\n",
              "    }\n",
              "</style>\n",
              "<table border=\"1\" class=\"dataframe\">\n",
              "  <thead>\n",
              "    <tr style=\"text-align: right;\">\n",
              "      <th></th>\n",
              "      <th>country</th>\n",
              "      <th>iso3c</th>\n",
              "      <th>iso2c</th>\n",
              "      <th>year</th>\n",
              "      <th>Intentional homicides (per 100,000 people)</th>\n",
              "      <th>Suicide mortality rate (per 100,000 population)</th>\n",
              "      <th>GDP (current US$)</th>\n",
              "      <th>GDP per capita, PPP (current international $)</th>\n",
              "      <th>adminregion</th>\n",
              "      <th>incomeLevel</th>\n",
              "    </tr>\n",
              "  </thead>\n",
              "  <tbody>\n",
              "    <tr>\n",
              "      <th>0</th>\n",
              "      <td>Afghanistan</td>\n",
              "      <td>AFG</td>\n",
              "      <td>AF</td>\n",
              "      <td>1970</td>\n",
              "      <td>NaN</td>\n",
              "      <td>NaN</td>\n",
              "      <td>1.748887e+09</td>\n",
              "      <td>NaN</td>\n",
              "      <td>South Asia</td>\n",
              "      <td>Low income</td>\n",
              "    </tr>\n",
              "    <tr>\n",
              "      <th>1</th>\n",
              "      <td>Afghanistan</td>\n",
              "      <td>AFG</td>\n",
              "      <td>AF</td>\n",
              "      <td>1971</td>\n",
              "      <td>NaN</td>\n",
              "      <td>NaN</td>\n",
              "      <td>1.831109e+09</td>\n",
              "      <td>NaN</td>\n",
              "      <td>South Asia</td>\n",
              "      <td>Low income</td>\n",
              "    </tr>\n",
              "    <tr>\n",
              "      <th>2</th>\n",
              "      <td>Afghanistan</td>\n",
              "      <td>AFG</td>\n",
              "      <td>AF</td>\n",
              "      <td>1972</td>\n",
              "      <td>NaN</td>\n",
              "      <td>NaN</td>\n",
              "      <td>1.595555e+09</td>\n",
              "      <td>NaN</td>\n",
              "      <td>South Asia</td>\n",
              "      <td>Low income</td>\n",
              "    </tr>\n",
              "    <tr>\n",
              "      <th>3</th>\n",
              "      <td>Afghanistan</td>\n",
              "      <td>AFG</td>\n",
              "      <td>AF</td>\n",
              "      <td>1973</td>\n",
              "      <td>NaN</td>\n",
              "      <td>NaN</td>\n",
              "      <td>1.733333e+09</td>\n",
              "      <td>NaN</td>\n",
              "      <td>South Asia</td>\n",
              "      <td>Low income</td>\n",
              "    </tr>\n",
              "    <tr>\n",
              "      <th>4</th>\n",
              "      <td>Afghanistan</td>\n",
              "      <td>AFG</td>\n",
              "      <td>AF</td>\n",
              "      <td>1974</td>\n",
              "      <td>NaN</td>\n",
              "      <td>NaN</td>\n",
              "      <td>2.155555e+09</td>\n",
              "      <td>NaN</td>\n",
              "      <td>South Asia</td>\n",
              "      <td>Low income</td>\n",
              "    </tr>\n",
              "    <tr>\n",
              "      <th>5</th>\n",
              "      <td>Afghanistan</td>\n",
              "      <td>AFG</td>\n",
              "      <td>AF</td>\n",
              "      <td>1975</td>\n",
              "      <td>NaN</td>\n",
              "      <td>NaN</td>\n",
              "      <td>2.366667e+09</td>\n",
              "      <td>NaN</td>\n",
              "      <td>South Asia</td>\n",
              "      <td>Low income</td>\n",
              "    </tr>\n",
              "    <tr>\n",
              "      <th>6</th>\n",
              "      <td>Afghanistan</td>\n",
              "      <td>AFG</td>\n",
              "      <td>AF</td>\n",
              "      <td>1976</td>\n",
              "      <td>NaN</td>\n",
              "      <td>NaN</td>\n",
              "      <td>2.555556e+09</td>\n",
              "      <td>NaN</td>\n",
              "      <td>South Asia</td>\n",
              "      <td>Low income</td>\n",
              "    </tr>\n",
              "    <tr>\n",
              "      <th>7</th>\n",
              "      <td>Afghanistan</td>\n",
              "      <td>AFG</td>\n",
              "      <td>AF</td>\n",
              "      <td>1977</td>\n",
              "      <td>NaN</td>\n",
              "      <td>NaN</td>\n",
              "      <td>2.953333e+09</td>\n",
              "      <td>NaN</td>\n",
              "      <td>South Asia</td>\n",
              "      <td>Low income</td>\n",
              "    </tr>\n",
              "    <tr>\n",
              "      <th>8</th>\n",
              "      <td>Afghanistan</td>\n",
              "      <td>AFG</td>\n",
              "      <td>AF</td>\n",
              "      <td>1978</td>\n",
              "      <td>NaN</td>\n",
              "      <td>NaN</td>\n",
              "      <td>3.300000e+09</td>\n",
              "      <td>NaN</td>\n",
              "      <td>South Asia</td>\n",
              "      <td>Low income</td>\n",
              "    </tr>\n",
              "    <tr>\n",
              "      <th>9</th>\n",
              "      <td>Afghanistan</td>\n",
              "      <td>AFG</td>\n",
              "      <td>AF</td>\n",
              "      <td>1979</td>\n",
              "      <td>NaN</td>\n",
              "      <td>NaN</td>\n",
              "      <td>3.697940e+09</td>\n",
              "      <td>NaN</td>\n",
              "      <td>South Asia</td>\n",
              "      <td>Low income</td>\n",
              "    </tr>\n",
              "  </tbody>\n",
              "</table>\n",
              "</div>\n",
              "      <button class=\"colab-df-convert\" onclick=\"convertToInteractive('df-66428393-12ed-48fc-8bfe-5306fe617332')\"\n",
              "              title=\"Convert this dataframe to an interactive table.\"\n",
              "              style=\"display:none;\">\n",
              "        \n",
              "  <svg xmlns=\"http://www.w3.org/2000/svg\" height=\"24px\"viewBox=\"0 0 24 24\"\n",
              "       width=\"24px\">\n",
              "    <path d=\"M0 0h24v24H0V0z\" fill=\"none\"/>\n",
              "    <path d=\"M18.56 5.44l.94 2.06.94-2.06 2.06-.94-2.06-.94-.94-2.06-.94 2.06-2.06.94zm-11 1L8.5 8.5l.94-2.06 2.06-.94-2.06-.94L8.5 2.5l-.94 2.06-2.06.94zm10 10l.94 2.06.94-2.06 2.06-.94-2.06-.94-.94-2.06-.94 2.06-2.06.94z\"/><path d=\"M17.41 7.96l-1.37-1.37c-.4-.4-.92-.59-1.43-.59-.52 0-1.04.2-1.43.59L10.3 9.45l-7.72 7.72c-.78.78-.78 2.05 0 2.83L4 21.41c.39.39.9.59 1.41.59.51 0 1.02-.2 1.41-.59l7.78-7.78 2.81-2.81c.8-.78.8-2.07 0-2.86zM5.41 20L4 18.59l7.72-7.72 1.47 1.35L5.41 20z\"/>\n",
              "  </svg>\n",
              "      </button>\n",
              "      \n",
              "  <style>\n",
              "    .colab-df-container {\n",
              "      display:flex;\n",
              "      flex-wrap:wrap;\n",
              "      gap: 12px;\n",
              "    }\n",
              "\n",
              "    .colab-df-convert {\n",
              "      background-color: #E8F0FE;\n",
              "      border: none;\n",
              "      border-radius: 50%;\n",
              "      cursor: pointer;\n",
              "      display: none;\n",
              "      fill: #1967D2;\n",
              "      height: 32px;\n",
              "      padding: 0 0 0 0;\n",
              "      width: 32px;\n",
              "    }\n",
              "\n",
              "    .colab-df-convert:hover {\n",
              "      background-color: #E2EBFA;\n",
              "      box-shadow: 0px 1px 2px rgba(60, 64, 67, 0.3), 0px 1px 3px 1px rgba(60, 64, 67, 0.15);\n",
              "      fill: #174EA6;\n",
              "    }\n",
              "\n",
              "    [theme=dark] .colab-df-convert {\n",
              "      background-color: #3B4455;\n",
              "      fill: #D2E3FC;\n",
              "    }\n",
              "\n",
              "    [theme=dark] .colab-df-convert:hover {\n",
              "      background-color: #434B5C;\n",
              "      box-shadow: 0px 1px 3px 1px rgba(0, 0, 0, 0.15);\n",
              "      filter: drop-shadow(0px 1px 2px rgba(0, 0, 0, 0.3));\n",
              "      fill: #FFFFFF;\n",
              "    }\n",
              "  </style>\n",
              "\n",
              "      <script>\n",
              "        const buttonEl =\n",
              "          document.querySelector('#df-66428393-12ed-48fc-8bfe-5306fe617332 button.colab-df-convert');\n",
              "        buttonEl.style.display =\n",
              "          google.colab.kernel.accessAllowed ? 'block' : 'none';\n",
              "\n",
              "        async function convertToInteractive(key) {\n",
              "          const element = document.querySelector('#df-66428393-12ed-48fc-8bfe-5306fe617332');\n",
              "          const dataTable =\n",
              "            await google.colab.kernel.invokeFunction('convertToInteractive',\n",
              "                                                     [key], {});\n",
              "          if (!dataTable) return;\n",
              "\n",
              "          const docLinkHtml = 'Like what you see? Visit the ' +\n",
              "            '<a target=\"_blank\" href=https://colab.research.google.com/notebooks/data_table.ipynb>data table notebook</a>'\n",
              "            + ' to learn more about interactive tables.';\n",
              "          element.innerHTML = '';\n",
              "          dataTable['output_type'] = 'display_data';\n",
              "          await google.colab.output.renderOutput(dataTable, element);\n",
              "          const docLink = document.createElement('div');\n",
              "          docLink.innerHTML = docLinkHtml;\n",
              "          element.appendChild(docLink);\n",
              "        }\n",
              "      </script>\n",
              "    </div>\n",
              "  </div>\n",
              "  "
            ]
          },
          "metadata": {},
          "execution_count": 4
        }
      ]
    },
    {
      "cell_type": "markdown",
      "source": [
        "The datasets  contains 10 variable column which are the country, iso3c, iso2c, year,intentional homicide, suicide mortality rate, GD(current usd), GDP percapital(PPP), Adminregion, income level."
      ],
      "metadata": {
        "id": "RhfCPc2S64km"
      }
    },
    {
      "cell_type": "code",
      "source": [
        "df.shape"
      ],
      "metadata": {
        "colab": {
          "base_uri": "https://localhost:8080/"
        },
        "id": "xWjiAW7q94ph",
        "outputId": "8d7134d9-194a-4a03-f6ca-43ea820135cc"
      },
      "execution_count": null,
      "outputs": [
        {
          "output_type": "execute_result",
          "data": {
            "text/plain": [
              "(13566, 10)"
            ]
          },
          "metadata": {},
          "execution_count": 5
        }
      ]
    },
    {
      "cell_type": "markdown",
      "source": [
        "\n",
        "The dataset contains 13566 rows and 12 columns"
      ],
      "metadata": {
        "id": "5DGaNzwl-U-B"
      }
    },
    {
      "cell_type": "code",
      "source": [
        "df.info()"
      ],
      "metadata": {
        "colab": {
          "base_uri": "https://localhost:8080/"
        },
        "id": "-walvfjO-hkp",
        "outputId": "5a6a1053-330b-4e7a-a532-6fef0681f58d"
      },
      "execution_count": null,
      "outputs": [
        {
          "output_type": "stream",
          "name": "stdout",
          "text": [
            "<class 'pandas.core.frame.DataFrame'>\n",
            "RangeIndex: 13566 entries, 0 to 13565\n",
            "Data columns (total 10 columns):\n",
            " #   Column                                           Non-Null Count  Dtype  \n",
            "---  ------                                           --------------  -----  \n",
            " 0   country                                          13566 non-null  object \n",
            " 1   iso3c                                            13464 non-null  object \n",
            " 2   iso2c                                            13413 non-null  object \n",
            " 3   year                                             13566 non-null  int64  \n",
            " 4   Intentional homicides (per 100,000 people)       3840 non-null   float64\n",
            " 5   Suicide mortality rate (per 100,000 population)  4620 non-null   float64\n",
            " 6   GDP (current US$)                                11396 non-null  float64\n",
            " 7   GDP per capita, PPP (current international $)    7238 non-null   float64\n",
            " 8   adminregion                                      6987 non-null   object \n",
            " 9   incomeLevel                                      13464 non-null  object \n",
            "dtypes: float64(4), int64(1), object(5)\n",
            "memory usage: 1.0+ MB\n"
          ]
        }
      ]
    },
    {
      "cell_type": "markdown",
      "source": [
        "The datasets contains four float values, five object and one interger.All the columns in the dataset are non-null."
      ],
      "metadata": {
        "id": "JZhBEnOW_Itb"
      }
    },
    {
      "cell_type": "code",
      "source": [
        "df.isnull()"
      ],
      "metadata": {
        "colab": {
          "base_uri": "https://localhost:8080/",
          "height": 485
        },
        "id": "bU9QY--dU2bN",
        "outputId": "53a3a322-84d8-4b31-994a-797329788daa"
      },
      "execution_count": null,
      "outputs": [
        {
          "output_type": "execute_result",
          "data": {
            "text/plain": [
              "       country  iso3c  iso2c   year  \\\n",
              "0        False  False  False  False   \n",
              "1        False  False  False  False   \n",
              "2        False  False  False  False   \n",
              "3        False  False  False  False   \n",
              "4        False  False  False  False   \n",
              "...        ...    ...    ...    ...   \n",
              "13561    False  False  False  False   \n",
              "13562    False  False  False  False   \n",
              "13563    False  False  False  False   \n",
              "13564    False  False  False  False   \n",
              "13565    False  False  False  False   \n",
              "\n",
              "       Intentional homicides (per 100,000 people)  \\\n",
              "0                                            True   \n",
              "1                                            True   \n",
              "2                                            True   \n",
              "3                                            True   \n",
              "4                                            True   \n",
              "...                                           ...   \n",
              "13561                                        True   \n",
              "13562                                        True   \n",
              "13563                                        True   \n",
              "13564                                        True   \n",
              "13565                                        True   \n",
              "\n",
              "       Suicide mortality rate (per 100,000 population)  GDP (current US$)  \\\n",
              "0                                                 True              False   \n",
              "1                                                 True              False   \n",
              "2                                                 True              False   \n",
              "3                                                 True              False   \n",
              "4                                                 True              False   \n",
              "...                                                ...                ...   \n",
              "13561                                            False              False   \n",
              "13562                                            False              False   \n",
              "13563                                            False              False   \n",
              "13564                                            False              False   \n",
              "13565                                             True              False   \n",
              "\n",
              "       GDP per capita, PPP (current international $)  adminregion  incomeLevel  \n",
              "0                                               True        False        False  \n",
              "1                                               True        False        False  \n",
              "2                                               True        False        False  \n",
              "3                                               True        False        False  \n",
              "4                                               True        False        False  \n",
              "...                                              ...          ...          ...  \n",
              "13561                                          False        False        False  \n",
              "13562                                          False        False        False  \n",
              "13563                                          False        False        False  \n",
              "13564                                          False        False        False  \n",
              "13565                                          False        False        False  \n",
              "\n",
              "[13566 rows x 10 columns]"
            ],
            "text/html": [
              "\n",
              "  <div id=\"df-c104deb2-48d6-435c-bf84-0bc3c100b085\">\n",
              "    <div class=\"colab-df-container\">\n",
              "      <div>\n",
              "<style scoped>\n",
              "    .dataframe tbody tr th:only-of-type {\n",
              "        vertical-align: middle;\n",
              "    }\n",
              "\n",
              "    .dataframe tbody tr th {\n",
              "        vertical-align: top;\n",
              "    }\n",
              "\n",
              "    .dataframe thead th {\n",
              "        text-align: right;\n",
              "    }\n",
              "</style>\n",
              "<table border=\"1\" class=\"dataframe\">\n",
              "  <thead>\n",
              "    <tr style=\"text-align: right;\">\n",
              "      <th></th>\n",
              "      <th>country</th>\n",
              "      <th>iso3c</th>\n",
              "      <th>iso2c</th>\n",
              "      <th>year</th>\n",
              "      <th>Intentional homicides (per 100,000 people)</th>\n",
              "      <th>Suicide mortality rate (per 100,000 population)</th>\n",
              "      <th>GDP (current US$)</th>\n",
              "      <th>GDP per capita, PPP (current international $)</th>\n",
              "      <th>adminregion</th>\n",
              "      <th>incomeLevel</th>\n",
              "    </tr>\n",
              "  </thead>\n",
              "  <tbody>\n",
              "    <tr>\n",
              "      <th>0</th>\n",
              "      <td>False</td>\n",
              "      <td>False</td>\n",
              "      <td>False</td>\n",
              "      <td>False</td>\n",
              "      <td>True</td>\n",
              "      <td>True</td>\n",
              "      <td>False</td>\n",
              "      <td>True</td>\n",
              "      <td>False</td>\n",
              "      <td>False</td>\n",
              "    </tr>\n",
              "    <tr>\n",
              "      <th>1</th>\n",
              "      <td>False</td>\n",
              "      <td>False</td>\n",
              "      <td>False</td>\n",
              "      <td>False</td>\n",
              "      <td>True</td>\n",
              "      <td>True</td>\n",
              "      <td>False</td>\n",
              "      <td>True</td>\n",
              "      <td>False</td>\n",
              "      <td>False</td>\n",
              "    </tr>\n",
              "    <tr>\n",
              "      <th>2</th>\n",
              "      <td>False</td>\n",
              "      <td>False</td>\n",
              "      <td>False</td>\n",
              "      <td>False</td>\n",
              "      <td>True</td>\n",
              "      <td>True</td>\n",
              "      <td>False</td>\n",
              "      <td>True</td>\n",
              "      <td>False</td>\n",
              "      <td>False</td>\n",
              "    </tr>\n",
              "    <tr>\n",
              "      <th>3</th>\n",
              "      <td>False</td>\n",
              "      <td>False</td>\n",
              "      <td>False</td>\n",
              "      <td>False</td>\n",
              "      <td>True</td>\n",
              "      <td>True</td>\n",
              "      <td>False</td>\n",
              "      <td>True</td>\n",
              "      <td>False</td>\n",
              "      <td>False</td>\n",
              "    </tr>\n",
              "    <tr>\n",
              "      <th>4</th>\n",
              "      <td>False</td>\n",
              "      <td>False</td>\n",
              "      <td>False</td>\n",
              "      <td>False</td>\n",
              "      <td>True</td>\n",
              "      <td>True</td>\n",
              "      <td>False</td>\n",
              "      <td>True</td>\n",
              "      <td>False</td>\n",
              "      <td>False</td>\n",
              "    </tr>\n",
              "    <tr>\n",
              "      <th>...</th>\n",
              "      <td>...</td>\n",
              "      <td>...</td>\n",
              "      <td>...</td>\n",
              "      <td>...</td>\n",
              "      <td>...</td>\n",
              "      <td>...</td>\n",
              "      <td>...</td>\n",
              "      <td>...</td>\n",
              "      <td>...</td>\n",
              "      <td>...</td>\n",
              "    </tr>\n",
              "    <tr>\n",
              "      <th>13561</th>\n",
              "      <td>False</td>\n",
              "      <td>False</td>\n",
              "      <td>False</td>\n",
              "      <td>False</td>\n",
              "      <td>True</td>\n",
              "      <td>False</td>\n",
              "      <td>False</td>\n",
              "      <td>False</td>\n",
              "      <td>False</td>\n",
              "      <td>False</td>\n",
              "    </tr>\n",
              "    <tr>\n",
              "      <th>13562</th>\n",
              "      <td>False</td>\n",
              "      <td>False</td>\n",
              "      <td>False</td>\n",
              "      <td>False</td>\n",
              "      <td>True</td>\n",
              "      <td>False</td>\n",
              "      <td>False</td>\n",
              "      <td>False</td>\n",
              "      <td>False</td>\n",
              "      <td>False</td>\n",
              "    </tr>\n",
              "    <tr>\n",
              "      <th>13563</th>\n",
              "      <td>False</td>\n",
              "      <td>False</td>\n",
              "      <td>False</td>\n",
              "      <td>False</td>\n",
              "      <td>True</td>\n",
              "      <td>False</td>\n",
              "      <td>False</td>\n",
              "      <td>False</td>\n",
              "      <td>False</td>\n",
              "      <td>False</td>\n",
              "    </tr>\n",
              "    <tr>\n",
              "      <th>13564</th>\n",
              "      <td>False</td>\n",
              "      <td>False</td>\n",
              "      <td>False</td>\n",
              "      <td>False</td>\n",
              "      <td>True</td>\n",
              "      <td>False</td>\n",
              "      <td>False</td>\n",
              "      <td>False</td>\n",
              "      <td>False</td>\n",
              "      <td>False</td>\n",
              "    </tr>\n",
              "    <tr>\n",
              "      <th>13565</th>\n",
              "      <td>False</td>\n",
              "      <td>False</td>\n",
              "      <td>False</td>\n",
              "      <td>False</td>\n",
              "      <td>True</td>\n",
              "      <td>True</td>\n",
              "      <td>False</td>\n",
              "      <td>False</td>\n",
              "      <td>False</td>\n",
              "      <td>False</td>\n",
              "    </tr>\n",
              "  </tbody>\n",
              "</table>\n",
              "<p>13566 rows × 10 columns</p>\n",
              "</div>\n",
              "      <button class=\"colab-df-convert\" onclick=\"convertToInteractive('df-c104deb2-48d6-435c-bf84-0bc3c100b085')\"\n",
              "              title=\"Convert this dataframe to an interactive table.\"\n",
              "              style=\"display:none;\">\n",
              "        \n",
              "  <svg xmlns=\"http://www.w3.org/2000/svg\" height=\"24px\"viewBox=\"0 0 24 24\"\n",
              "       width=\"24px\">\n",
              "    <path d=\"M0 0h24v24H0V0z\" fill=\"none\"/>\n",
              "    <path d=\"M18.56 5.44l.94 2.06.94-2.06 2.06-.94-2.06-.94-.94-2.06-.94 2.06-2.06.94zm-11 1L8.5 8.5l.94-2.06 2.06-.94-2.06-.94L8.5 2.5l-.94 2.06-2.06.94zm10 10l.94 2.06.94-2.06 2.06-.94-2.06-.94-.94-2.06-.94 2.06-2.06.94z\"/><path d=\"M17.41 7.96l-1.37-1.37c-.4-.4-.92-.59-1.43-.59-.52 0-1.04.2-1.43.59L10.3 9.45l-7.72 7.72c-.78.78-.78 2.05 0 2.83L4 21.41c.39.39.9.59 1.41.59.51 0 1.02-.2 1.41-.59l7.78-7.78 2.81-2.81c.8-.78.8-2.07 0-2.86zM5.41 20L4 18.59l7.72-7.72 1.47 1.35L5.41 20z\"/>\n",
              "  </svg>\n",
              "      </button>\n",
              "      \n",
              "  <style>\n",
              "    .colab-df-container {\n",
              "      display:flex;\n",
              "      flex-wrap:wrap;\n",
              "      gap: 12px;\n",
              "    }\n",
              "\n",
              "    .colab-df-convert {\n",
              "      background-color: #E8F0FE;\n",
              "      border: none;\n",
              "      border-radius: 50%;\n",
              "      cursor: pointer;\n",
              "      display: none;\n",
              "      fill: #1967D2;\n",
              "      height: 32px;\n",
              "      padding: 0 0 0 0;\n",
              "      width: 32px;\n",
              "    }\n",
              "\n",
              "    .colab-df-convert:hover {\n",
              "      background-color: #E2EBFA;\n",
              "      box-shadow: 0px 1px 2px rgba(60, 64, 67, 0.3), 0px 1px 3px 1px rgba(60, 64, 67, 0.15);\n",
              "      fill: #174EA6;\n",
              "    }\n",
              "\n",
              "    [theme=dark] .colab-df-convert {\n",
              "      background-color: #3B4455;\n",
              "      fill: #D2E3FC;\n",
              "    }\n",
              "\n",
              "    [theme=dark] .colab-df-convert:hover {\n",
              "      background-color: #434B5C;\n",
              "      box-shadow: 0px 1px 3px 1px rgba(0, 0, 0, 0.15);\n",
              "      filter: drop-shadow(0px 1px 2px rgba(0, 0, 0, 0.3));\n",
              "      fill: #FFFFFF;\n",
              "    }\n",
              "  </style>\n",
              "\n",
              "      <script>\n",
              "        const buttonEl =\n",
              "          document.querySelector('#df-c104deb2-48d6-435c-bf84-0bc3c100b085 button.colab-df-convert');\n",
              "        buttonEl.style.display =\n",
              "          google.colab.kernel.accessAllowed ? 'block' : 'none';\n",
              "\n",
              "        async function convertToInteractive(key) {\n",
              "          const element = document.querySelector('#df-c104deb2-48d6-435c-bf84-0bc3c100b085');\n",
              "          const dataTable =\n",
              "            await google.colab.kernel.invokeFunction('convertToInteractive',\n",
              "                                                     [key], {});\n",
              "          if (!dataTable) return;\n",
              "\n",
              "          const docLinkHtml = 'Like what you see? Visit the ' +\n",
              "            '<a target=\"_blank\" href=https://colab.research.google.com/notebooks/data_table.ipynb>data table notebook</a>'\n",
              "            + ' to learn more about interactive tables.';\n",
              "          element.innerHTML = '';\n",
              "          dataTable['output_type'] = 'display_data';\n",
              "          await google.colab.output.renderOutput(dataTable, element);\n",
              "          const docLink = document.createElement('div');\n",
              "          docLink.innerHTML = docLinkHtml;\n",
              "          element.appendChild(docLink);\n",
              "        }\n",
              "      </script>\n",
              "    </div>\n",
              "  </div>\n",
              "  "
            ]
          },
          "metadata": {},
          "execution_count": 7
        }
      ]
    },
    {
      "cell_type": "code",
      "source": [
        "df.isna().sum()"
      ],
      "metadata": {
        "colab": {
          "base_uri": "https://localhost:8080/"
        },
        "id": "KPyvlLDM_zbt",
        "outputId": "ef639500-ad65-4f25-f86c-5ca037a62cb4"
      },
      "execution_count": null,
      "outputs": [
        {
          "output_type": "execute_result",
          "data": {
            "text/plain": [
              "country                                               0\n",
              "iso3c                                               102\n",
              "iso2c                                               153\n",
              "year                                                  0\n",
              "Intentional homicides (per 100,000 people)         9726\n",
              "Suicide mortality rate (per 100,000 population)    8946\n",
              "GDP (current US$)                                  2170\n",
              "GDP per capita, PPP (current international $)      6328\n",
              "adminregion                                        6579\n",
              "incomeLevel                                         102\n",
              "dtype: int64"
            ]
          },
          "metadata": {},
          "execution_count": 8
        }
      ]
    },
    {
      "cell_type": "markdown",
      "source": [
        "There are numerous values missing from this. Actually, aside than dropping them, I'm not really sure how to avoid this.\n",
        "It is clear that this dataset pertains to time because the year serves as the independent variable. \n",
        "\n"
      ],
      "metadata": {
        "id": "4VZiZYl_ARMt"
      }
    },
    {
      "cell_type": "markdown",
      "source": [
        "# **EXPLORATORY DATA ANALYSIS**"
      ],
      "metadata": {
        "id": "7MAIn_nLCDfZ"
      }
    },
    {
      "cell_type": "markdown",
      "source": [
        "**Descriptive statistics to comprehend the dataset's distribution**"
      ],
      "metadata": {
        "id": "tk7f7pKrDEE_"
      }
    },
    {
      "cell_type": "code",
      "source": [
        "df.describe()"
      ],
      "metadata": {
        "colab": {
          "base_uri": "https://localhost:8080/",
          "height": 344
        },
        "id": "fTJFMzOrDF2n",
        "outputId": "58da534d-b956-48e9-f298-c052fb4cc522"
      },
      "execution_count": null,
      "outputs": [
        {
          "output_type": "execute_result",
          "data": {
            "text/plain": [
              "               year  Intentional homicides (per 100,000 people)  \\\n",
              "count  13566.000000                                 3840.000000   \n",
              "mean    1995.000000                                    8.044086   \n",
              "std       14.720144                                   12.180537   \n",
              "min     1970.000000                                    0.000000   \n",
              "25%     1982.000000                                    1.356422   \n",
              "50%     1995.000000                                    3.408601   \n",
              "75%     2008.000000                                    9.247258   \n",
              "max     2020.000000                                  141.722580   \n",
              "\n",
              "       Suicide mortality rate (per 100,000 population)  GDP (current US$)  \\\n",
              "count                                      4620.000000       1.139600e+04   \n",
              "mean                                         10.545263       1.256303e+12   \n",
              "std                                           8.260847       5.353085e+12   \n",
              "min                                           0.000000       8.824448e+06   \n",
              "25%                                           5.400000       2.935639e+09   \n",
              "50%                                           8.500000       2.136323e+10   \n",
              "75%                                          13.200000       2.583568e+11   \n",
              "max                                          92.600000       8.756805e+13   \n",
              "\n",
              "       GDP per capita, PPP (current international $)  \n",
              "count                                    7238.000000  \n",
              "mean                                    14326.351258  \n",
              "std                                     17677.847021  \n",
              "min                                       285.404911  \n",
              "25%                                      2875.298395  \n",
              "50%                                      7525.316313  \n",
              "75%                                     18717.529628  \n",
              "max                                    153563.910960  "
            ],
            "text/html": [
              "\n",
              "  <div id=\"df-65943465-4b1f-41e8-be83-c53359cda99b\">\n",
              "    <div class=\"colab-df-container\">\n",
              "      <div>\n",
              "<style scoped>\n",
              "    .dataframe tbody tr th:only-of-type {\n",
              "        vertical-align: middle;\n",
              "    }\n",
              "\n",
              "    .dataframe tbody tr th {\n",
              "        vertical-align: top;\n",
              "    }\n",
              "\n",
              "    .dataframe thead th {\n",
              "        text-align: right;\n",
              "    }\n",
              "</style>\n",
              "<table border=\"1\" class=\"dataframe\">\n",
              "  <thead>\n",
              "    <tr style=\"text-align: right;\">\n",
              "      <th></th>\n",
              "      <th>year</th>\n",
              "      <th>Intentional homicides (per 100,000 people)</th>\n",
              "      <th>Suicide mortality rate (per 100,000 population)</th>\n",
              "      <th>GDP (current US$)</th>\n",
              "      <th>GDP per capita, PPP (current international $)</th>\n",
              "    </tr>\n",
              "  </thead>\n",
              "  <tbody>\n",
              "    <tr>\n",
              "      <th>count</th>\n",
              "      <td>13566.000000</td>\n",
              "      <td>3840.000000</td>\n",
              "      <td>4620.000000</td>\n",
              "      <td>1.139600e+04</td>\n",
              "      <td>7238.000000</td>\n",
              "    </tr>\n",
              "    <tr>\n",
              "      <th>mean</th>\n",
              "      <td>1995.000000</td>\n",
              "      <td>8.044086</td>\n",
              "      <td>10.545263</td>\n",
              "      <td>1.256303e+12</td>\n",
              "      <td>14326.351258</td>\n",
              "    </tr>\n",
              "    <tr>\n",
              "      <th>std</th>\n",
              "      <td>14.720144</td>\n",
              "      <td>12.180537</td>\n",
              "      <td>8.260847</td>\n",
              "      <td>5.353085e+12</td>\n",
              "      <td>17677.847021</td>\n",
              "    </tr>\n",
              "    <tr>\n",
              "      <th>min</th>\n",
              "      <td>1970.000000</td>\n",
              "      <td>0.000000</td>\n",
              "      <td>0.000000</td>\n",
              "      <td>8.824448e+06</td>\n",
              "      <td>285.404911</td>\n",
              "    </tr>\n",
              "    <tr>\n",
              "      <th>25%</th>\n",
              "      <td>1982.000000</td>\n",
              "      <td>1.356422</td>\n",
              "      <td>5.400000</td>\n",
              "      <td>2.935639e+09</td>\n",
              "      <td>2875.298395</td>\n",
              "    </tr>\n",
              "    <tr>\n",
              "      <th>50%</th>\n",
              "      <td>1995.000000</td>\n",
              "      <td>3.408601</td>\n",
              "      <td>8.500000</td>\n",
              "      <td>2.136323e+10</td>\n",
              "      <td>7525.316313</td>\n",
              "    </tr>\n",
              "    <tr>\n",
              "      <th>75%</th>\n",
              "      <td>2008.000000</td>\n",
              "      <td>9.247258</td>\n",
              "      <td>13.200000</td>\n",
              "      <td>2.583568e+11</td>\n",
              "      <td>18717.529628</td>\n",
              "    </tr>\n",
              "    <tr>\n",
              "      <th>max</th>\n",
              "      <td>2020.000000</td>\n",
              "      <td>141.722580</td>\n",
              "      <td>92.600000</td>\n",
              "      <td>8.756805e+13</td>\n",
              "      <td>153563.910960</td>\n",
              "    </tr>\n",
              "  </tbody>\n",
              "</table>\n",
              "</div>\n",
              "      <button class=\"colab-df-convert\" onclick=\"convertToInteractive('df-65943465-4b1f-41e8-be83-c53359cda99b')\"\n",
              "              title=\"Convert this dataframe to an interactive table.\"\n",
              "              style=\"display:none;\">\n",
              "        \n",
              "  <svg xmlns=\"http://www.w3.org/2000/svg\" height=\"24px\"viewBox=\"0 0 24 24\"\n",
              "       width=\"24px\">\n",
              "    <path d=\"M0 0h24v24H0V0z\" fill=\"none\"/>\n",
              "    <path d=\"M18.56 5.44l.94 2.06.94-2.06 2.06-.94-2.06-.94-.94-2.06-.94 2.06-2.06.94zm-11 1L8.5 8.5l.94-2.06 2.06-.94-2.06-.94L8.5 2.5l-.94 2.06-2.06.94zm10 10l.94 2.06.94-2.06 2.06-.94-2.06-.94-.94-2.06-.94 2.06-2.06.94z\"/><path d=\"M17.41 7.96l-1.37-1.37c-.4-.4-.92-.59-1.43-.59-.52 0-1.04.2-1.43.59L10.3 9.45l-7.72 7.72c-.78.78-.78 2.05 0 2.83L4 21.41c.39.39.9.59 1.41.59.51 0 1.02-.2 1.41-.59l7.78-7.78 2.81-2.81c.8-.78.8-2.07 0-2.86zM5.41 20L4 18.59l7.72-7.72 1.47 1.35L5.41 20z\"/>\n",
              "  </svg>\n",
              "      </button>\n",
              "      \n",
              "  <style>\n",
              "    .colab-df-container {\n",
              "      display:flex;\n",
              "      flex-wrap:wrap;\n",
              "      gap: 12px;\n",
              "    }\n",
              "\n",
              "    .colab-df-convert {\n",
              "      background-color: #E8F0FE;\n",
              "      border: none;\n",
              "      border-radius: 50%;\n",
              "      cursor: pointer;\n",
              "      display: none;\n",
              "      fill: #1967D2;\n",
              "      height: 32px;\n",
              "      padding: 0 0 0 0;\n",
              "      width: 32px;\n",
              "    }\n",
              "\n",
              "    .colab-df-convert:hover {\n",
              "      background-color: #E2EBFA;\n",
              "      box-shadow: 0px 1px 2px rgba(60, 64, 67, 0.3), 0px 1px 3px 1px rgba(60, 64, 67, 0.15);\n",
              "      fill: #174EA6;\n",
              "    }\n",
              "\n",
              "    [theme=dark] .colab-df-convert {\n",
              "      background-color: #3B4455;\n",
              "      fill: #D2E3FC;\n",
              "    }\n",
              "\n",
              "    [theme=dark] .colab-df-convert:hover {\n",
              "      background-color: #434B5C;\n",
              "      box-shadow: 0px 1px 3px 1px rgba(0, 0, 0, 0.15);\n",
              "      filter: drop-shadow(0px 1px 2px rgba(0, 0, 0, 0.3));\n",
              "      fill: #FFFFFF;\n",
              "    }\n",
              "  </style>\n",
              "\n",
              "      <script>\n",
              "        const buttonEl =\n",
              "          document.querySelector('#df-65943465-4b1f-41e8-be83-c53359cda99b button.colab-df-convert');\n",
              "        buttonEl.style.display =\n",
              "          google.colab.kernel.accessAllowed ? 'block' : 'none';\n",
              "\n",
              "        async function convertToInteractive(key) {\n",
              "          const element = document.querySelector('#df-65943465-4b1f-41e8-be83-c53359cda99b');\n",
              "          const dataTable =\n",
              "            await google.colab.kernel.invokeFunction('convertToInteractive',\n",
              "                                                     [key], {});\n",
              "          if (!dataTable) return;\n",
              "\n",
              "          const docLinkHtml = 'Like what you see? Visit the ' +\n",
              "            '<a target=\"_blank\" href=https://colab.research.google.com/notebooks/data_table.ipynb>data table notebook</a>'\n",
              "            + ' to learn more about interactive tables.';\n",
              "          element.innerHTML = '';\n",
              "          dataTable['output_type'] = 'display_data';\n",
              "          await google.colab.output.renderOutput(dataTable, element);\n",
              "          const docLink = document.createElement('div');\n",
              "          docLink.innerHTML = docLinkHtml;\n",
              "          element.appendChild(docLink);\n",
              "        }\n",
              "      </script>\n",
              "    </div>\n",
              "  </div>\n",
              "  "
            ]
          },
          "metadata": {},
          "execution_count": 9
        }
      ]
    },
    {
      "cell_type": "markdown",
      "source": [
        "The mean value of the intentional homicide is 8.04 and suicide mortality rate is approximately 10.55. this means that the average distribution of suicide mortality rate is higher that intentional homicide rate.\n",
        "\n",
        "The total average of GDP percapita increases to 14326.351258 from the count of 7238.000000 showing an high living improvement.\n",
        "\n",
        "For all years, the GDP PerCapita spans from 285.404911 to 153563.910960, a very wide range of numbers. This demonstrates the stark disparity in living standards between various nations.\n",
        "\n",
        "However, the mortality rates for intentional homicide and suicide, which are similarly high, range from 0.000000 to 141.722580 and 0.000000 to 92.600000 per 100,000, respectively, for all years."
      ],
      "metadata": {
        "id": "IUGQO-I3Fvsf"
      }
    },
    {
      "cell_type": "code",
      "source": [
        "#Check for duplicates\n",
        "df.duplicated()"
      ],
      "metadata": {
        "colab": {
          "base_uri": "https://localhost:8080/"
        },
        "id": "EuR0T6_HXdRU",
        "outputId": "7f60dc6d-c81b-4731-e92c-3d76296f595d"
      },
      "execution_count": null,
      "outputs": [
        {
          "output_type": "execute_result",
          "data": {
            "text/plain": [
              "0        False\n",
              "1        False\n",
              "2        False\n",
              "3        False\n",
              "4        False\n",
              "         ...  \n",
              "13561    False\n",
              "13562    False\n",
              "13563    False\n",
              "13564    False\n",
              "13565    False\n",
              "Length: 13566, dtype: bool"
            ]
          },
          "metadata": {},
          "execution_count": 10
        }
      ]
    },
    {
      "cell_type": "markdown",
      "source": [
        "There are no duplicates in the dataset"
      ],
      "metadata": {
        "id": "cCdLg8haX2hh"
      }
    },
    {
      "cell_type": "markdown",
      "source": [
        "# **Data pre-processing**\n",
        "\n",
        "There are numerous values missing from this dataset. Using the mean values to repalcethe missing values will be better so as to have a moderate  model prediction."
      ],
      "metadata": {
        "id": "kcKrWhAgeQ44"
      }
    },
    {
      "cell_type": "code",
      "source": [
        "Data = df[['year','Intentional homicides (per 100,000 people)','Suicide mortality rate (per 100,000 population)',\n",
        " 'GDP (current US$)','GDP per capita, PPP (current international $)','incomeLevel','adminregion']]\n",
        "print(Data)"
      ],
      "metadata": {
        "colab": {
          "base_uri": "https://localhost:8080/",
          "height": 209
        },
        "id": "VyoxdV1A6e9K",
        "outputId": "6477d6a1-6b90-4b3f-b23e-d3086a03d323"
      },
      "execution_count": null,
      "outputs": [
        {
          "output_type": "error",
          "ename": "NameError",
          "evalue": "ignored",
          "traceback": [
            "\u001b[0;31m---------------------------------------------------------------------------\u001b[0m",
            "\u001b[0;31mNameError\u001b[0m                                 Traceback (most recent call last)",
            "\u001b[0;32m<ipython-input-1-4d6644d15907>\u001b[0m in \u001b[0;36m<module>\u001b[0;34m\u001b[0m\n\u001b[0;32m----> 1\u001b[0;31m Data = df[['year','Intentional homicides (per 100,000 people)','Suicide mortality rate (per 100,000 population)',\n\u001b[0m\u001b[1;32m      2\u001b[0m  'GDP (current US$)','GDP per capita, PPP (current international $)','incomeLevel','adminregion']]\n\u001b[1;32m      3\u001b[0m \u001b[0mprint\u001b[0m\u001b[0;34m(\u001b[0m\u001b[0mData\u001b[0m\u001b[0;34m)\u001b[0m\u001b[0;34m\u001b[0m\u001b[0;34m\u001b[0m\u001b[0m\n",
            "\u001b[0;31mNameError\u001b[0m: name 'df' is not defined"
          ]
        }
      ]
    },
    {
      "cell_type": "markdown",
      "source": [
        "The important variables which are Intentional homicides (per 100,000 people)', 'Suicide mortality rate (per 100,000 population)','GDP (current US)', and 'GDP per capita, PPP (current international), incomelevel are factor out for proper analysis."
      ],
      "metadata": {
        "id": "qvjY7iff9pEg"
      }
    },
    {
      "cell_type": "code",
      "source": [
        "#To Calculate the mean float values\n",
        "Data.mean()"
      ],
      "metadata": {
        "id": "TaLWLGAe_b6Z"
      },
      "execution_count": null,
      "outputs": []
    },
    {
      "cell_type": "markdown",
      "source": [
        "This shows the mean float values"
      ],
      "metadata": {
        "id": "AJ8RaU0CCLSA"
      }
    },
    {
      "cell_type": "code",
      "source": [
        "#To fill missing values with mean values\n",
        "Data1 = Data.fillna(Data.mean())\n",
        "Data1.head(20)"
      ],
      "metadata": {
        "id": "LrBGF-L1CUCK"
      },
      "execution_count": null,
      "outputs": []
    },
    {
      "cell_type": "code",
      "source": [
        "#Now Lets check for the missing values after replacement\n",
        "Data1.isnull().sum()"
      ],
      "metadata": {
        "id": "1XxtUgOlDyVe"
      },
      "execution_count": null,
      "outputs": []
    },
    {
      "cell_type": "markdown",
      "source": [
        "This shows that there is no missing values present again in the numerical variable. All missing values have been replaced by the mean column values."
      ],
      "metadata": {
        "id": "MorCdc-xEHJx"
      }
    },
    {
      "cell_type": "markdown",
      "source": [
        "# **Statistics/computation-based data analytics**"
      ],
      "metadata": {
        "id": "fC996jtCBoGa"
      }
    },
    {
      "cell_type": "code",
      "source": [
        "#calculate the relation between intentional homicides and suicide mortality rate\n",
        "from scipy.stats.stats import pearsonr"
      ],
      "metadata": {
        "id": "AnN_xlm9SajG"
      },
      "execution_count": null,
      "outputs": []
    },
    {
      "cell_type": "markdown",
      "source": [],
      "metadata": {
        "id": "yosBKaXpdhsf"
      }
    },
    {
      "cell_type": "markdown",
      "source": [
        "The Scipy library's pearsonr function is used to perform statistical correlation between two variables, returning a two-tailed p-value. It always takes on a value in the range of -1 and 1, with -1 being a fully adverse linear connection. Zero means there is no linear association A linear association with a perfect value of 1 is indicated."
      ],
      "metadata": {
        "id": "mZ6mBdmdTLlb"
      }
    },
    {
      "cell_type": "code",
      "source": [
        "A = Data1[\"Intentional homicides (per 100,000 people)\"]\n",
        "print(A)"
      ],
      "metadata": {
        "colab": {
          "base_uri": "https://localhost:8080/"
        },
        "id": "cY0PzQi6T-Jp",
        "outputId": "ce337999-6b69-4019-97e0-69e89c2aed87"
      },
      "execution_count": null,
      "outputs": [
        {
          "output_type": "stream",
          "name": "stdout",
          "text": [
            "0        8.044086\n",
            "1        8.044086\n",
            "2        8.044086\n",
            "3        8.044086\n",
            "4        8.044086\n",
            "           ...   \n",
            "13561    8.044086\n",
            "13562    8.044086\n",
            "13563    8.044086\n",
            "13564    8.044086\n",
            "13565    8.044086\n",
            "Name: Intentional homicides (per 100,000 people), Length: 13566, dtype: float64\n"
          ]
        }
      ]
    },
    {
      "cell_type": "code",
      "source": [
        "B = Data1[\"Suicide mortality rate (per 100,000 population)\"]\n",
        "print(B)"
      ],
      "metadata": {
        "id": "I-Gx0C5_VL8w"
      },
      "execution_count": null,
      "outputs": []
    },
    {
      "cell_type": "code",
      "source": [
        "C = Data1['GDP per capita, PPP (current international $)']\n",
        "print(C)"
      ],
      "metadata": {
        "id": "0-2RrELe5B5q"
      },
      "execution_count": null,
      "outputs": []
    },
    {
      "cell_type": "code",
      "source": [
        "#Testing the linear relatioship between the two variable A and B\n",
        "pearsonr(A,B)"
      ],
      "metadata": {
        "id": "tpJgmg46Ve2K"
      },
      "execution_count": null,
      "outputs": []
    },
    {
      "cell_type": "code",
      "source": [
        "stat, p = pearsonr(A, B)\n",
        "print('stat=%.3f, p=%.3f' % (stat, p))\n",
        "if p > 0.05:\n",
        "\tprint('Probably independent')\n",
        "else:\n",
        "\tprint('Probably dependent')"
      ],
      "metadata": {
        "id": "IwWChbwR6Uws"
      },
      "execution_count": null,
      "outputs": []
    },
    {
      "cell_type": "markdown",
      "source": [
        "The results shows the pearson correlation coefficient(r): -0.0104 while Two-tailed p-value is 0.2244.\n",
        "\n",
        "This shows that there is no association between the two variable since the correlation coefficient= -0.\n",
        "The p-value is having 0.2244 which is greater that 0.05. this also shows that there is no statistical significant association between the two variable."
      ],
      "metadata": {
        "id": "MekCBr3CVqoM"
      }
    },
    {
      "cell_type": "code",
      "source": [
        "#Testing the linear relatioship between the two variable A and C\n",
        "pearsonr(A,C)"
      ],
      "metadata": {
        "id": "yb6Z9SGS5fsX"
      },
      "execution_count": null,
      "outputs": []
    },
    {
      "cell_type": "code",
      "source": [
        "stat, p = pearsonr(A, C)\n",
        "print('stat=%.3f, p=%.3f' % (stat, p))\n",
        "if p > 0.05:\n",
        "\tprint('Probably independent')\n",
        "else:\n",
        "\tprint('Probably dependent')"
      ],
      "metadata": {
        "id": "dR6rc05-51pI"
      },
      "execution_count": null,
      "outputs": []
    },
    {
      "cell_type": "markdown",
      "source": [
        "The results shows the pearson correlation coefficient(r): -0.17747 while Two-tailed p-value is 0.000.\n",
        "\n",
        "This shows that there is a association between the two variable since the correlation coefficient= -0. The p-value is having 0.000 which is less than that 0.05. this also shows that there is a statistical significant association between the two variable."
      ],
      "metadata": {
        "id": "5qod9pc-7Kjc"
      }
    },
    {
      "cell_type": "code",
      "source": [
        "#Testing the linear relatioship between the two variable B and C\n",
        "pearsonr(B,C)"
      ],
      "metadata": {
        "id": "-T8rQi2Z74BW"
      },
      "execution_count": null,
      "outputs": []
    },
    {
      "cell_type": "code",
      "source": [
        "stat, p = pearsonr(B, C)\n",
        "print('stat=%.3f, p=%.3f' % (stat, p))\n",
        "if p > 0.05:\n",
        "\tprint('Probably independent')\n",
        "else:\n",
        "\tprint('Probably dependent')"
      ],
      "metadata": {
        "id": "oBc3BE9W8KBm"
      },
      "execution_count": null,
      "outputs": []
    },
    {
      "cell_type": "markdown",
      "source": [
        "This also shows that there is an association or correlation between the two variables."
      ],
      "metadata": {
        "id": "iQoq2mKv8PuX"
      }
    },
    {
      "cell_type": "code",
      "source": [
        "#line plot for intentional homicides and suicide rate\n",
        "lineplot =Data1[['Intentional homicides (per 100,000 people)','Suicide mortality rate (per 100,000 population)']]\n",
        "lineplot.plot.line(figsize=(20,10))"
      ],
      "metadata": {
        "id": "fGXjLeUCYan8"
      },
      "execution_count": null,
      "outputs": []
    },
    {
      "cell_type": "markdown",
      "source": [
        "From the line chat, there is no strong relationship or correlation between the intentional homicide and suicide mortality rate. Suicide rate has shown decrease in variables over the years while intentional homicide keeps flunctuating compared to suicide rate.\n"
      ],
      "metadata": {
        "id": "yxhfHUlRiqHX"
      }
    },
    {
      "cell_type": "markdown",
      "source": [
        "using scattered plots to further understand the realtionship or correlation between the two variale (intentional homicide and suicide mortality rate)"
      ],
      "metadata": {
        "id": "eVJxuz8CkaIf"
      }
    },
    {
      "cell_type": "code",
      "source": [
        "plt.scatter(Data1['Intentional homicides (per 100,000 people)'], Data1['Suicide mortality rate (per 100,000 population)'], color='black')\n",
        "plt.xlabel(\"Intentional Homicide\")\n",
        "plt.ylabel(\"Suicide Mortality rate\")\n",
        "plt.title(\"Intentional Homicide Vs Suicide Mortality rate\")\n",
        "plt.show()\n"
      ],
      "metadata": {
        "id": "ljmeh9-ngASR"
      },
      "execution_count": null,
      "outputs": []
    },
    {
      "cell_type": "markdown",
      "source": [
        "We can also see that there is no strong linear relationship in thescattered plot generated between the two variables. "
      ],
      "metadata": {
        "id": "4oYrPkM5fYvr"
      }
    },
    {
      "cell_type": "code",
      "source": [
        "sns.regplot(Data1['Intentional homicides (per 100,000 people)'], Data1['Suicide mortality rate (per 100,000 population)'], color='black')\n",
        "plt.xlabel(\"intentional homicide\")\n",
        "plt.ylabel(\"Suicide Mortality rate\")\n",
        "plt.title(\"Intentional Homicide Vs Suicide Mortality rate\")\n",
        "plt.show()\n"
      ],
      "metadata": {
        "id": "ZapdZL3IfZub"
      },
      "execution_count": null,
      "outputs": []
    },
    {
      "cell_type": "markdown",
      "source": [
        "From the replot, this shows that the regression line did not fit the data set properly but tends to move towards the intentional homicide."
      ],
      "metadata": {
        "id": "45YiEeaJf6Uh"
      }
    },
    {
      "cell_type": "code",
      "source": [
        "sns.heatmap(Data1.corr(),yticklabels=False, cbar=True, cmap=\"YlGnBu\",annot=True,)"
      ],
      "metadata": {
        "id": "cU3rSXhrd-68"
      },
      "execution_count": null,
      "outputs": []
    },
    {
      "cell_type": "markdown",
      "source": [
        "The correlation heatmap diagram obtained shows that the maximum correlation calculated between intentional homicide andsuicide mortality rate is -0.01. This is no correllation or association between the two variable.\n",
        "\n",
        "while the correlation between the suicide moratlity rate and the GDP tends to increase over the years from 0.037 to 0.052. this show an improved sign of association between suicide mortality rate and the countries GDP.\n"
      ],
      "metadata": {
        "id": "W77wyUBblo8h"
      }
    },
    {
      "cell_type": "markdown",
      "source": [
        "# **Analyzing the Intentional Homicide and suicide mortality rate against the GDP percapita income  with Exploratory data analysis(EDA)**"
      ],
      "metadata": {
        "id": "jDeQGis_MBpw"
      }
    },
    {
      "cell_type": "code",
      "source": [
        "# plotting lineplot to know the intentional homicide behaviour over the years\n",
        "sns.lineplot( x = \"year\",\n",
        "             y = \"Intentional homicides (per 100,000 people)\",\n",
        "             data =Data1 );"
      ],
      "metadata": {
        "colab": {
          "base_uri": "https://localhost:8080/",
          "height": 227
        },
        "id": "ViU9usG-Nm-e",
        "outputId": "5f0d2698-ba28-4449-f4c0-90a8d2e0f8fd"
      },
      "execution_count": null,
      "outputs": [
        {
          "output_type": "error",
          "ename": "NameError",
          "evalue": "ignored",
          "traceback": [
            "\u001b[0;31m---------------------------------------------------------------------------\u001b[0m",
            "\u001b[0;31mNameError\u001b[0m                                 Traceback (most recent call last)",
            "\u001b[0;32m<ipython-input-1-8576c3fe3152>\u001b[0m in \u001b[0;36m<module>\u001b[0;34m\u001b[0m\n\u001b[1;32m      1\u001b[0m \u001b[0;31m# plotting lineplot to know the intentional homicide behaviour over the years\u001b[0m\u001b[0;34m\u001b[0m\u001b[0;34m\u001b[0m\u001b[0;34m\u001b[0m\u001b[0m\n\u001b[0;32m----> 2\u001b[0;31m sns.lineplot( x = \"year\",\n\u001b[0m\u001b[1;32m      3\u001b[0m              \u001b[0my\u001b[0m \u001b[0;34m=\u001b[0m \u001b[0;34m\"Intentional homicides (per 100,000 people)\"\u001b[0m\u001b[0;34m,\u001b[0m\u001b[0;34m\u001b[0m\u001b[0;34m\u001b[0m\u001b[0m\n\u001b[1;32m      4\u001b[0m              data =Data1 );\n",
            "\u001b[0;31mNameError\u001b[0m: name 'sns' is not defined"
          ]
        }
      ]
    },
    {
      "cell_type": "markdown",
      "source": [
        "Here the intentional homicide little drop over the years. "
      ],
      "metadata": {
        "id": "U4RQ6ryt1API"
      }
    },
    {
      "cell_type": "code",
      "source": [
        "# plotting lineplot to know the suicide mortality rate behaviour over the years\n",
        "sns.lineplot( x = \"year\",\n",
        "             y = \"Suicide mortality rate (per 100,000 population)\",\n",
        "             data =Data1 );"
      ],
      "metadata": {
        "id": "HX70vs2CZFug"
      },
      "execution_count": null,
      "outputs": []
    },
    {
      "cell_type": "markdown",
      "source": [
        "Here there was much rate of dropage on suicide mortality rate over the years except in the year 2020 which tends to rise up again."
      ],
      "metadata": {
        "id": "O6vIUN2e1sF6"
      }
    },
    {
      "cell_type": "code",
      "source": [
        "# plotting lineplot to know the GDP (current US$) behaviour over the years\n",
        "sns.lineplot( x = \"year\",\n",
        "             y = \"GDP (current US$)\",\n",
        "             data =Data1 );"
      ],
      "metadata": {
        "id": "wEzN2KWbZZvZ"
      },
      "execution_count": null,
      "outputs": []
    },
    {
      "cell_type": "markdown",
      "source": [
        "The GDP current USD shows an increase in the line graph over the years."
      ],
      "metadata": {
        "id": "eEzcSe7v2VwQ"
      }
    },
    {
      "cell_type": "code",
      "source": [
        "# plotting lineplot to know the GDP per capita, PPP (current international $) behaviour over the years\n",
        "sns.lineplot( x = \"year\",\n",
        "             y = \"GDP per capita, PPP (current international $)\",\n",
        "             data =Data1 );"
      ],
      "metadata": {
        "id": "r9emCk8EZvL0"
      },
      "execution_count": null,
      "outputs": []
    },
    {
      "cell_type": "markdown",
      "source": [
        "GDP per capita, PPP (current international $) rate increase tremendiously from 1990 to 2020.\n",
        "But there was also a little drop of the rate in the year 2020.\n",
        "\n",
        "In general, the graphical representation demonstrates that the deliberate homicide and suicide death rates statistically decline over time as the GDP (current US dollars) and GDP per capita, PPP (current international dollars) rates rise."
      ],
      "metadata": {
        "id": "rbQne-uB26Bk"
      }
    },
    {
      "cell_type": "markdown",
      "source": [
        "**Intentional homicide against GDP per capita, PPP (current international $)**"
      ],
      "metadata": {
        "id": "wiYXWoSMaPoO"
      }
    },
    {
      "cell_type": "code",
      "source": [
        "# plotting lineplot to know the Intentional homicide against GDP per capita, PPP (current international $ behaviour over the years\n",
        "sns.lineplot( x = \"GDP per capita, PPP (current international $)\",\n",
        "             y = \"Intentional homicides (per 100,000 people)\",\n",
        "             data =Data1 );"
      ],
      "metadata": {
        "id": "kHFifQVxalSl"
      },
      "execution_count": null,
      "outputs": []
    },
    {
      "cell_type": "code",
      "source": [
        "plt.figure(figsize=(10,4))\n",
        "sns.regplot(x='GDP per capita, PPP (current international $)',y='Intentional homicides (per 100,000 people)',data= Data1)\n",
        "plt.show()"
      ],
      "metadata": {
        "id": "LTms0qrygHIK"
      },
      "execution_count": null,
      "outputs": []
    },
    {
      "cell_type": "markdown",
      "source": [
        "From the two diagram shown( the line plot and replot) indicate that most of the homicide statistic occurs below 100,000 GDP per capita. this simply means that Country with less GDP per capita less than 100000 have high rate of homicide while country with high GDP per capita have less high rate of homicide "
      ],
      "metadata": {
        "id": "NmWcMGK0WV8D"
      }
    },
    {
      "cell_type": "markdown",
      "source": [
        "**Suicide Mortality rate against GDP per capita, PPP (current international $)**"
      ],
      "metadata": {
        "id": "-kefoZT0hMlC"
      }
    },
    {
      "cell_type": "code",
      "source": [
        "# plotting lineplot to know the Suicide mortality rate against GDP per capita, PPP (current international $ behaviour over the years\n",
        "sns.lineplot( x = \"GDP per capita, PPP (current international $)\",\n",
        "             y = \"Suicide mortality rate (per 100,000 population)\",\n",
        "             data =Data1 );"
      ],
      "metadata": {
        "id": "015O_vLQhX0k"
      },
      "execution_count": null,
      "outputs": []
    },
    {
      "cell_type": "code",
      "source": [
        "plt.figure(figsize=(10,4))\n",
        "sns.regplot(x='GDP per capita, PPP (current international $)',y='Suicide mortality rate (per 100,000 population)',data= Data1,)\n",
        "plt.show()"
      ],
      "metadata": {
        "id": "jcD903YbhxYH"
      },
      "execution_count": null,
      "outputs": []
    },
    {
      "cell_type": "markdown",
      "source": [
        "This also applicable with suicide mortality rate. From the two diagram shown( the line plot and replot) indicate that most of the suicide statistic occurs below 100,000 GDP per capita. this simply means that Country with less GDP per capita less than 100000 have high rate of suicide  while country with high GDP per capita have less high rate of suicide mortality"
      ],
      "metadata": {
        "id": "UbWXIqQ8YIND"
      }
    },
    {
      "cell_type": "code",
      "source": [
        "plt.figure(figsize=(20,10))\n",
        "sns.kdeplot(data=Data1, x=\"Intentional homicides (per 100,000 people)\", hue=\"incomeLevel\", multiple=\"stack\")"
      ],
      "metadata": {
        "id": "OmhiyQjJxndu"
      },
      "execution_count": null,
      "outputs": []
    },
    {
      "cell_type": "markdown",
      "source": [
        "Upper and lower middle income are more likely to commit homicide because of the high density"
      ],
      "metadata": {
        "id": "znFP4Ob1ZQ7n"
      }
    },
    {
      "cell_type": "code",
      "source": [
        "plt.figure(figsize=(20,10))\n",
        "sns.kdeplot(data=Data1, x=\"Suicide mortality rate (per 100,000 population)\", hue=\"incomeLevel\", multiple=\"stack\")"
      ],
      "metadata": {
        "id": "gF12ihJTytX1"
      },
      "execution_count": null,
      "outputs": []
    },
    {
      "cell_type": "markdown",
      "source": [
        "Higher income, upper and lower middle income are more likely to commit suicide"
      ],
      "metadata": {
        "id": "LAt5uF6JatL-"
      }
    },
    {
      "cell_type": "markdown",
      "source": [
        "# **Further Exploratory Data Analysis**"
      ],
      "metadata": {
        "id": "PvQAPzDj7xJ0"
      }
    },
    {
      "cell_type": "code",
      "source": [
        "mean_data1 = pd.DataFrame(Data1.groupby(['adminregion', 'incomeLevel'])['Suicide mortality rate (per 100,000 population)'].mean().reset_index())\n",
        "mean_data1"
      ],
      "metadata": {
        "colab": {
          "base_uri": "https://localhost:8080/",
          "height": 551
        },
        "id": "NZN31SKU-2H6",
        "outputId": "0edd471e-ca6c-4040-dfdf-40473910dd19"
      },
      "execution_count": null,
      "outputs": [
        {
          "output_type": "execute_result",
          "data": {
            "text/plain": [
              "                                          adminregion          incomeLevel  \\\n",
              "0         East Asia & Pacific (excluding high income)           Low income   \n",
              "1         East Asia & Pacific (excluding high income)  Lower middle income   \n",
              "2         East Asia & Pacific (excluding high income)  Upper middle income   \n",
              "3       Europe & Central Asia (excluding high income)  Lower middle income   \n",
              "4       Europe & Central Asia (excluding high income)  Upper middle income   \n",
              "5   Latin America & Caribbean (excluding high income)  Lower middle income   \n",
              "6   Latin America & Caribbean (excluding high income)  Upper middle income   \n",
              "7   Middle East & North Africa (excluding high inc...           Low income   \n",
              "8   Middle East & North Africa (excluding high inc...  Lower middle income   \n",
              "9   Middle East & North Africa (excluding high inc...  Upper middle income   \n",
              "10                                         South Asia           Low income   \n",
              "11                                         South Asia  Lower middle income   \n",
              "12                                         South Asia  Upper middle income   \n",
              "13         Sub-Saharan Africa (excluding high income)           Low income   \n",
              "14         Sub-Saharan Africa (excluding high income)  Lower middle income   \n",
              "15         Sub-Saharan Africa (excluding high income)  Upper middle income   \n",
              "\n",
              "    Suicide mortality rate (per 100,000 population)  \n",
              "0                                         10.151042  \n",
              "1                                         10.785636  \n",
              "2                                          9.828287  \n",
              "3                                         11.517219  \n",
              "4                                         12.201452  \n",
              "5                                          8.773591  \n",
              "6                                          9.772410  \n",
              "7                                          7.855944  \n",
              "8                                          8.874866  \n",
              "9                                          7.744670  \n",
              "10                                         8.158885  \n",
              "11                                        10.296140  \n",
              "12                                         7.592219  \n",
              "13                                         9.386080  \n",
              "14                                        11.354201  \n",
              "15                                        12.460192  "
            ],
            "text/html": [
              "\n",
              "  <div id=\"df-681c354e-5b95-4896-93dd-03d4c69f296a\">\n",
              "    <div class=\"colab-df-container\">\n",
              "      <div>\n",
              "<style scoped>\n",
              "    .dataframe tbody tr th:only-of-type {\n",
              "        vertical-align: middle;\n",
              "    }\n",
              "\n",
              "    .dataframe tbody tr th {\n",
              "        vertical-align: top;\n",
              "    }\n",
              "\n",
              "    .dataframe thead th {\n",
              "        text-align: right;\n",
              "    }\n",
              "</style>\n",
              "<table border=\"1\" class=\"dataframe\">\n",
              "  <thead>\n",
              "    <tr style=\"text-align: right;\">\n",
              "      <th></th>\n",
              "      <th>adminregion</th>\n",
              "      <th>incomeLevel</th>\n",
              "      <th>Suicide mortality rate (per 100,000 population)</th>\n",
              "    </tr>\n",
              "  </thead>\n",
              "  <tbody>\n",
              "    <tr>\n",
              "      <th>0</th>\n",
              "      <td>East Asia &amp; Pacific (excluding high income)</td>\n",
              "      <td>Low income</td>\n",
              "      <td>10.151042</td>\n",
              "    </tr>\n",
              "    <tr>\n",
              "      <th>1</th>\n",
              "      <td>East Asia &amp; Pacific (excluding high income)</td>\n",
              "      <td>Lower middle income</td>\n",
              "      <td>10.785636</td>\n",
              "    </tr>\n",
              "    <tr>\n",
              "      <th>2</th>\n",
              "      <td>East Asia &amp; Pacific (excluding high income)</td>\n",
              "      <td>Upper middle income</td>\n",
              "      <td>9.828287</td>\n",
              "    </tr>\n",
              "    <tr>\n",
              "      <th>3</th>\n",
              "      <td>Europe &amp; Central Asia (excluding high income)</td>\n",
              "      <td>Lower middle income</td>\n",
              "      <td>11.517219</td>\n",
              "    </tr>\n",
              "    <tr>\n",
              "      <th>4</th>\n",
              "      <td>Europe &amp; Central Asia (excluding high income)</td>\n",
              "      <td>Upper middle income</td>\n",
              "      <td>12.201452</td>\n",
              "    </tr>\n",
              "    <tr>\n",
              "      <th>5</th>\n",
              "      <td>Latin America &amp; Caribbean (excluding high income)</td>\n",
              "      <td>Lower middle income</td>\n",
              "      <td>8.773591</td>\n",
              "    </tr>\n",
              "    <tr>\n",
              "      <th>6</th>\n",
              "      <td>Latin America &amp; Caribbean (excluding high income)</td>\n",
              "      <td>Upper middle income</td>\n",
              "      <td>9.772410</td>\n",
              "    </tr>\n",
              "    <tr>\n",
              "      <th>7</th>\n",
              "      <td>Middle East &amp; North Africa (excluding high inc...</td>\n",
              "      <td>Low income</td>\n",
              "      <td>7.855944</td>\n",
              "    </tr>\n",
              "    <tr>\n",
              "      <th>8</th>\n",
              "      <td>Middle East &amp; North Africa (excluding high inc...</td>\n",
              "      <td>Lower middle income</td>\n",
              "      <td>8.874866</td>\n",
              "    </tr>\n",
              "    <tr>\n",
              "      <th>9</th>\n",
              "      <td>Middle East &amp; North Africa (excluding high inc...</td>\n",
              "      <td>Upper middle income</td>\n",
              "      <td>7.744670</td>\n",
              "    </tr>\n",
              "    <tr>\n",
              "      <th>10</th>\n",
              "      <td>South Asia</td>\n",
              "      <td>Low income</td>\n",
              "      <td>8.158885</td>\n",
              "    </tr>\n",
              "    <tr>\n",
              "      <th>11</th>\n",
              "      <td>South Asia</td>\n",
              "      <td>Lower middle income</td>\n",
              "      <td>10.296140</td>\n",
              "    </tr>\n",
              "    <tr>\n",
              "      <th>12</th>\n",
              "      <td>South Asia</td>\n",
              "      <td>Upper middle income</td>\n",
              "      <td>7.592219</td>\n",
              "    </tr>\n",
              "    <tr>\n",
              "      <th>13</th>\n",
              "      <td>Sub-Saharan Africa (excluding high income)</td>\n",
              "      <td>Low income</td>\n",
              "      <td>9.386080</td>\n",
              "    </tr>\n",
              "    <tr>\n",
              "      <th>14</th>\n",
              "      <td>Sub-Saharan Africa (excluding high income)</td>\n",
              "      <td>Lower middle income</td>\n",
              "      <td>11.354201</td>\n",
              "    </tr>\n",
              "    <tr>\n",
              "      <th>15</th>\n",
              "      <td>Sub-Saharan Africa (excluding high income)</td>\n",
              "      <td>Upper middle income</td>\n",
              "      <td>12.460192</td>\n",
              "    </tr>\n",
              "  </tbody>\n",
              "</table>\n",
              "</div>\n",
              "      <button class=\"colab-df-convert\" onclick=\"convertToInteractive('df-681c354e-5b95-4896-93dd-03d4c69f296a')\"\n",
              "              title=\"Convert this dataframe to an interactive table.\"\n",
              "              style=\"display:none;\">\n",
              "        \n",
              "  <svg xmlns=\"http://www.w3.org/2000/svg\" height=\"24px\"viewBox=\"0 0 24 24\"\n",
              "       width=\"24px\">\n",
              "    <path d=\"M0 0h24v24H0V0z\" fill=\"none\"/>\n",
              "    <path d=\"M18.56 5.44l.94 2.06.94-2.06 2.06-.94-2.06-.94-.94-2.06-.94 2.06-2.06.94zm-11 1L8.5 8.5l.94-2.06 2.06-.94-2.06-.94L8.5 2.5l-.94 2.06-2.06.94zm10 10l.94 2.06.94-2.06 2.06-.94-2.06-.94-.94-2.06-.94 2.06-2.06.94z\"/><path d=\"M17.41 7.96l-1.37-1.37c-.4-.4-.92-.59-1.43-.59-.52 0-1.04.2-1.43.59L10.3 9.45l-7.72 7.72c-.78.78-.78 2.05 0 2.83L4 21.41c.39.39.9.59 1.41.59.51 0 1.02-.2 1.41-.59l7.78-7.78 2.81-2.81c.8-.78.8-2.07 0-2.86zM5.41 20L4 18.59l7.72-7.72 1.47 1.35L5.41 20z\"/>\n",
              "  </svg>\n",
              "      </button>\n",
              "      \n",
              "  <style>\n",
              "    .colab-df-container {\n",
              "      display:flex;\n",
              "      flex-wrap:wrap;\n",
              "      gap: 12px;\n",
              "    }\n",
              "\n",
              "    .colab-df-convert {\n",
              "      background-color: #E8F0FE;\n",
              "      border: none;\n",
              "      border-radius: 50%;\n",
              "      cursor: pointer;\n",
              "      display: none;\n",
              "      fill: #1967D2;\n",
              "      height: 32px;\n",
              "      padding: 0 0 0 0;\n",
              "      width: 32px;\n",
              "    }\n",
              "\n",
              "    .colab-df-convert:hover {\n",
              "      background-color: #E2EBFA;\n",
              "      box-shadow: 0px 1px 2px rgba(60, 64, 67, 0.3), 0px 1px 3px 1px rgba(60, 64, 67, 0.15);\n",
              "      fill: #174EA6;\n",
              "    }\n",
              "\n",
              "    [theme=dark] .colab-df-convert {\n",
              "      background-color: #3B4455;\n",
              "      fill: #D2E3FC;\n",
              "    }\n",
              "\n",
              "    [theme=dark] .colab-df-convert:hover {\n",
              "      background-color: #434B5C;\n",
              "      box-shadow: 0px 1px 3px 1px rgba(0, 0, 0, 0.15);\n",
              "      filter: drop-shadow(0px 1px 2px rgba(0, 0, 0, 0.3));\n",
              "      fill: #FFFFFF;\n",
              "    }\n",
              "  </style>\n",
              "\n",
              "      <script>\n",
              "        const buttonEl =\n",
              "          document.querySelector('#df-681c354e-5b95-4896-93dd-03d4c69f296a button.colab-df-convert');\n",
              "        buttonEl.style.display =\n",
              "          google.colab.kernel.accessAllowed ? 'block' : 'none';\n",
              "\n",
              "        async function convertToInteractive(key) {\n",
              "          const element = document.querySelector('#df-681c354e-5b95-4896-93dd-03d4c69f296a');\n",
              "          const dataTable =\n",
              "            await google.colab.kernel.invokeFunction('convertToInteractive',\n",
              "                                                     [key], {});\n",
              "          if (!dataTable) return;\n",
              "\n",
              "          const docLinkHtml = 'Like what you see? Visit the ' +\n",
              "            '<a target=\"_blank\" href=https://colab.research.google.com/notebooks/data_table.ipynb>data table notebook</a>'\n",
              "            + ' to learn more about interactive tables.';\n",
              "          element.innerHTML = '';\n",
              "          dataTable['output_type'] = 'display_data';\n",
              "          await google.colab.output.renderOutput(dataTable, element);\n",
              "          const docLink = document.createElement('div');\n",
              "          docLink.innerHTML = docLinkHtml;\n",
              "          element.appendChild(docLink);\n",
              "        }\n",
              "      </script>\n",
              "    </div>\n",
              "  </div>\n",
              "  "
            ]
          },
          "metadata": {},
          "execution_count": 24
        }
      ]
    },
    {
      "cell_type": "markdown",
      "source": [
        "Here we can see the different regions with there income level and suicide mortality rate been displayed. lets take this into a chart and see the level of suicide rate and how they can be grouped with there income level.\n"
      ],
      "metadata": {
        "id": "1UpQT5aaCnzp"
      }
    },
    {
      "cell_type": "code",
      "source": [
        "plt.figure(figsize = (30,15),dpi=200)\n",
        "sns.barplot(x='adminregion', y='Suicide mortality rate (per 100,000 population)',hue='incomeLevel',data=mean_data1)\n"
      ],
      "metadata": {
        "colab": {
          "base_uri": "https://localhost:8080/",
          "height": 656
        },
        "id": "Hgx_kAqcgEWv",
        "outputId": "735fdb9e-25dc-4fd5-9406-5901ad74f1c9"
      },
      "execution_count": null,
      "outputs": [
        {
          "output_type": "execute_result",
          "data": {
            "text/plain": [
              "<matplotlib.axes._subplots.AxesSubplot at 0x7f987dc5ec50>"
            ]
          },
          "metadata": {},
          "execution_count": 29
        },
        {
          "output_type": "display_data",
          "data": {
            "text/plain": [
              "<Figure size 6000x3000 with 1 Axes>"
            ],
            "image/png": "[encoded data removed]"
          },
          "metadata": {
            "needs_background": "light"
          }
        }
      ]
    },
    {
      "cell_type": "markdown",
      "source": [
        "From the barplot above,the middle East and north africa demonstrate the least low income, lower and upper middle income from the distribution.\n",
        "\n",
        "Europe and central asia records no low income earner and display high distributions inlower and upper middle income.This analyzed that the GDP per capita in this region is high.\n",
        "\n",
        "In General, the level of income rate in all region tends to move up as the suicide mortality rate increases.\n"
      ],
      "metadata": {
        "id": "0sqPF8S5gQ_o"
      }
    },
    {
      "cell_type": "code",
      "source": [
        "mean_data1 = pd.DataFrame(Data1.groupby(['adminregion', 'incomeLevel'])['Intentional homicides (per 100,000 people)'].mean().reset_index())\n",
        "mean_data1"
      ],
      "metadata": {
        "colab": {
          "base_uri": "https://localhost:8080/",
          "height": 551
        },
        "id": "r9U0AJVFlzyO",
        "outputId": "5610f02f-d0a7-47d9-caa4-8395704dae9e"
      },
      "execution_count": null,
      "outputs": [
        {
          "output_type": "execute_result",
          "data": {
            "text/plain": [
              "                                          adminregion          incomeLevel  \\\n",
              "0         East Asia & Pacific (excluding high income)           Low income   \n",
              "1         East Asia & Pacific (excluding high income)  Lower middle income   \n",
              "2         East Asia & Pacific (excluding high income)  Upper middle income   \n",
              "3       Europe & Central Asia (excluding high income)  Lower middle income   \n",
              "4       Europe & Central Asia (excluding high income)  Upper middle income   \n",
              "5   Latin America & Caribbean (excluding high income)  Lower middle income   \n",
              "6   Latin America & Caribbean (excluding high income)  Upper middle income   \n",
              "7   Middle East & North Africa (excluding high inc...           Low income   \n",
              "8   Middle East & North Africa (excluding high inc...  Lower middle income   \n",
              "9   Middle East & North Africa (excluding high inc...  Upper middle income   \n",
              "10                                         South Asia           Low income   \n",
              "11                                         South Asia  Lower middle income   \n",
              "12                                         South Asia  Upper middle income   \n",
              "13         Sub-Saharan Africa (excluding high income)           Low income   \n",
              "14         Sub-Saharan Africa (excluding high income)  Lower middle income   \n",
              "15         Sub-Saharan Africa (excluding high income)  Upper middle income   \n",
              "\n",
              "    Intentional homicides (per 100,000 people)  \n",
              "0                                     8.044086  \n",
              "1                                     7.381988  \n",
              "2                                     6.567032  \n",
              "3                                     7.252946  \n",
              "4                                     7.063598  \n",
              "5                                    18.676774  \n",
              "6                                    13.185632  \n",
              "7                                     6.725481  \n",
              "8                                     6.391779  \n",
              "9                                     7.204565  \n",
              "10                                    7.709770  \n",
              "11                                    6.248193  \n",
              "12                                    6.380143  \n",
              "13                                    7.750113  \n",
              "14                                    8.375269  \n",
              "15                                   10.975546  "
            ],
            "text/html": [
              "\n",
              "  <div id=\"df-b125b7bb-70d9-47e9-9236-9dfb80f9ee78\">\n",
              "    <div class=\"colab-df-container\">\n",
              "      <div>\n",
              "<style scoped>\n",
              "    .dataframe tbody tr th:only-of-type {\n",
              "        vertical-align: middle;\n",
              "    }\n",
              "\n",
              "    .dataframe tbody tr th {\n",
              "        vertical-align: top;\n",
              "    }\n",
              "\n",
              "    .dataframe thead th {\n",
              "        text-align: right;\n",
              "    }\n",
              "</style>\n",
              "<table border=\"1\" class=\"dataframe\">\n",
              "  <thead>\n",
              "    <tr style=\"text-align: right;\">\n",
              "      <th></th>\n",
              "      <th>adminregion</th>\n",
              "      <th>incomeLevel</th>\n",
              "      <th>Intentional homicides (per 100,000 people)</th>\n",
              "    </tr>\n",
              "  </thead>\n",
              "  <tbody>\n",
              "    <tr>\n",
              "      <th>0</th>\n",
              "      <td>East Asia &amp; Pacific (excluding high income)</td>\n",
              "      <td>Low income</td>\n",
              "      <td>8.044086</td>\n",
              "    </tr>\n",
              "    <tr>\n",
              "      <th>1</th>\n",
              "      <td>East Asia &amp; Pacific (excluding high income)</td>\n",
              "      <td>Lower middle income</td>\n",
              "      <td>7.381988</td>\n",
              "    </tr>\n",
              "    <tr>\n",
              "      <th>2</th>\n",
              "      <td>East Asia &amp; Pacific (excluding high income)</td>\n",
              "      <td>Upper middle income</td>\n",
              "      <td>6.567032</td>\n",
              "    </tr>\n",
              "    <tr>\n",
              "      <th>3</th>\n",
              "      <td>Europe &amp; Central Asia (excluding high income)</td>\n",
              "      <td>Lower middle income</td>\n",
              "      <td>7.252946</td>\n",
              "    </tr>\n",
              "    <tr>\n",
              "      <th>4</th>\n",
              "      <td>Europe &amp; Central Asia (excluding high income)</td>\n",
              "      <td>Upper middle income</td>\n",
              "      <td>7.063598</td>\n",
              "    </tr>\n",
              "    <tr>\n",
              "      <th>5</th>\n",
              "      <td>Latin America &amp; Caribbean (excluding high income)</td>\n",
              "      <td>Lower middle income</td>\n",
              "      <td>18.676774</td>\n",
              "    </tr>\n",
              "    <tr>\n",
              "      <th>6</th>\n",
              "      <td>Latin America &amp; Caribbean (excluding high income)</td>\n",
              "      <td>Upper middle income</td>\n",
              "      <td>13.185632</td>\n",
              "    </tr>\n",
              "    <tr>\n",
              "      <th>7</th>\n",
              "      <td>Middle East &amp; North Africa (excluding high inc...</td>\n",
              "      <td>Low income</td>\n",
              "      <td>6.725481</td>\n",
              "    </tr>\n",
              "    <tr>\n",
              "      <th>8</th>\n",
              "      <td>Middle East &amp; North Africa (excluding high inc...</td>\n",
              "      <td>Lower middle income</td>\n",
              "      <td>6.391779</td>\n",
              "    </tr>\n",
              "    <tr>\n",
              "      <th>9</th>\n",
              "      <td>Middle East &amp; North Africa (excluding high inc...</td>\n",
              "      <td>Upper middle income</td>\n",
              "      <td>7.204565</td>\n",
              "    </tr>\n",
              "    <tr>\n",
              "      <th>10</th>\n",
              "      <td>South Asia</td>\n",
              "      <td>Low income</td>\n",
              "      <td>7.709770</td>\n",
              "    </tr>\n",
              "    <tr>\n",
              "      <th>11</th>\n",
              "      <td>South Asia</td>\n",
              "      <td>Lower middle income</td>\n",
              "      <td>6.248193</td>\n",
              "    </tr>\n",
              "    <tr>\n",
              "      <th>12</th>\n",
              "      <td>South Asia</td>\n",
              "      <td>Upper middle income</td>\n",
              "      <td>6.380143</td>\n",
              "    </tr>\n",
              "    <tr>\n",
              "      <th>13</th>\n",
              "      <td>Sub-Saharan Africa (excluding high income)</td>\n",
              "      <td>Low income</td>\n",
              "      <td>7.750113</td>\n",
              "    </tr>\n",
              "    <tr>\n",
              "      <th>14</th>\n",
              "      <td>Sub-Saharan Africa (excluding high income)</td>\n",
              "      <td>Lower middle income</td>\n",
              "      <td>8.375269</td>\n",
              "    </tr>\n",
              "    <tr>\n",
              "      <th>15</th>\n",
              "      <td>Sub-Saharan Africa (excluding high income)</td>\n",
              "      <td>Upper middle income</td>\n",
              "      <td>10.975546</td>\n",
              "    </tr>\n",
              "  </tbody>\n",
              "</table>\n",
              "</div>\n",
              "      <button class=\"colab-df-convert\" onclick=\"convertToInteractive('df-b125b7bb-70d9-47e9-9236-9dfb80f9ee78')\"\n",
              "              title=\"Convert this dataframe to an interactive table.\"\n",
              "              style=\"display:none;\">\n",
              "        \n",
              "  <svg xmlns=\"http://www.w3.org/2000/svg\" height=\"24px\"viewBox=\"0 0 24 24\"\n",
              "       width=\"24px\">\n",
              "    <path d=\"M0 0h24v24H0V0z\" fill=\"none\"/>\n",
              "    <path d=\"M18.56 5.44l.94 2.06.94-2.06 2.06-.94-2.06-.94-.94-2.06-.94 2.06-2.06.94zm-11 1L8.5 8.5l.94-2.06 2.06-.94-2.06-.94L8.5 2.5l-.94 2.06-2.06.94zm10 10l.94 2.06.94-2.06 2.06-.94-2.06-.94-.94-2.06-.94 2.06-2.06.94z\"/><path d=\"M17.41 7.96l-1.37-1.37c-.4-.4-.92-.59-1.43-.59-.52 0-1.04.2-1.43.59L10.3 9.45l-7.72 7.72c-.78.78-.78 2.05 0 2.83L4 21.41c.39.39.9.59 1.41.59.51 0 1.02-.2 1.41-.59l7.78-7.78 2.81-2.81c.8-.78.8-2.07 0-2.86zM5.41 20L4 18.59l7.72-7.72 1.47 1.35L5.41 20z\"/>\n",
              "  </svg>\n",
              "      </button>\n",
              "      \n",
              "  <style>\n",
              "    .colab-df-container {\n",
              "      display:flex;\n",
              "      flex-wrap:wrap;\n",
              "      gap: 12px;\n",
              "    }\n",
              "\n",
              "    .colab-df-convert {\n",
              "      background-color: #E8F0FE;\n",
              "      border: none;\n",
              "      border-radius: 50%;\n",
              "      cursor: pointer;\n",
              "      display: none;\n",
              "      fill: #1967D2;\n",
              "      height: 32px;\n",
              "      padding: 0 0 0 0;\n",
              "      width: 32px;\n",
              "    }\n",
              "\n",
              "    .colab-df-convert:hover {\n",
              "      background-color: #E2EBFA;\n",
              "      box-shadow: 0px 1px 2px rgba(60, 64, 67, 0.3), 0px 1px 3px 1px rgba(60, 64, 67, 0.15);\n",
              "      fill: #174EA6;\n",
              "    }\n",
              "\n",
              "    [theme=dark] .colab-df-convert {\n",
              "      background-color: #3B4455;\n",
              "      fill: #D2E3FC;\n",
              "    }\n",
              "\n",
              "    [theme=dark] .colab-df-convert:hover {\n",
              "      background-color: #434B5C;\n",
              "      box-shadow: 0px 1px 3px 1px rgba(0, 0, 0, 0.15);\n",
              "      filter: drop-shadow(0px 1px 2px rgba(0, 0, 0, 0.3));\n",
              "      fill: #FFFFFF;\n",
              "    }\n",
              "  </style>\n",
              "\n",
              "      <script>\n",
              "        const buttonEl =\n",
              "          document.querySelector('#df-b125b7bb-70d9-47e9-9236-9dfb80f9ee78 button.colab-df-convert');\n",
              "        buttonEl.style.display =\n",
              "          google.colab.kernel.accessAllowed ? 'block' : 'none';\n",
              "\n",
              "        async function convertToInteractive(key) {\n",
              "          const element = document.querySelector('#df-b125b7bb-70d9-47e9-9236-9dfb80f9ee78');\n",
              "          const dataTable =\n",
              "            await google.colab.kernel.invokeFunction('convertToInteractive',\n",
              "                                                     [key], {});\n",
              "          if (!dataTable) return;\n",
              "\n",
              "          const docLinkHtml = 'Like what you see? Visit the ' +\n",
              "            '<a target=\"_blank\" href=https://colab.research.google.com/notebooks/data_table.ipynb>data table notebook</a>'\n",
              "            + ' to learn more about interactive tables.';\n",
              "          element.innerHTML = '';\n",
              "          dataTable['output_type'] = 'display_data';\n",
              "          await google.colab.output.renderOutput(dataTable, element);\n",
              "          const docLink = document.createElement('div');\n",
              "          docLink.innerHTML = docLinkHtml;\n",
              "          element.appendChild(docLink);\n",
              "        }\n",
              "      </script>\n",
              "    </div>\n",
              "  </div>\n",
              "  "
            ]
          },
          "metadata": {},
          "execution_count": 32
        }
      ]
    },
    {
      "cell_type": "code",
      "source": [
        "plt.figure(figsize = (30,15),dpi=200)\n",
        "sns.barplot(x='adminregion', y='Intentional homicides (per 100,000 people)',hue='incomeLevel',data=mean_data1)"
      ],
      "metadata": {
        "colab": {
          "base_uri": "https://localhost:8080/",
          "height": 653
        },
        "id": "mxD0TpqtlUP8",
        "outputId": "d0bfcadc-01d8-415f-9799-e30f610b868f"
      },
      "execution_count": null,
      "outputs": [
        {
          "output_type": "execute_result",
          "data": {
            "text/plain": [
              "<matplotlib.axes._subplots.AxesSubplot at 0x7f987deb4590>"
            ]
          },
          "metadata": {},
          "execution_count": 33
        },
        {
          "output_type": "display_data",
          "data": {
            "text/plain": [
              "<Figure size 6000x3000 with 1 Axes>"
            ],
            "image/png": "[encoded data removed]"
          },
          "metadata": {
            "needs_background": "light"
          }
        }
      ]
    },
    {
      "cell_type": "markdown",
      "source": [
        "the level of income rate in all region is lower as the intentional homicide increase except for the latin America and caribbean region which have an higher lower and upper middle income rate.\n",
        "\n",
        "This as shown that as the GDP per capital increases in all region over the time, the rate of intentional homicide decreases.\n"
      ],
      "metadata": {
        "id": "Pt39f6lR2wDU"
      }
    },
    {
      "cell_type": "markdown",
      "source": [
        "**ANALYSIS MODEL**\n",
        "\n",
        "Although the data set may not meet the data quality metrics for the best accuracy prediction between intentional homicide, suicide rate against the GDP per capita.\n",
        "\n",
        "However the prediction model will still be carried out. A simple regression that consist of two viarable (i.e. input and output) will be carried out on the data set.\n",
        "\n",
        "The intentional homicide against GDP per capital and suicide mortality rate against GDP per capita will be analyzed using simple regression simulteneously for the prediction."
      ],
      "metadata": {
        "id": "9pWNeppNc0po"
      }
    },
    {
      "cell_type": "code",
      "source": [
        "#Lets define the input variable (X) for Intentional homicide as array\n",
        "X=np.asarray(A)\n",
        "X[0:5]\n"
      ],
      "metadata": {
        "colab": {
          "base_uri": "https://localhost:8080/"
        },
        "id": "bDBi7qJ6sK9G",
        "outputId": "dcb436dd-2f0f-43cd-afda-9ac327109104"
      },
      "execution_count": null,
      "outputs": [
        {
          "output_type": "execute_result",
          "data": {
            "text/plain": [
              "array([8.04408554, 8.04408554, 8.04408554, 8.04408554, 8.04408554])"
            ]
          },
          "metadata": {},
          "execution_count": 32
        }
      ]
    },
    {
      "cell_type": "code",
      "source": [
        "X1=X.reshape(-1,2)\n",
        "X1[0:5]"
      ],
      "metadata": {
        "colab": {
          "base_uri": "https://localhost:8080/"
        },
        "id": "gn0LYWO7RHyX",
        "outputId": "2dcf712a-bd58-4876-9339-409161cdefb6"
      },
      "execution_count": null,
      "outputs": [
        {
          "output_type": "execute_result",
          "data": {
            "text/plain": [
              "array([[8.04408554, 8.04408554],\n",
              "       [8.04408554, 8.04408554],\n",
              "       [8.04408554, 8.04408554],\n",
              "       [8.04408554, 8.04408554],\n",
              "       [8.04408554, 8.04408554]])"
            ]
          },
          "metadata": {},
          "execution_count": 33
        }
      ]
    },
    {
      "cell_type": "markdown",
      "source": [
        "feature scaling will not be carried out on X array to avoid over-fitting."
      ],
      "metadata": {
        "id": "KcaAGhfOvgL4"
      }
    },
    {
      "cell_type": "code",
      "source": [
        "#Lets define the input variable (Y) for Intentional homicide as array\n",
        "Y=np.asarray(Data1['GDP per capita, PPP (current international $)'])\n",
        "Y[0:5]\n"
      ],
      "metadata": {
        "colab": {
          "base_uri": "https://localhost:8080/"
        },
        "id": "5wboqT91t7ta",
        "outputId": "ea6e89ff-7c72-4beb-db3f-d33284980c2c"
      },
      "execution_count": null,
      "outputs": [
        {
          "output_type": "execute_result",
          "data": {
            "text/plain": [
              "array([14326.35125842, 14326.35125842, 14326.35125842, 14326.35125842,\n",
              "       14326.35125842])"
            ]
          },
          "metadata": {},
          "execution_count": 34
        }
      ]
    },
    {
      "cell_type": "code",
      "source": [
        "Y1=Y.reshape(-1,2)\n",
        "Y1[0:5]"
      ],
      "metadata": {
        "colab": {
          "base_uri": "https://localhost:8080/"
        },
        "id": "MVTaANkQRU1P",
        "outputId": "91de0093-d5c1-45ce-d8c7-c22dfec1a658"
      },
      "execution_count": null,
      "outputs": [
        {
          "output_type": "execute_result",
          "data": {
            "text/plain": [
              "array([[14326.35125842, 14326.35125842],\n",
              "       [14326.35125842, 14326.35125842],\n",
              "       [14326.35125842, 14326.35125842],\n",
              "       [14326.35125842, 14326.35125842],\n",
              "       [14326.35125842, 14326.35125842]])"
            ]
          },
          "metadata": {},
          "execution_count": 45
        }
      ]
    },
    {
      "cell_type": "markdown",
      "source": [
        "# **Train Test Split**\n",
        "\n",
        "The datasets is split into two. one for the training the model and the second one for testing so as to evaluate the perfomance of the model.20% of the data will be used to test the model, and the remaining 80% will be used to train it."
      ],
      "metadata": {
        "id": "hWN4uPh3EW0Y"
      }
    },
    {
      "cell_type": "code",
      "source": [
        "#train test split \n",
        "X1_train, X1_test, Y1_train, Y1_test=train_test_split(X1, Y1, test_size=0.2)\n"
      ],
      "metadata": {
        "id": "SGT4nnjBF3oQ"
      },
      "execution_count": null,
      "outputs": []
    },
    {
      "cell_type": "markdown",
      "source": [],
      "metadata": {
        "id": "CWnp862LHOze"
      }
    },
    {
      "cell_type": "markdown",
      "source": [
        "# **Linear Regression**\n",
        "\n",
        "The expectation behind the development of the linear regression model is that the ratio of homicides and suicides to GDP per capita will be inverse. According to the theory, individuals are happy when their level of life improves, hence the suicide rate decreases as living standards rise."
      ],
      "metadata": {
        "id": "3LpOHZdPwNdy"
      }
    },
    {
      "cell_type": "code",
      "source": [
        "#Creating the Linear Regression model\n",
        "from sklearn import linear_model\n",
        "model=linear_model.LinearRegression()\n",
        "model.fit(X1_train,Y1_train)"
      ],
      "metadata": {
        "colab": {
          "base_uri": "https://localhost:8080/"
        },
        "id": "hCl5_qlOLzvb",
        "outputId": "3cb4ecbb-95e4-44f8-f2de-5f9a96ae244e"
      },
      "execution_count": null,
      "outputs": [
        {
          "output_type": "execute_result",
          "data": {
            "text/plain": [
              "LinearRegression()"
            ]
          },
          "metadata": {},
          "execution_count": 47
        }
      ]
    },
    {
      "cell_type": "markdown",
      "source": [
        "# **Getting Results**"
      ],
      "metadata": {
        "id": "Mi8R2N56R7Am"
      }
    },
    {
      "cell_type": "code",
      "source": [
        "#Intercept\n",
        "print('intercept:', model.intercept_)"
      ],
      "metadata": {
        "colab": {
          "base_uri": "https://localhost:8080/"
        },
        "id": "BZS6_WguR_V2",
        "outputId": "824f051c-85b2-433d-faff-f10dccd8c70c"
      },
      "execution_count": null,
      "outputs": [
        {
          "output_type": "stream",
          "name": "stdout",
          "text": [
            "intercept: [17375.01489619 17499.90313996]\n"
          ]
        }
      ]
    },
    {
      "cell_type": "code",
      "source": [
        "#Slope\n",
        "print('slope:', model.coef_)"
      ],
      "metadata": {
        "colab": {
          "base_uri": "https://localhost:8080/"
        },
        "id": "dloICz2fSIsk",
        "outputId": "f4966694-6a61-4803-cfa8-a6dd5b60464f"
      },
      "execution_count": null,
      "outputs": [
        {
          "output_type": "stream",
          "name": "stdout",
          "text": [
            "slope: [[-341.07675625  -39.82703669]\n",
            " [-329.72463676  -66.27348278]]\n"
          ]
        }
      ]
    },
    {
      "cell_type": "code",
      "source": [
        "#Predict response\n",
        "y_pred = model.predict(X1_test)\n",
        "y_pred[0:5]"
      ],
      "metadata": {
        "colab": {
          "base_uri": "https://localhost:8080/"
        },
        "id": "QyGeARCPSRin",
        "outputId": "723647e6-0023-45f2-ac0e-d4cba84d6991"
      },
      "execution_count": null,
      "outputs": [
        {
          "output_type": "execute_result",
          "data": {
            "text/plain": [
              "array([[10561.70050737, 10689.95705183],\n",
              "       [14310.99220278, 14314.46039225],\n",
              "       [14310.99220278, 14314.46039225],\n",
              "       [14310.99220278, 14314.46039225],\n",
              "       [14310.99220278, 14314.46039225]])"
            ]
          },
          "metadata": {},
          "execution_count": 59
        }
      ]
    },
    {
      "cell_type": "code",
      "source": [
        "#Plot output\n",
        "plt.scatter(X1_train,Y1_train,color='black')\n",
        "plt.plot(X1_train,model.coef_[0][0]*X1_train + model.intercept_[0],'-r')\n",
        "plt.xlabel(\"GDP PerCapita\")\n",
        "plt.ylabel(\"Intentional Homicide\")"
      ],
      "metadata": {
        "colab": {
          "base_uri": "https://localhost:8080/",
          "height": 296
        },
        "id": "s3oVsSLiSmcN",
        "outputId": "34332ec2-a1db-4485-fe30-28dd15d1cabf"
      },
      "execution_count": null,
      "outputs": [
        {
          "output_type": "execute_result",
          "data": {
            "text/plain": [
              "Text(0, 0.5, 'Intentional Homicide')"
            ]
          },
          "metadata": {},
          "execution_count": 54
        },
        {
          "output_type": "display_data",
          "data": {
            "text/plain": [
              "<Figure size 432x288 with 1 Axes>"
            ],
            "image/png": "[encoded data removed]"
          },
          "metadata": {
            "needs_background": "light"
          }
        }
      ]
    },
    {
      "cell_type": "markdown",
      "source": [
        "From the plot, intentional homicide tends to decline towards negative value as the GDP  perCapita increases across the year and this happened very close to 60.\n",
        "\n",
        "This analyzed that as the GDP perCapital of a particular country increases over the time, the intentional homicide rate reduces."
      ],
      "metadata": {
        "id": "PdgORv61ETI8"
      }
    },
    {
      "cell_type": "code",
      "execution_count": null,
      "metadata": {
        "colab": {
          "base_uri": "https://localhost:8080/"
        },
        "id": "H-MICtiUrPXD",
        "outputId": "b7373dd3-686b-4380-d90b-7e82842ece68"
      },
      "outputs": [
        {
          "output_type": "stream",
          "name": "stdout",
          "text": [
            "Mean absolute error: 6660.41\n",
            "Residual sum of squares (MSE): 153401022.48\n",
            "R2-score: -19.02\n"
          ]
        }
      ],
      "source": [
        "print(\"Mean absolute error: %.2f\" % np.mean(np.absolute(y_pred-Y1_test)))\n",
        "print(\"Residual sum of squares (MSE): %.2f\" % np.mean((y_pred-Y1_test)**2))\n",
        "print(\"R2-score: %.2f\" % r2_score(y_pred,Y1_test))"
      ]
    },
    {
      "cell_type": "markdown",
      "source": [
        "The R2-score showing a negetive value indicates the model fit the data set badly.This could that the quality of the dataset is poor."
      ],
      "metadata": {
        "id": "iLEgD6UvpWjT"
      }
    },
    {
      "cell_type": "code",
      "source": [
        "#Lets define the input variable (X) for Suicide Mortality rate as array\n",
        "X=np.asarray(B)\n",
        "X[0:10]"
      ],
      "metadata": {
        "colab": {
          "base_uri": "https://localhost:8080/"
        },
        "id": "D-XpPxZMV8jh",
        "outputId": "99a0e47e-9c4a-440f-b7fb-fba9e411d42e"
      },
      "execution_count": null,
      "outputs": [
        {
          "output_type": "execute_result",
          "data": {
            "text/plain": [
              "array([10.54526281, 10.54526281, 10.54526281, 10.54526281, 10.54526281,\n",
              "       10.54526281, 10.54526281, 10.54526281, 10.54526281, 10.54526281])"
            ]
          },
          "metadata": {},
          "execution_count": 61
        }
      ]
    },
    {
      "cell_type": "code",
      "source": [
        "X2=X.reshape(-1,2)\n",
        "X2[0:5]"
      ],
      "metadata": {
        "colab": {
          "base_uri": "https://localhost:8080/"
        },
        "id": "LfSHtcM-Wer3",
        "outputId": "bacc8cd7-2f2c-4bca-80a5-2f43d4916e47"
      },
      "execution_count": null,
      "outputs": [
        {
          "output_type": "execute_result",
          "data": {
            "text/plain": [
              "array([[10.54526281, 10.54526281],\n",
              "       [10.54526281, 10.54526281],\n",
              "       [10.54526281, 10.54526281],\n",
              "       [10.54526281, 10.54526281],\n",
              "       [10.54526281, 10.54526281]])"
            ]
          },
          "metadata": {},
          "execution_count": 62
        }
      ]
    },
    {
      "cell_type": "code",
      "source": [
        "#train test split \n",
        "X2_train, X2_test, Y1_train, Y1_test=train_test_split(X2, Y1, test_size=0.2)"
      ],
      "metadata": {
        "id": "YpYoWjstXkei"
      },
      "execution_count": null,
      "outputs": []
    },
    {
      "cell_type": "code",
      "source": [
        "#Creating the Linear Regression model\n",
        "from sklearn import linear_model\n",
        "model=linear_model.LinearRegression()\n",
        "model.fit(X2_train,Y1_train)"
      ],
      "metadata": {
        "colab": {
          "base_uri": "https://localhost:8080/"
        },
        "outputId": "13ec7522-8825-4a6f-d03f-7db88864cb97",
        "id": "COeLutH3YGRw"
      },
      "execution_count": null,
      "outputs": [
        {
          "output_type": "execute_result",
          "data": {
            "text/plain": [
              "LinearRegression()"
            ]
          },
          "metadata": {},
          "execution_count": 64
        }
      ]
    },
    {
      "cell_type": "code",
      "source": [
        "#Intercept\n",
        "print('intercept:', model.intercept_)"
      ],
      "metadata": {
        "colab": {
          "base_uri": "https://localhost:8080/"
        },
        "id": "Rgwuavn6bnC3",
        "outputId": "40ed5c37-11dd-4c60-c46c-6264e58eef99"
      },
      "execution_count": null,
      "outputs": [
        {
          "output_type": "stream",
          "name": "stdout",
          "text": [
            "intercept: [13139.63034468 12909.51655275]\n"
          ]
        }
      ]
    },
    {
      "cell_type": "code",
      "source": [
        "#Slope\n",
        "print('slope:', model.coef_)"
      ],
      "metadata": {
        "colab": {
          "base_uri": "https://localhost:8080/"
        },
        "id": "B2my8YOhbu3C",
        "outputId": "e0dfcea8-2ac0-4fe6-d497-81e5af473079"
      },
      "execution_count": null,
      "outputs": [
        {
          "output_type": "stream",
          "name": "stdout",
          "text": [
            "slope: [[ 250.96604595 -136.71801366]\n",
            " [ 277.13870361 -142.69236718]]\n"
          ]
        }
      ]
    },
    {
      "cell_type": "code",
      "source": [
        "#Predict response\n",
        "Y_pred = model.predict(X2_test)\n",
        "Y_pred[0:5]"
      ],
      "metadata": {
        "colab": {
          "base_uri": "https://localhost:8080/"
        },
        "id": "r6Qt0RaIb2we",
        "outputId": "c6b1fa9e-429a-4d73-fddf-62c8a1166f92"
      },
      "execution_count": null,
      "outputs": [
        {
          "output_type": "execute_result",
          "data": {
            "text/plain": [
              "array([[14344.40587087, 14327.2885044 ],\n",
              "       [14344.40587087, 14327.2885044 ],\n",
              "       [14344.40587087, 14327.2885044 ],\n",
              "       [14344.40587087, 14327.2885044 ],\n",
              "       [14344.40587087, 14327.2885044 ]])"
            ]
          },
          "metadata": {},
          "execution_count": 67
        }
      ]
    },
    {
      "cell_type": "code",
      "source": [
        "#Plot output\n",
        "plt.scatter(X2_train,Y1_train,color='black')\n",
        "plt.plot(X2_train,model.coef_[0][0]*X2_train + model.intercept_[0],'-r')\n",
        "plt.xlabel(\"GDP PerCapita\")\n",
        "plt.ylabel(\"Suicide Mortality Rate\")"
      ],
      "metadata": {
        "colab": {
          "base_uri": "https://localhost:8080/",
          "height": 299
        },
        "id": "S3E2qXITcOOx",
        "outputId": "9b0f9aee-8293-4848-8c12-ccdad7f428ce"
      },
      "execution_count": null,
      "outputs": [
        {
          "output_type": "execute_result",
          "data": {
            "text/plain": [
              "Text(0, 0.5, 'Suicide Mortality Rate')"
            ]
          },
          "metadata": {},
          "execution_count": 68
        },
        {
          "output_type": "display_data",
          "data": {
            "text/plain": [
              "<Figure size 432x288 with 1 Axes>"
            ],
            "image/png": "[encoded data removed]"
          },
          "metadata": {
            "needs_background": "light"
          }
        }
      ]
    },
    {
      "cell_type": "markdown",
      "source": [
        "The upward sloping regression line demonstrates a direct correlation between the suicide rate and GDP PerCapita. This challenges the notion that the variables should be inversely related.\n",
        "\n",
        "Only the dataset that is close to the origin is fit by the regression line. This demonstrates that the model is underfitted and does not adequately fit the data points."
      ],
      "metadata": {
        "id": "6BZ0eSOkD5Ht"
      }
    },
    {
      "cell_type": "code",
      "source": [
        "print(\"Mean absolute error: %.2f\" % np.mean(np.absolute(Y_pred-Y1_test)))\n",
        "print(\"Residual sum of squares (MSE): %.2f\" % np.mean((Y_pred-Y1_test)**2))\n",
        "print(\"R2-score: %.2f\" % r2_score(Y_pred,Y1_test))"
      ],
      "metadata": {
        "colab": {
          "base_uri": "https://localhost:8080/"
        },
        "id": "KnA95vRAAM7S",
        "outputId": "42ec612b-cd97-4d5a-e886-59b710668452"
      },
      "execution_count": null,
      "outputs": [
        {
          "output_type": "stream",
          "name": "stdout",
          "text": [
            "Mean absolute error: 6588.11\n",
            "Residual sum of squares (MSE): 148470345.17\n",
            "R2-score: -546.80\n"
          ]
        }
      ]
    },
    {
      "cell_type": "markdown",
      "source": [
        "The association between the intentional homicide rate and GDP per capita as well as the suicide death rate and GDP per capita was shown by a downward slope and upward slope regression line respectively. This demonstrates a inverse and directly proportional relationship between the variable as shown in the figures.\n",
        "The R2-score showing negative means the model fit the data set badly."
      ],
      "metadata": {
        "id": "Xeo-BU58DqBM"
      }
    },
    {
      "cell_type": "markdown",
      "source": [
        "# **SUMMARY**\n",
        "\n",
        "While suicide and homcide rates have been down globally, the global GDP per capita has been increasing. Saying that a person's level of living is a reliable indication of happiness is insufficient, though. The correlation between level of life and suicide rate may vary significantly by country, hence the worldwide positive correlation cannot be applied universally.\n",
        "\n",
        "Standard of living and factors that influence suicide attempts may not be directly correlated. Other factors could be required in order to forecast what causes people to commit suicide if the standard of life is insufficient on its own.\n",
        "\n",
        "The difficulty with using GDP PerCapita to forecast suicide and homicide rates is that both variables have a deterministic tendency that makes it easy to muddle data about nations with other social issues and extend correlations in ways that are unrepresentative of reality."
      ],
      "metadata": {
        "id": "DNy23Bo2FY5H"
      }
    },
    {
      "cell_type": "markdown",
      "source": [
        "# **CONCLUSIONS**\n",
        "\n",
        "It is necessary to pay attention to the variables affecting young people's well-being (social media, academic pressures, societal pressures, expectations) before it worsens because several young people have reported experiencing anxiety and depression in other research. Economic factors may not consistently predict suicide and homicide rates on a worldwide scale since the data is set up in a way that makes it easy to create erroneous associations.\n",
        "\n",
        "Although suicide is a taboo subject, it is a serious social issue that must be addressed. It frequently takes a challenging and isolated path for someone to reach the point where they consider terminating lives. Although the study does not provide instant answers to all of the questions about suicide and living standards, it does shrink the scope of the issue and allow researchers to focus on specific economic factors.\n",
        "\n"
      ],
      "metadata": {
        "id": "c1vsNZv6F9C1"
      }
    },
    {
      "cell_type": "markdown",
      "source": [
        "# **REFERENCE**\n",
        "\n",
        "\n",
        "Grigoryev LM, Popovets L (2019) Sociology of individual tragedies. Homicides and suicides: Cross-country cluster analysis. Russian Journal of Economics 5(3): 251-276. https://doi.org/10.32609/j.ruje.5.47348\n",
        "\n",
        "Corzine J. (2011). The homicide theories. The Homicide Studies, 15 (4), 315–318. https://doi.org/10.1177/1088767911424540\n",
        "\n",
        "Yang B. (1992). The economy and suicide: A time-series study of the U.S.A. American Journal of Economics and Sociology, 51 (1), 87–99. https://doi.org/10.1111/j.1536-7150.1992.tb02512.x\n",
        "\n",
        "https://www.kaggle.com/code/jooartursilveira/homicide-suicide-rate-and-gdp-eda\n"
      ],
      "metadata": {
        "id": "KQJbi8RKC2uz"
      }
    }
  ]
}