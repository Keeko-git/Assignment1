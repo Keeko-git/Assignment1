{
  "nbformat": 4,
  "nbformat_minor": 0,
  "metadata": {
    "colab": {
      "provenance": []
    },
    "kernelspec": {
      "name": "python3",
      "display_name": "Python 3"
    },
    "language_info": {
      "name": "python"
    }
  },
  "cells": [
    {
      "cell_type": "code",
      "execution_count": null,
      "metadata": {
        "colab": {
          "base_uri": "https://localhost:8080/"
        },
        "id": "KTxv5Lj4Hz3V",
        "outputId": "1440e8ca-5ba4-48d4-88c5-6bf3274d6755"
      },
      "outputs": [
        {
          "output_type": "stream",
          "name": "stdout",
          "text": [
            "Mounted at /content/drive\n",
            "/content/drive/My Drive/Colab\n"
          ]
        }
      ],
      "source": [
        "from google.colab import drive\n",
        "drive.mount('/content/drive')\n",
        "%cd \"/content/drive/My Drive/Colab\""
      ]
    },
    {
      "cell_type": "code",
      "source": [
        "import pandas as pd\n",
        "import io\n",
        "import numpy as np\n",
        "import tensorflow as tf\n",
        "from sklearn import svm\n",
        "from sklearn.linear_model import LogisticRegression\n",
        "import matplotlib.pyplot as plt\n",
        "from scipy import stats\n",
        "from tensorflow import keras"
      ],
      "metadata": {
        "id": "cwwd3yM-J3xl"
      },
      "execution_count": null,
      "outputs": []
    },
    {
      "cell_type": "code",
      "source": [
        "df=pd.read_csv('titanic.csv')\n",
        "print(df)\n"
      ],
      "metadata": {
        "colab": {
          "base_uri": "https://localhost:8080/"
        },
        "id": "rS9whUTVJ62z",
        "outputId": "2be82b60-61e2-46b8-832f-56e7cae170b5"
      },
      "execution_count": null,
      "outputs": [
        {
          "output_type": "stream",
          "name": "stdout",
          "text": [
            "     PassengerId  Survived  Pclass  \\\n",
            "0              1         0       3   \n",
            "1              2         1       1   \n",
            "2              3         1       3   \n",
            "3              4         1       1   \n",
            "4              5         0       3   \n",
            "..           ...       ...     ...   \n",
            "886          887         0       2   \n",
            "887          888         1       1   \n",
            "888          889         0       3   \n",
            "889          890         1       1   \n",
            "890          891         0       3   \n",
            "\n",
            "                                                  Name     Sex   Age  SibSp  \\\n",
            "0                              Braund, Mr. Owen Harris    male  22.0      1   \n",
            "1    Cumings, Mrs. John Bradley (Florence Briggs Th...  female  38.0      1   \n",
            "2                               Heikkinen, Miss. Laina  female  26.0      0   \n",
            "3         Futrelle, Mrs. Jacques Heath (Lily May Peel)  female  35.0      1   \n",
            "4                             Allen, Mr. William Henry    male  35.0      0   \n",
            "..                                                 ...     ...   ...    ...   \n",
            "886                              Montvila, Rev. Juozas    male  27.0      0   \n",
            "887                       Graham, Miss. Margaret Edith  female  19.0      0   \n",
            "888           Johnston, Miss. Catherine Helen \"Carrie\"  female   NaN      1   \n",
            "889                              Behr, Mr. Karl Howell    male  26.0      0   \n",
            "890                                Dooley, Mr. Patrick    male  32.0      0   \n",
            "\n",
            "     Parch            Ticket     Fare Cabin Embarked  \n",
            "0        0         A/5 21171   7.2500   NaN        S  \n",
            "1        0          PC 17599  71.2833   C85        C  \n",
            "2        0  STON/O2. 3101282   7.9250   NaN        S  \n",
            "3        0            113803  53.1000  C123        S  \n",
            "4        0            373450   8.0500   NaN        S  \n",
            "..     ...               ...      ...   ...      ...  \n",
            "886      0            211536  13.0000   NaN        S  \n",
            "887      0            112053  30.0000   B42        S  \n",
            "888      2        W./C. 6607  23.4500   NaN        S  \n",
            "889      0            111369  30.0000  C148        C  \n",
            "890      0            370376   7.7500   NaN        Q  \n",
            "\n",
            "[891 rows x 12 columns]\n"
          ]
        }
      ]
    },
    {
      "cell_type": "code",
      "source": [
        "df.info()"
      ],
      "metadata": {
        "colab": {
          "base_uri": "https://localhost:8080/"
        },
        "id": "Z72MYjLeK9uS",
        "outputId": "0c9b9499-aab5-4392-eb58-b50e0294557b"
      },
      "execution_count": null,
      "outputs": [
        {
          "output_type": "stream",
          "name": "stdout",
          "text": [
            "<class 'pandas.core.frame.DataFrame'>\n",
            "RangeIndex: 891 entries, 0 to 890\n",
            "Data columns (total 12 columns):\n",
            " #   Column       Non-Null Count  Dtype  \n",
            "---  ------       --------------  -----  \n",
            " 0   PassengerId  891 non-null    int64  \n",
            " 1   Survived     891 non-null    int64  \n",
            " 2   Pclass       891 non-null    int64  \n",
            " 3   Name         891 non-null    object \n",
            " 4   Sex          891 non-null    object \n",
            " 5   Age          714 non-null    float64\n",
            " 6   SibSp        891 non-null    int64  \n",
            " 7   Parch        891 non-null    int64  \n",
            " 8   Ticket       891 non-null    object \n",
            " 9   Fare         891 non-null    float64\n",
            " 10  Cabin        204 non-null    object \n",
            " 11  Embarked     889 non-null    object \n",
            "dtypes: float64(2), int64(5), object(5)\n",
            "memory usage: 83.7+ KB\n"
          ]
        }
      ]
    },
    {
      "cell_type": "code",
      "source": [
        "titanic_df = df[['Survived', 'Pclass', 'SibSp', 'Parch', 'Fare']]\n",
        "titanic_df.head()"
      ],
      "metadata": {
        "colab": {
          "base_uri": "https://localhost:8080/",
          "height": 206
        },
        "id": "MYoRhypuLA4b",
        "outputId": "6cdc9558-226a-4f04-a087-e66961bb0d76"
      },
      "execution_count": null,
      "outputs": [
        {
          "output_type": "execute_result",
          "data": {
            "text/plain": [
              "   Survived  Pclass  SibSp  Parch     Fare\n",
              "0         0       3      1      0   7.2500\n",
              "1         1       1      1      0  71.2833\n",
              "2         1       3      0      0   7.9250\n",
              "3         1       1      1      0  53.1000\n",
              "4         0       3      0      0   8.0500"
            ],
            "text/html": [
              "\n",
              "  <div id=\"df-6ce66856-31b3-497b-91ac-7ee0ca26f11c\">\n",
              "    <div class=\"colab-df-container\">\n",
              "      <div>\n",
              "<style scoped>\n",
              "    .dataframe tbody tr th:only-of-type {\n",
              "        vertical-align: middle;\n",
              "    }\n",
              "\n",
              "    .dataframe tbody tr th {\n",
              "        vertical-align: top;\n",
              "    }\n",
              "\n",
              "    .dataframe thead th {\n",
              "        text-align: right;\n",
              "    }\n",
              "</style>\n",
              "<table border=\"1\" class=\"dataframe\">\n",
              "  <thead>\n",
              "    <tr style=\"text-align: right;\">\n",
              "      <th></th>\n",
              "      <th>Survived</th>\n",
              "      <th>Pclass</th>\n",
              "      <th>SibSp</th>\n",
              "      <th>Parch</th>\n",
              "      <th>Fare</th>\n",
              "    </tr>\n",
              "  </thead>\n",
              "  <tbody>\n",
              "    <tr>\n",
              "      <th>0</th>\n",
              "      <td>0</td>\n",
              "      <td>3</td>\n",
              "      <td>1</td>\n",
              "      <td>0</td>\n",
              "      <td>7.2500</td>\n",
              "    </tr>\n",
              "    <tr>\n",
              "      <th>1</th>\n",
              "      <td>1</td>\n",
              "      <td>1</td>\n",
              "      <td>1</td>\n",
              "      <td>0</td>\n",
              "      <td>71.2833</td>\n",
              "    </tr>\n",
              "    <tr>\n",
              "      <th>2</th>\n",
              "      <td>1</td>\n",
              "      <td>3</td>\n",
              "      <td>0</td>\n",
              "      <td>0</td>\n",
              "      <td>7.9250</td>\n",
              "    </tr>\n",
              "    <tr>\n",
              "      <th>3</th>\n",
              "      <td>1</td>\n",
              "      <td>1</td>\n",
              "      <td>1</td>\n",
              "      <td>0</td>\n",
              "      <td>53.1000</td>\n",
              "    </tr>\n",
              "    <tr>\n",
              "      <th>4</th>\n",
              "      <td>0</td>\n",
              "      <td>3</td>\n",
              "      <td>0</td>\n",
              "      <td>0</td>\n",
              "      <td>8.0500</td>\n",
              "    </tr>\n",
              "  </tbody>\n",
              "</table>\n",
              "</div>\n",
              "      <button class=\"colab-df-convert\" onclick=\"convertToInteractive('df-6ce66856-31b3-497b-91ac-7ee0ca26f11c')\"\n",
              "              title=\"Convert this dataframe to an interactive table.\"\n",
              "              style=\"display:none;\">\n",
              "        \n",
              "  <svg xmlns=\"http://www.w3.org/2000/svg\" height=\"24px\"viewBox=\"0 0 24 24\"\n",
              "       width=\"24px\">\n",
              "    <path d=\"M0 0h24v24H0V0z\" fill=\"none\"/>\n",
              "    <path d=\"M18.56 5.44l.94 2.06.94-2.06 2.06-.94-2.06-.94-.94-2.06-.94 2.06-2.06.94zm-11 1L8.5 8.5l.94-2.06 2.06-.94-2.06-.94L8.5 2.5l-.94 2.06-2.06.94zm10 10l.94 2.06.94-2.06 2.06-.94-2.06-.94-.94-2.06-.94 2.06-2.06.94z\"/><path d=\"M17.41 7.96l-1.37-1.37c-.4-.4-.92-.59-1.43-.59-.52 0-1.04.2-1.43.59L10.3 9.45l-7.72 7.72c-.78.78-.78 2.05 0 2.83L4 21.41c.39.39.9.59 1.41.59.51 0 1.02-.2 1.41-.59l7.78-7.78 2.81-2.81c.8-.78.8-2.07 0-2.86zM5.41 20L4 18.59l7.72-7.72 1.47 1.35L5.41 20z\"/>\n",
              "  </svg>\n",
              "      </button>\n",
              "      \n",
              "  <style>\n",
              "    .colab-df-container {\n",
              "      display:flex;\n",
              "      flex-wrap:wrap;\n",
              "      gap: 12px;\n",
              "    }\n",
              "\n",
              "    .colab-df-convert {\n",
              "      background-color: #E8F0FE;\n",
              "      border: none;\n",
              "      border-radius: 50%;\n",
              "      cursor: pointer;\n",
              "      display: none;\n",
              "      fill: #1967D2;\n",
              "      height: 32px;\n",
              "      padding: 0 0 0 0;\n",
              "      width: 32px;\n",
              "    }\n",
              "\n",
              "    .colab-df-convert:hover {\n",
              "      background-color: #E2EBFA;\n",
              "      box-shadow: 0px 1px 2px rgba(60, 64, 67, 0.3), 0px 1px 3px 1px rgba(60, 64, 67, 0.15);\n",
              "      fill: #174EA6;\n",
              "    }\n",
              "\n",
              "    [theme=dark] .colab-df-convert {\n",
              "      background-color: #3B4455;\n",
              "      fill: #D2E3FC;\n",
              "    }\n",
              "\n",
              "    [theme=dark] .colab-df-convert:hover {\n",
              "      background-color: #434B5C;\n",
              "      box-shadow: 0px 1px 3px 1px rgba(0, 0, 0, 0.15);\n",
              "      filter: drop-shadow(0px 1px 2px rgba(0, 0, 0, 0.3));\n",
              "      fill: #FFFFFF;\n",
              "    }\n",
              "  </style>\n",
              "\n",
              "      <script>\n",
              "        const buttonEl =\n",
              "          document.querySelector('#df-6ce66856-31b3-497b-91ac-7ee0ca26f11c button.colab-df-convert');\n",
              "        buttonEl.style.display =\n",
              "          google.colab.kernel.accessAllowed ? 'block' : 'none';\n",
              "\n",
              "        async function convertToInteractive(key) {\n",
              "          const element = document.querySelector('#df-6ce66856-31b3-497b-91ac-7ee0ca26f11c');\n",
              "          const dataTable =\n",
              "            await google.colab.kernel.invokeFunction('convertToInteractive',\n",
              "                                                     [key], {});\n",
              "          if (!dataTable) return;\n",
              "\n",
              "          const docLinkHtml = 'Like what you see? Visit the ' +\n",
              "            '<a target=\"_blank\" href=https://colab.research.google.com/notebooks/data_table.ipynb>data table notebook</a>'\n",
              "            + ' to learn more about interactive tables.';\n",
              "          element.innerHTML = '';\n",
              "          dataTable['output_type'] = 'display_data';\n",
              "          await google.colab.output.renderOutput(dataTable, element);\n",
              "          const docLink = document.createElement('div');\n",
              "          docLink.innerHTML = docLinkHtml;\n",
              "          element.appendChild(docLink);\n",
              "        }\n",
              "      </script>\n",
              "    </div>\n",
              "  </div>\n",
              "  "
            ]
          },
          "metadata": {},
          "execution_count": 8
        }
      ]
    },
    {
      "cell_type": "code",
      "source": [
        "X = np.asarray(titanic_df[['Pclass', 'SibSp', 'Parch', 'Fare']])\n",
        "X[0:5]"
      ],
      "metadata": {
        "colab": {
          "base_uri": "https://localhost:8080/"
        },
        "id": "oe3N7Kv0LIMe",
        "outputId": "b41a449c-3b73-4622-a306-857358f69921"
      },
      "execution_count": null,
      "outputs": [
        {
          "output_type": "execute_result",
          "data": {
            "text/plain": [
              "array([[ 3.    ,  1.    ,  0.    ,  7.25  ],\n",
              "       [ 1.    ,  1.    ,  0.    , 71.2833],\n",
              "       [ 3.    ,  0.    ,  0.    ,  7.925 ],\n",
              "       [ 1.    ,  1.    ,  0.    , 53.1   ],\n",
              "       [ 3.    ,  0.    ,  0.    ,  8.05  ]])"
            ]
          },
          "metadata": {},
          "execution_count": 9
        }
      ]
    },
    {
      "cell_type": "code",
      "source": [
        "y = np.asarray(titanic_df['Survived'])\n",
        "y [0:5]"
      ],
      "metadata": {
        "colab": {
          "base_uri": "https://localhost:8080/"
        },
        "id": "znlFDB5mLOhe",
        "outputId": "e1d9bf0b-3add-4203-ba46-5dee24287fb2"
      },
      "execution_count": null,
      "outputs": [
        {
          "output_type": "execute_result",
          "data": {
            "text/plain": [
              "array([0, 1, 1, 1, 0])"
            ]
          },
          "metadata": {},
          "execution_count": 10
        }
      ]
    },
    {
      "cell_type": "code",
      "source": [
        "X=stats.zscore(X)\n",
        "X[0:5]"
      ],
      "metadata": {
        "colab": {
          "base_uri": "https://localhost:8080/"
        },
        "id": "RZKx3FjwLmg4",
        "outputId": "7280e824-960f-4dbb-ddc7-63c49db189b1"
      },
      "execution_count": null,
      "outputs": [
        {
          "output_type": "execute_result",
          "data": {
            "text/plain": [
              "array([[ 0.82737724,  0.43279337, -0.47367361, -0.50244517],\n",
              "       [-1.56610693,  0.43279337, -0.47367361,  0.78684529],\n",
              "       [ 0.82737724, -0.4745452 , -0.47367361, -0.48885426],\n",
              "       [-1.56610693,  0.43279337, -0.47367361,  0.42073024],\n",
              "       [ 0.82737724, -0.4745452 , -0.47367361, -0.48633742]])"
            ]
          },
          "metadata": {},
          "execution_count": 11
        }
      ]
    },
    {
      "cell_type": "code",
      "source": [
        "from sklearn.model_selection import train_test_split\n",
        "X_train, X_test, y_train, y_test = train_test_split( X, y, test_size=0.2, random_state=30)\n",
        "print ('Train set:', X_train.shape,  y_train.shape)\n",
        "print ('Test set:', X_test.shape,  y_test.shape)"
      ],
      "metadata": {
        "colab": {
          "base_uri": "https://localhost:8080/"
        },
        "id": "EC9jEBovLuuT",
        "outputId": "d63a3786-ed65-4024-822b-23db17fd8d6a"
      },
      "execution_count": null,
      "outputs": [
        {
          "output_type": "stream",
          "name": "stdout",
          "text": [
            "Train set: (712, 4) (712,)\n",
            "Test set: (179, 4) (179,)\n"
          ]
        }
      ]
    },
    {
      "cell_type": "code",
      "source": [
        "ann = tf.keras.models.Sequential()"
      ],
      "metadata": {
        "id": "ZL1qByZnL5PD"
      },
      "execution_count": null,
      "outputs": []
    },
    {
      "cell_type": "code",
      "source": [
        "ann.add(tf.keras.layers.Dense(units=6,activation=\"relu\"))"
      ],
      "metadata": {
        "id": "LpwBeoQUMAYg"
      },
      "execution_count": null,
      "outputs": []
    },
    {
      "cell_type": "code",
      "source": [
        "ann.add(tf.keras.layers.Dense(units=6,activation=\"relu\"))"
      ],
      "metadata": {
        "id": "RJFv8jQdMH0v"
      },
      "execution_count": null,
      "outputs": []
    },
    {
      "cell_type": "code",
      "source": [
        "ann.add(tf.keras.layers.Dense(units=1,activation=\"sigmoid\"))"
      ],
      "metadata": {
        "id": "DyXPuTl3MPfG"
      },
      "execution_count": null,
      "outputs": []
    },
    {
      "cell_type": "code",
      "source": [
        "ann.compile(optimizer=\"adam\",loss=\"binary_crossentropy\",metrics=['accuracy'])"
      ],
      "metadata": {
        "id": "Hx9ZCxeJMeW0"
      },
      "execution_count": null,
      "outputs": []
    },
    {
      "cell_type": "code",
      "source": [
        "ann.fit(X_train,y_train,batch_size=32,epochs = 200)"
      ],
      "metadata": {
        "colab": {
          "base_uri": "https://localhost:8080/"
        },
        "id": "Ux5eF9sVMjND",
        "outputId": "ac3e45c0-a4f7-49d7-8609-fdfc63294097"
      },
      "execution_count": null,
      "outputs": [
        {
          "output_type": "stream",
          "name": "stdout",
          "text": [
            "Epoch 1/200\n",
            "23/23 [==============================] - 0s 2ms/step - loss: 0.5513 - accuracy: 0.7289\n",
            "Epoch 2/200\n",
            "23/23 [==============================] - 0s 2ms/step - loss: 0.5505 - accuracy: 0.7289\n",
            "Epoch 3/200\n",
            "23/23 [==============================] - 0s 2ms/step - loss: 0.5505 - accuracy: 0.7289\n",
            "Epoch 4/200\n",
            "23/23 [==============================] - 0s 2ms/step - loss: 0.5504 - accuracy: 0.7303\n",
            "Epoch 5/200\n",
            "23/23 [==============================] - 0s 3ms/step - loss: 0.5507 - accuracy: 0.7303\n",
            "Epoch 6/200\n",
            "23/23 [==============================] - 0s 2ms/step - loss: 0.5504 - accuracy: 0.7317\n",
            "Epoch 7/200\n",
            "23/23 [==============================] - 0s 2ms/step - loss: 0.5506 - accuracy: 0.7303\n",
            "Epoch 8/200\n",
            "23/23 [==============================] - 0s 2ms/step - loss: 0.5504 - accuracy: 0.7303\n",
            "Epoch 9/200\n",
            "23/23 [==============================] - 0s 3ms/step - loss: 0.5506 - accuracy: 0.7275\n",
            "Epoch 10/200\n",
            "23/23 [==============================] - 0s 2ms/step - loss: 0.5500 - accuracy: 0.7317\n",
            "Epoch 11/200\n",
            "23/23 [==============================] - 0s 2ms/step - loss: 0.5504 - accuracy: 0.7317\n",
            "Epoch 12/200\n",
            "23/23 [==============================] - 0s 2ms/step - loss: 0.5498 - accuracy: 0.7317\n",
            "Epoch 13/200\n",
            "23/23 [==============================] - 0s 2ms/step - loss: 0.5496 - accuracy: 0.7317\n",
            "Epoch 14/200\n",
            "23/23 [==============================] - 0s 2ms/step - loss: 0.5501 - accuracy: 0.7303\n",
            "Epoch 15/200\n",
            "23/23 [==============================] - 0s 2ms/step - loss: 0.5508 - accuracy: 0.7289\n",
            "Epoch 16/200\n",
            "23/23 [==============================] - 0s 3ms/step - loss: 0.5499 - accuracy: 0.7289\n",
            "Epoch 17/200\n",
            "23/23 [==============================] - 0s 3ms/step - loss: 0.5498 - accuracy: 0.7289\n",
            "Epoch 18/200\n",
            "23/23 [==============================] - 0s 3ms/step - loss: 0.5494 - accuracy: 0.7303\n",
            "Epoch 19/200\n",
            "23/23 [==============================] - 0s 3ms/step - loss: 0.5497 - accuracy: 0.7289\n",
            "Epoch 20/200\n",
            "23/23 [==============================] - 0s 2ms/step - loss: 0.5502 - accuracy: 0.7247\n",
            "Epoch 21/200\n",
            "23/23 [==============================] - 0s 3ms/step - loss: 0.5498 - accuracy: 0.7289\n",
            "Epoch 22/200\n",
            "23/23 [==============================] - 0s 2ms/step - loss: 0.5492 - accuracy: 0.7317\n",
            "Epoch 23/200\n",
            "23/23 [==============================] - 0s 2ms/step - loss: 0.5495 - accuracy: 0.7331\n",
            "Epoch 24/200\n",
            "23/23 [==============================] - 0s 2ms/step - loss: 0.5497 - accuracy: 0.7289\n",
            "Epoch 25/200\n",
            "23/23 [==============================] - 0s 2ms/step - loss: 0.5497 - accuracy: 0.7331\n",
            "Epoch 26/200\n",
            "23/23 [==============================] - 0s 2ms/step - loss: 0.5493 - accuracy: 0.7331\n",
            "Epoch 27/200\n",
            "23/23 [==============================] - 0s 2ms/step - loss: 0.5488 - accuracy: 0.7303\n",
            "Epoch 28/200\n",
            "23/23 [==============================] - 0s 2ms/step - loss: 0.5495 - accuracy: 0.7289\n",
            "Epoch 29/200\n",
            "23/23 [==============================] - 0s 2ms/step - loss: 0.5491 - accuracy: 0.7303\n",
            "Epoch 30/200\n",
            "23/23 [==============================] - 0s 2ms/step - loss: 0.5488 - accuracy: 0.7275\n",
            "Epoch 31/200\n",
            "23/23 [==============================] - 0s 2ms/step - loss: 0.5488 - accuracy: 0.7317\n",
            "Epoch 32/200\n",
            "23/23 [==============================] - 0s 2ms/step - loss: 0.5490 - accuracy: 0.7261\n",
            "Epoch 33/200\n",
            "23/23 [==============================] - 0s 2ms/step - loss: 0.5491 - accuracy: 0.7303\n",
            "Epoch 34/200\n",
            "23/23 [==============================] - 0s 2ms/step - loss: 0.5488 - accuracy: 0.7303\n",
            "Epoch 35/200\n",
            "23/23 [==============================] - 0s 2ms/step - loss: 0.5486 - accuracy: 0.7360\n",
            "Epoch 36/200\n",
            "23/23 [==============================] - 0s 3ms/step - loss: 0.5483 - accuracy: 0.7346\n",
            "Epoch 37/200\n",
            "23/23 [==============================] - 0s 2ms/step - loss: 0.5486 - accuracy: 0.7360\n",
            "Epoch 38/200\n",
            "23/23 [==============================] - 0s 2ms/step - loss: 0.5482 - accuracy: 0.7346\n",
            "Epoch 39/200\n",
            "23/23 [==============================] - 0s 3ms/step - loss: 0.5482 - accuracy: 0.7360\n",
            "Epoch 40/200\n",
            "23/23 [==============================] - 0s 2ms/step - loss: 0.5483 - accuracy: 0.7317\n",
            "Epoch 41/200\n",
            "23/23 [==============================] - 0s 2ms/step - loss: 0.5480 - accuracy: 0.7374\n",
            "Epoch 42/200\n",
            "23/23 [==============================] - 0s 2ms/step - loss: 0.5479 - accuracy: 0.7346\n",
            "Epoch 43/200\n",
            "23/23 [==============================] - 0s 2ms/step - loss: 0.5481 - accuracy: 0.7360\n",
            "Epoch 44/200\n",
            "23/23 [==============================] - 0s 2ms/step - loss: 0.5483 - accuracy: 0.7275\n",
            "Epoch 45/200\n",
            "23/23 [==============================] - 0s 3ms/step - loss: 0.5480 - accuracy: 0.7303\n",
            "Epoch 46/200\n",
            "23/23 [==============================] - 0s 2ms/step - loss: 0.5479 - accuracy: 0.7317\n",
            "Epoch 47/200\n",
            "23/23 [==============================] - 0s 2ms/step - loss: 0.5477 - accuracy: 0.7360\n",
            "Epoch 48/200\n",
            "23/23 [==============================] - 0s 2ms/step - loss: 0.5476 - accuracy: 0.7331\n",
            "Epoch 49/200\n",
            "23/23 [==============================] - 0s 2ms/step - loss: 0.5475 - accuracy: 0.7317\n",
            "Epoch 50/200\n",
            "23/23 [==============================] - 0s 2ms/step - loss: 0.5481 - accuracy: 0.7346\n",
            "Epoch 51/200\n",
            "23/23 [==============================] - 0s 2ms/step - loss: 0.5479 - accuracy: 0.7346\n",
            "Epoch 52/200\n",
            "23/23 [==============================] - 0s 2ms/step - loss: 0.5477 - accuracy: 0.7346\n",
            "Epoch 53/200\n",
            "23/23 [==============================] - 0s 2ms/step - loss: 0.5478 - accuracy: 0.7289\n",
            "Epoch 54/200\n",
            "23/23 [==============================] - 0s 2ms/step - loss: 0.5472 - accuracy: 0.7346\n",
            "Epoch 55/200\n",
            "23/23 [==============================] - 0s 2ms/step - loss: 0.5474 - accuracy: 0.7303\n",
            "Epoch 56/200\n",
            "23/23 [==============================] - 0s 2ms/step - loss: 0.5475 - accuracy: 0.7303\n",
            "Epoch 57/200\n",
            "23/23 [==============================] - 0s 3ms/step - loss: 0.5469 - accuracy: 0.7360\n",
            "Epoch 58/200\n",
            "23/23 [==============================] - 0s 3ms/step - loss: 0.5471 - accuracy: 0.7303\n",
            "Epoch 59/200\n",
            "23/23 [==============================] - 0s 2ms/step - loss: 0.5474 - accuracy: 0.7275\n",
            "Epoch 60/200\n",
            "23/23 [==============================] - 0s 2ms/step - loss: 0.5466 - accuracy: 0.7303\n",
            "Epoch 61/200\n",
            "23/23 [==============================] - 0s 2ms/step - loss: 0.5469 - accuracy: 0.7331\n",
            "Epoch 62/200\n",
            "23/23 [==============================] - 0s 2ms/step - loss: 0.5475 - accuracy: 0.7360\n",
            "Epoch 63/200\n",
            "23/23 [==============================] - 0s 2ms/step - loss: 0.5468 - accuracy: 0.7360\n",
            "Epoch 64/200\n",
            "23/23 [==============================] - 0s 2ms/step - loss: 0.5467 - accuracy: 0.7388\n",
            "Epoch 65/200\n",
            "23/23 [==============================] - 0s 2ms/step - loss: 0.5473 - accuracy: 0.7317\n",
            "Epoch 66/200\n",
            "23/23 [==============================] - 0s 2ms/step - loss: 0.5466 - accuracy: 0.7331\n",
            "Epoch 67/200\n",
            "23/23 [==============================] - 0s 2ms/step - loss: 0.5468 - accuracy: 0.7346\n",
            "Epoch 68/200\n",
            "23/23 [==============================] - 0s 3ms/step - loss: 0.5469 - accuracy: 0.7360\n",
            "Epoch 69/200\n",
            "23/23 [==============================] - 0s 3ms/step - loss: 0.5466 - accuracy: 0.7331\n",
            "Epoch 70/200\n",
            "23/23 [==============================] - 0s 2ms/step - loss: 0.5464 - accuracy: 0.7317\n",
            "Epoch 71/200\n",
            "23/23 [==============================] - 0s 2ms/step - loss: 0.5471 - accuracy: 0.7430\n",
            "Epoch 72/200\n",
            "23/23 [==============================] - 0s 2ms/step - loss: 0.5464 - accuracy: 0.7360\n",
            "Epoch 73/200\n",
            "23/23 [==============================] - 0s 2ms/step - loss: 0.5464 - accuracy: 0.7346\n",
            "Epoch 74/200\n",
            "23/23 [==============================] - 0s 3ms/step - loss: 0.5463 - accuracy: 0.7331\n",
            "Epoch 75/200\n",
            "23/23 [==============================] - 0s 2ms/step - loss: 0.5464 - accuracy: 0.7346\n",
            "Epoch 76/200\n",
            "23/23 [==============================] - 0s 2ms/step - loss: 0.5465 - accuracy: 0.7317\n",
            "Epoch 77/200\n",
            "23/23 [==============================] - 0s 2ms/step - loss: 0.5458 - accuracy: 0.7331\n",
            "Epoch 78/200\n",
            "23/23 [==============================] - 0s 2ms/step - loss: 0.5469 - accuracy: 0.7360\n",
            "Epoch 79/200\n",
            "23/23 [==============================] - 0s 2ms/step - loss: 0.5466 - accuracy: 0.7430\n",
            "Epoch 80/200\n",
            "23/23 [==============================] - 0s 2ms/step - loss: 0.5465 - accuracy: 0.7331\n",
            "Epoch 81/200\n",
            "23/23 [==============================] - 0s 2ms/step - loss: 0.5462 - accuracy: 0.7346\n",
            "Epoch 82/200\n",
            "23/23 [==============================] - 0s 2ms/step - loss: 0.5459 - accuracy: 0.7374\n",
            "Epoch 83/200\n",
            "23/23 [==============================] - 0s 2ms/step - loss: 0.5460 - accuracy: 0.7303\n",
            "Epoch 84/200\n",
            "23/23 [==============================] - 0s 2ms/step - loss: 0.5460 - accuracy: 0.7346\n",
            "Epoch 85/200\n",
            "23/23 [==============================] - 0s 2ms/step - loss: 0.5460 - accuracy: 0.7331\n",
            "Epoch 86/200\n",
            "23/23 [==============================] - 0s 2ms/step - loss: 0.5466 - accuracy: 0.7303\n",
            "Epoch 87/200\n",
            "23/23 [==============================] - 0s 2ms/step - loss: 0.5463 - accuracy: 0.7346\n",
            "Epoch 88/200\n",
            "23/23 [==============================] - 0s 2ms/step - loss: 0.5461 - accuracy: 0.7346\n",
            "Epoch 89/200\n",
            "23/23 [==============================] - 0s 3ms/step - loss: 0.5455 - accuracy: 0.7289\n",
            "Epoch 90/200\n",
            "23/23 [==============================] - 0s 2ms/step - loss: 0.5457 - accuracy: 0.7331\n",
            "Epoch 91/200\n",
            "23/23 [==============================] - 0s 2ms/step - loss: 0.5456 - accuracy: 0.7388\n",
            "Epoch 92/200\n",
            "23/23 [==============================] - 0s 2ms/step - loss: 0.5455 - accuracy: 0.7346\n",
            "Epoch 93/200\n",
            "23/23 [==============================] - 0s 2ms/step - loss: 0.5456 - accuracy: 0.7289\n",
            "Epoch 94/200\n",
            "23/23 [==============================] - 0s 2ms/step - loss: 0.5461 - accuracy: 0.7346\n",
            "Epoch 95/200\n",
            "23/23 [==============================] - 0s 2ms/step - loss: 0.5462 - accuracy: 0.7388\n",
            "Epoch 96/200\n",
            "23/23 [==============================] - 0s 2ms/step - loss: 0.5457 - accuracy: 0.7346\n",
            "Epoch 97/200\n",
            "23/23 [==============================] - 0s 2ms/step - loss: 0.5461 - accuracy: 0.7317\n",
            "Epoch 98/200\n",
            "23/23 [==============================] - 0s 2ms/step - loss: 0.5455 - accuracy: 0.7346\n",
            "Epoch 99/200\n",
            "23/23 [==============================] - 0s 2ms/step - loss: 0.5452 - accuracy: 0.7346\n",
            "Epoch 100/200\n",
            "23/23 [==============================] - 0s 2ms/step - loss: 0.5458 - accuracy: 0.7388\n",
            "Epoch 101/200\n",
            "23/23 [==============================] - 0s 2ms/step - loss: 0.5454 - accuracy: 0.7360\n",
            "Epoch 102/200\n",
            "23/23 [==============================] - 0s 2ms/step - loss: 0.5457 - accuracy: 0.7303\n",
            "Epoch 103/200\n",
            "23/23 [==============================] - 0s 2ms/step - loss: 0.5456 - accuracy: 0.7360\n",
            "Epoch 104/200\n",
            "23/23 [==============================] - 0s 2ms/step - loss: 0.5453 - accuracy: 0.7360\n",
            "Epoch 105/200\n",
            "23/23 [==============================] - 0s 2ms/step - loss: 0.5456 - accuracy: 0.7317\n",
            "Epoch 106/200\n",
            "23/23 [==============================] - 0s 2ms/step - loss: 0.5451 - accuracy: 0.7346\n",
            "Epoch 107/200\n",
            "23/23 [==============================] - 0s 2ms/step - loss: 0.5452 - accuracy: 0.7416\n",
            "Epoch 108/200\n",
            "23/23 [==============================] - 0s 2ms/step - loss: 0.5452 - accuracy: 0.7402\n",
            "Epoch 109/200\n",
            "23/23 [==============================] - 0s 2ms/step - loss: 0.5456 - accuracy: 0.7317\n",
            "Epoch 110/200\n",
            "23/23 [==============================] - 0s 2ms/step - loss: 0.5452 - accuracy: 0.7346\n",
            "Epoch 111/200\n",
            "23/23 [==============================] - 0s 2ms/step - loss: 0.5455 - accuracy: 0.7430\n",
            "Epoch 112/200\n",
            "23/23 [==============================] - 0s 2ms/step - loss: 0.5450 - accuracy: 0.7388\n",
            "Epoch 113/200\n",
            "23/23 [==============================] - 0s 3ms/step - loss: 0.5450 - accuracy: 0.7331\n",
            "Epoch 114/200\n",
            "23/23 [==============================] - 0s 2ms/step - loss: 0.5448 - accuracy: 0.7360\n",
            "Epoch 115/200\n",
            "23/23 [==============================] - 0s 2ms/step - loss: 0.5447 - accuracy: 0.7388\n",
            "Epoch 116/200\n",
            "23/23 [==============================] - 0s 2ms/step - loss: 0.5453 - accuracy: 0.7346\n",
            "Epoch 117/200\n",
            "23/23 [==============================] - 0s 2ms/step - loss: 0.5452 - accuracy: 0.7317\n",
            "Epoch 118/200\n",
            "23/23 [==============================] - 0s 2ms/step - loss: 0.5454 - accuracy: 0.7331\n",
            "Epoch 119/200\n",
            "23/23 [==============================] - 0s 2ms/step - loss: 0.5450 - accuracy: 0.7331\n",
            "Epoch 120/200\n",
            "23/23 [==============================] - 0s 2ms/step - loss: 0.5447 - accuracy: 0.7360\n",
            "Epoch 121/200\n",
            "23/23 [==============================] - 0s 2ms/step - loss: 0.5448 - accuracy: 0.7374\n",
            "Epoch 122/200\n",
            "23/23 [==============================] - 0s 2ms/step - loss: 0.5444 - accuracy: 0.7374\n",
            "Epoch 123/200\n",
            "23/23 [==============================] - 0s 3ms/step - loss: 0.5451 - accuracy: 0.7331\n",
            "Epoch 124/200\n",
            "23/23 [==============================] - 0s 2ms/step - loss: 0.5447 - accuracy: 0.7360\n",
            "Epoch 125/200\n",
            "23/23 [==============================] - 0s 2ms/step - loss: 0.5448 - accuracy: 0.7416\n",
            "Epoch 126/200\n",
            "23/23 [==============================] - 0s 4ms/step - loss: 0.5448 - accuracy: 0.7331\n",
            "Epoch 127/200\n",
            "23/23 [==============================] - 0s 4ms/step - loss: 0.5462 - accuracy: 0.7388\n",
            "Epoch 128/200\n",
            "23/23 [==============================] - 0s 4ms/step - loss: 0.5450 - accuracy: 0.7402\n",
            "Epoch 129/200\n",
            "23/23 [==============================] - 0s 3ms/step - loss: 0.5446 - accuracy: 0.7388\n",
            "Epoch 130/200\n",
            "23/23 [==============================] - 0s 3ms/step - loss: 0.5443 - accuracy: 0.7402\n",
            "Epoch 131/200\n",
            "23/23 [==============================] - 0s 4ms/step - loss: 0.5443 - accuracy: 0.7402\n",
            "Epoch 132/200\n",
            "23/23 [==============================] - 0s 4ms/step - loss: 0.5446 - accuracy: 0.7374\n",
            "Epoch 133/200\n",
            "23/23 [==============================] - 0s 4ms/step - loss: 0.5444 - accuracy: 0.7416\n",
            "Epoch 134/200\n",
            "23/23 [==============================] - 0s 4ms/step - loss: 0.5450 - accuracy: 0.7374\n",
            "Epoch 135/200\n",
            "23/23 [==============================] - 0s 4ms/step - loss: 0.5443 - accuracy: 0.7374\n",
            "Epoch 136/200\n",
            "23/23 [==============================] - 0s 4ms/step - loss: 0.5441 - accuracy: 0.7402\n",
            "Epoch 137/200\n",
            "23/23 [==============================] - 0s 5ms/step - loss: 0.5449 - accuracy: 0.7402\n",
            "Epoch 138/200\n",
            "23/23 [==============================] - 0s 4ms/step - loss: 0.5444 - accuracy: 0.7388\n",
            "Epoch 139/200\n",
            "23/23 [==============================] - 0s 4ms/step - loss: 0.5442 - accuracy: 0.7402\n",
            "Epoch 140/200\n",
            "23/23 [==============================] - 0s 3ms/step - loss: 0.5441 - accuracy: 0.7402\n",
            "Epoch 141/200\n",
            "23/23 [==============================] - 0s 3ms/step - loss: 0.5442 - accuracy: 0.7388\n",
            "Epoch 142/200\n",
            "23/23 [==============================] - 0s 4ms/step - loss: 0.5441 - accuracy: 0.7388\n",
            "Epoch 143/200\n",
            "23/23 [==============================] - 0s 4ms/step - loss: 0.5449 - accuracy: 0.7402\n",
            "Epoch 144/200\n",
            "23/23 [==============================] - 0s 4ms/step - loss: 0.5443 - accuracy: 0.7402\n",
            "Epoch 145/200\n",
            "23/23 [==============================] - 0s 4ms/step - loss: 0.5440 - accuracy: 0.7416\n",
            "Epoch 146/200\n",
            "23/23 [==============================] - 0s 4ms/step - loss: 0.5438 - accuracy: 0.7388\n",
            "Epoch 147/200\n",
            "23/23 [==============================] - 0s 4ms/step - loss: 0.5436 - accuracy: 0.7374\n",
            "Epoch 148/200\n",
            "23/23 [==============================] - 0s 4ms/step - loss: 0.5439 - accuracy: 0.7388\n",
            "Epoch 149/200\n",
            "23/23 [==============================] - 0s 3ms/step - loss: 0.5432 - accuracy: 0.7430\n",
            "Epoch 150/200\n",
            "23/23 [==============================] - 0s 3ms/step - loss: 0.5439 - accuracy: 0.7388\n",
            "Epoch 151/200\n",
            "23/23 [==============================] - 0s 4ms/step - loss: 0.5441 - accuracy: 0.7374\n",
            "Epoch 152/200\n",
            "23/23 [==============================] - 0s 3ms/step - loss: 0.5436 - accuracy: 0.7360\n",
            "Epoch 153/200\n",
            "23/23 [==============================] - 0s 2ms/step - loss: 0.5437 - accuracy: 0.7402\n",
            "Epoch 154/200\n",
            "23/23 [==============================] - 0s 3ms/step - loss: 0.5442 - accuracy: 0.7374\n",
            "Epoch 155/200\n",
            "23/23 [==============================] - 0s 2ms/step - loss: 0.5435 - accuracy: 0.7388\n",
            "Epoch 156/200\n",
            "23/23 [==============================] - 0s 3ms/step - loss: 0.5435 - accuracy: 0.7388\n",
            "Epoch 157/200\n",
            "23/23 [==============================] - 0s 3ms/step - loss: 0.5435 - accuracy: 0.7388\n",
            "Epoch 158/200\n",
            "23/23 [==============================] - 0s 4ms/step - loss: 0.5432 - accuracy: 0.7388\n",
            "Epoch 159/200\n",
            "23/23 [==============================] - 0s 4ms/step - loss: 0.5432 - accuracy: 0.7374\n",
            "Epoch 160/200\n",
            "23/23 [==============================] - 0s 4ms/step - loss: 0.5442 - accuracy: 0.7430\n",
            "Epoch 161/200\n",
            "23/23 [==============================] - 0s 3ms/step - loss: 0.5431 - accuracy: 0.7360\n",
            "Epoch 162/200\n",
            "23/23 [==============================] - 0s 5ms/step - loss: 0.5433 - accuracy: 0.7416\n",
            "Epoch 163/200\n",
            "23/23 [==============================] - 0s 3ms/step - loss: 0.5429 - accuracy: 0.7416\n",
            "Epoch 164/200\n",
            "23/23 [==============================] - 0s 3ms/step - loss: 0.5433 - accuracy: 0.7416\n",
            "Epoch 165/200\n",
            "23/23 [==============================] - 0s 4ms/step - loss: 0.5437 - accuracy: 0.7402\n",
            "Epoch 166/200\n",
            "23/23 [==============================] - 0s 4ms/step - loss: 0.5429 - accuracy: 0.7374\n",
            "Epoch 167/200\n",
            "23/23 [==============================] - 0s 3ms/step - loss: 0.5429 - accuracy: 0.7388\n",
            "Epoch 168/200\n",
            "23/23 [==============================] - 0s 3ms/step - loss: 0.5442 - accuracy: 0.7388\n",
            "Epoch 169/200\n",
            "23/23 [==============================] - 0s 3ms/step - loss: 0.5440 - accuracy: 0.7388\n",
            "Epoch 170/200\n",
            "23/23 [==============================] - 0s 5ms/step - loss: 0.5432 - accuracy: 0.7360\n",
            "Epoch 171/200\n",
            "23/23 [==============================] - 0s 4ms/step - loss: 0.5435 - accuracy: 0.7374\n",
            "Epoch 172/200\n",
            "23/23 [==============================] - 0s 4ms/step - loss: 0.5426 - accuracy: 0.7402\n",
            "Epoch 173/200\n",
            "23/23 [==============================] - 0s 4ms/step - loss: 0.5429 - accuracy: 0.7388\n",
            "Epoch 174/200\n",
            "23/23 [==============================] - 0s 4ms/step - loss: 0.5428 - accuracy: 0.7388\n",
            "Epoch 175/200\n",
            "23/23 [==============================] - 0s 3ms/step - loss: 0.5436 - accuracy: 0.7416\n",
            "Epoch 176/200\n",
            "23/23 [==============================] - 0s 4ms/step - loss: 0.5434 - accuracy: 0.7402\n",
            "Epoch 177/200\n",
            "23/23 [==============================] - 0s 4ms/step - loss: 0.5425 - accuracy: 0.7430\n",
            "Epoch 178/200\n",
            "23/23 [==============================] - 0s 4ms/step - loss: 0.5425 - accuracy: 0.7402\n",
            "Epoch 179/200\n",
            "23/23 [==============================] - 0s 4ms/step - loss: 0.5427 - accuracy: 0.7402\n",
            "Epoch 180/200\n",
            "23/23 [==============================] - 0s 4ms/step - loss: 0.5430 - accuracy: 0.7388\n",
            "Epoch 181/200\n",
            "23/23 [==============================] - 0s 3ms/step - loss: 0.5427 - accuracy: 0.7402\n",
            "Epoch 182/200\n",
            "23/23 [==============================] - 0s 4ms/step - loss: 0.5428 - accuracy: 0.7416\n",
            "Epoch 183/200\n",
            "23/23 [==============================] - 0s 4ms/step - loss: 0.5425 - accuracy: 0.7416\n",
            "Epoch 184/200\n",
            "23/23 [==============================] - 0s 3ms/step - loss: 0.5427 - accuracy: 0.7388\n",
            "Epoch 185/200\n",
            "23/23 [==============================] - 0s 4ms/step - loss: 0.5423 - accuracy: 0.7402\n",
            "Epoch 186/200\n",
            "23/23 [==============================] - 0s 4ms/step - loss: 0.5422 - accuracy: 0.7388\n",
            "Epoch 187/200\n",
            "23/23 [==============================] - 0s 4ms/step - loss: 0.5428 - accuracy: 0.7402\n",
            "Epoch 188/200\n",
            "23/23 [==============================] - 0s 2ms/step - loss: 0.5424 - accuracy: 0.7388\n",
            "Epoch 189/200\n",
            "23/23 [==============================] - 0s 2ms/step - loss: 0.5433 - accuracy: 0.7416\n",
            "Epoch 190/200\n",
            "23/23 [==============================] - 0s 2ms/step - loss: 0.5431 - accuracy: 0.7416\n",
            "Epoch 191/200\n",
            "23/23 [==============================] - 0s 3ms/step - loss: 0.5424 - accuracy: 0.7416\n",
            "Epoch 192/200\n",
            "23/23 [==============================] - 0s 3ms/step - loss: 0.5428 - accuracy: 0.7402\n",
            "Epoch 193/200\n",
            "23/23 [==============================] - 0s 2ms/step - loss: 0.5427 - accuracy: 0.7388\n",
            "Epoch 194/200\n",
            "23/23 [==============================] - 0s 2ms/step - loss: 0.5425 - accuracy: 0.7402\n",
            "Epoch 195/200\n",
            "23/23 [==============================] - 0s 2ms/step - loss: 0.5421 - accuracy: 0.7388\n",
            "Epoch 196/200\n",
            "23/23 [==============================] - 0s 2ms/step - loss: 0.5422 - accuracy: 0.7430\n",
            "Epoch 197/200\n",
            "23/23 [==============================] - 0s 2ms/step - loss: 0.5423 - accuracy: 0.7388\n",
            "Epoch 198/200\n",
            "23/23 [==============================] - 0s 2ms/step - loss: 0.5433 - accuracy: 0.7416\n",
            "Epoch 199/200\n",
            "23/23 [==============================] - 0s 2ms/step - loss: 0.5422 - accuracy: 0.7416\n",
            "Epoch 200/200\n",
            "23/23 [==============================] - 0s 2ms/step - loss: 0.5426 - accuracy: 0.7388\n"
          ]
        },
        {
          "output_type": "execute_result",
          "data": {
            "text/plain": [
              "<keras.callbacks.History at 0x7f8f0b0c9590>"
            ]
          },
          "metadata": {},
          "execution_count": 19
        }
      ]
    },
    {
      "cell_type": "code",
      "source": [
        "y_pred=ann.predict(X_test)\n",
        "y_pred=(y_pred>0.5)\n",
        "#y_pred=y_pred.astype(int)\n",
        "y_pred"
      ],
      "metadata": {
        "colab": {
          "base_uri": "https://localhost:8080/"
        },
        "id": "h5ORRhVMMvzF",
        "outputId": "acbf9730-9c83-4b18-d3a0-28d33a21b642"
      },
      "execution_count": null,
      "outputs": [
        {
          "output_type": "execute_result",
          "data": {
            "text/plain": [
              "array([[ True],\n",
              "       [ True],\n",
              "       [False],\n",
              "       [ True],\n",
              "       [ True],\n",
              "       [False],\n",
              "       [ True],\n",
              "       [False],\n",
              "       [False],\n",
              "       [False],\n",
              "       [False],\n",
              "       [False],\n",
              "       [False],\n",
              "       [False],\n",
              "       [ True],\n",
              "       [False],\n",
              "       [False],\n",
              "       [False],\n",
              "       [False],\n",
              "       [False],\n",
              "       [False],\n",
              "       [False],\n",
              "       [False],\n",
              "       [False],\n",
              "       [ True],\n",
              "       [False],\n",
              "       [ True],\n",
              "       [False],\n",
              "       [False],\n",
              "       [False],\n",
              "       [ True],\n",
              "       [ True],\n",
              "       [False],\n",
              "       [False],\n",
              "       [False],\n",
              "       [False],\n",
              "       [False],\n",
              "       [ True],\n",
              "       [False],\n",
              "       [False],\n",
              "       [False],\n",
              "       [False],\n",
              "       [False],\n",
              "       [False],\n",
              "       [False],\n",
              "       [False],\n",
              "       [ True],\n",
              "       [False],\n",
              "       [ True],\n",
              "       [False],\n",
              "       [ True],\n",
              "       [False],\n",
              "       [False],\n",
              "       [ True],\n",
              "       [ True],\n",
              "       [ True],\n",
              "       [False],\n",
              "       [False],\n",
              "       [False],\n",
              "       [False],\n",
              "       [ True],\n",
              "       [False],\n",
              "       [ True],\n",
              "       [False],\n",
              "       [False],\n",
              "       [False],\n",
              "       [ True],\n",
              "       [ True],\n",
              "       [False],\n",
              "       [False],\n",
              "       [False],\n",
              "       [False],\n",
              "       [False],\n",
              "       [False],\n",
              "       [False],\n",
              "       [False],\n",
              "       [False],\n",
              "       [False],\n",
              "       [False],\n",
              "       [False],\n",
              "       [False],\n",
              "       [ True],\n",
              "       [False],\n",
              "       [False],\n",
              "       [False],\n",
              "       [False],\n",
              "       [ True],\n",
              "       [False],\n",
              "       [False],\n",
              "       [ True],\n",
              "       [False],\n",
              "       [False],\n",
              "       [False],\n",
              "       [ True],\n",
              "       [False],\n",
              "       [False],\n",
              "       [False],\n",
              "       [ True],\n",
              "       [False],\n",
              "       [False],\n",
              "       [False],\n",
              "       [False],\n",
              "       [False],\n",
              "       [False],\n",
              "       [False],\n",
              "       [ True],\n",
              "       [False],\n",
              "       [False],\n",
              "       [False],\n",
              "       [ True],\n",
              "       [False],\n",
              "       [ True],\n",
              "       [False],\n",
              "       [False],\n",
              "       [False],\n",
              "       [False],\n",
              "       [False],\n",
              "       [False],\n",
              "       [ True],\n",
              "       [ True],\n",
              "       [False],\n",
              "       [ True],\n",
              "       [ True],\n",
              "       [False],\n",
              "       [False],\n",
              "       [False],\n",
              "       [False],\n",
              "       [False],\n",
              "       [False],\n",
              "       [False],\n",
              "       [False],\n",
              "       [False],\n",
              "       [False],\n",
              "       [False],\n",
              "       [False],\n",
              "       [False],\n",
              "       [False],\n",
              "       [False],\n",
              "       [False],\n",
              "       [False],\n",
              "       [ True],\n",
              "       [False],\n",
              "       [False],\n",
              "       [False],\n",
              "       [False],\n",
              "       [False],\n",
              "       [False],\n",
              "       [False],\n",
              "       [False],\n",
              "       [False],\n",
              "       [False],\n",
              "       [False],\n",
              "       [False],\n",
              "       [ True],\n",
              "       [False],\n",
              "       [False],\n",
              "       [ True],\n",
              "       [False],\n",
              "       [False],\n",
              "       [False],\n",
              "       [False],\n",
              "       [ True],\n",
              "       [False],\n",
              "       [False],\n",
              "       [ True],\n",
              "       [ True],\n",
              "       [ True],\n",
              "       [False],\n",
              "       [False],\n",
              "       [False],\n",
              "       [False],\n",
              "       [ True],\n",
              "       [False],\n",
              "       [False],\n",
              "       [False],\n",
              "       [False],\n",
              "       [False],\n",
              "       [ True],\n",
              "       [False]])"
            ]
          },
          "metadata": {},
          "execution_count": 20
        }
      ]
    },
    {
      "cell_type": "code",
      "source": [
        "y_pred=ann.predict(X_test)\n",
        "#y_pred=(y_pred>0.5)\n",
        "#y_pred=y_pred.astype(int)\n",
        "y_pred"
      ],
      "metadata": {
        "colab": {
          "base_uri": "https://localhost:8080/"
        },
        "id": "JcmN6AoHM17v",
        "outputId": "276d4988-0096-4d81-994c-415f982368c4"
      },
      "execution_count": null,
      "outputs": [
        {
          "output_type": "execute_result",
          "data": {
            "text/plain": [
              "array([[0.9324329 ],\n",
              "       [0.8768449 ],\n",
              "       [0.2031182 ],\n",
              "       [0.7007582 ],\n",
              "       [0.70658684],\n",
              "       [0.20229161],\n",
              "       [0.8885407 ],\n",
              "       [0.2031182 ],\n",
              "       [0.20229161],\n",
              "       [0.20236042],\n",
              "       [0.46103287],\n",
              "       [0.41193557],\n",
              "       [0.25269234],\n",
              "       [0.20575243],\n",
              "       [0.843573  ],\n",
              "       [0.31779227],\n",
              "       [0.20241764],\n",
              "       [0.20481369],\n",
              "       [0.20277354],\n",
              "       [0.316106  ],\n",
              "       [0.31133306],\n",
              "       [0.20241764],\n",
              "       [0.34764677],\n",
              "       [0.06270161],\n",
              "       [0.67841285],\n",
              "       [0.2000381 ],\n",
              "       [0.88771975],\n",
              "       [0.20045778],\n",
              "       [0.23014218],\n",
              "       [0.20269305],\n",
              "       [0.86753017],\n",
              "       [0.52458686],\n",
              "       [0.19930533],\n",
              "       [0.01401865],\n",
              "       [0.20269305],\n",
              "       [0.2000381 ],\n",
              "       [0.31519997],\n",
              "       [0.8768449 ],\n",
              "       [0.207149  ],\n",
              "       [0.28152162],\n",
              "       [0.35316682],\n",
              "       [0.31747222],\n",
              "       [0.20229161],\n",
              "       [0.15576077],\n",
              "       [0.31133306],\n",
              "       [0.30485082],\n",
              "       [0.8039942 ],\n",
              "       [0.20269305],\n",
              "       [0.91515195],\n",
              "       [0.20739406],\n",
              "       [0.85315514],\n",
              "       [0.4139144 ],\n",
              "       [0.20263577],\n",
              "       [0.7538856 ],\n",
              "       [0.7232475 ],\n",
              "       [0.82001543],\n",
              "       [0.20250958],\n",
              "       [0.2005628 ],\n",
              "       [0.48741645],\n",
              "       [0.31133306],\n",
              "       [0.70343465],\n",
              "       [0.06270161],\n",
              "       [0.7007582 ],\n",
              "       [0.2031182 ],\n",
              "       [0.20269305],\n",
              "       [0.20269305],\n",
              "       [0.8524266 ],\n",
              "       [0.8930842 ],\n",
              "       [0.4317212 ],\n",
              "       [0.41395038],\n",
              "       [0.25503224],\n",
              "       [0.20269305],\n",
              "       [0.31133306],\n",
              "       [0.2851728 ],\n",
              "       [0.26276296],\n",
              "       [0.332688  ],\n",
              "       [0.20250958],\n",
              "       [0.20159316],\n",
              "       [0.4946329 ],\n",
              "       [0.34764677],\n",
              "       [0.20398197],\n",
              "       [0.5047398 ],\n",
              "       [0.41304073],\n",
              "       [0.20174196],\n",
              "       [0.28150463],\n",
              "       [0.2031182 ],\n",
              "       [0.8168044 ],\n",
              "       [0.2031182 ],\n",
              "       [0.20224565],\n",
              "       [0.7092893 ],\n",
              "       [0.01401865],\n",
              "       [0.23333639],\n",
              "       [0.44501245],\n",
              "       [0.91515195],\n",
              "       [0.31779227],\n",
              "       [0.31779227],\n",
              "       [0.2850428 ],\n",
              "       [0.69016474],\n",
              "       [0.24738652],\n",
              "       [0.203809  ],\n",
              "       [0.34764677],\n",
              "       [0.31779227],\n",
              "       [0.35316682],\n",
              "       [0.19972384],\n",
              "       [0.2031182 ],\n",
              "       [0.6005609 ],\n",
              "       [0.4131513 ],\n",
              "       [0.2005628 ],\n",
              "       [0.31133306],\n",
              "       [0.69723064],\n",
              "       [0.34764677],\n",
              "       [0.6827507 ],\n",
              "       [0.35919398],\n",
              "       [0.21543631],\n",
              "       [0.08479211],\n",
              "       [0.2031182 ],\n",
              "       [0.28169405],\n",
              "       [0.22992134],\n",
              "       [0.84204924],\n",
              "       [0.66939807],\n",
              "       [0.20229161],\n",
              "       [0.66939807],\n",
              "       [0.7121974 ],\n",
              "       [0.4129302 ],\n",
              "       [0.06270161],\n",
              "       [0.45869392],\n",
              "       [0.37633303],\n",
              "       [0.4139725 ],\n",
              "       [0.2031182 ],\n",
              "       [0.2031182 ],\n",
              "       [0.4542689 ],\n",
              "       [0.20809561],\n",
              "       [0.31779227],\n",
              "       [0.38595778],\n",
              "       [0.41193557],\n",
              "       [0.2031182 ],\n",
              "       [0.32521105],\n",
              "       [0.49003735],\n",
              "       [0.20229161],\n",
              "       [0.20257846],\n",
              "       [0.706207  ],\n",
              "       [0.3139081 ],\n",
              "       [0.20277354],\n",
              "       [0.41299745],\n",
              "       [0.20269305],\n",
              "       [0.41204602],\n",
              "       [0.31779227],\n",
              "       [0.20045778],\n",
              "       [0.20241764],\n",
              "       [0.31747222],\n",
              "       [0.44517866],\n",
              "       [0.35265777],\n",
              "       [0.25472465],\n",
              "       [0.61974394],\n",
              "       [0.35316682],\n",
              "       [0.31747222],\n",
              "       [0.7538856 ],\n",
              "       [0.20229161],\n",
              "       [0.20229161],\n",
              "       [0.2850428 ],\n",
              "       [0.31779227],\n",
              "       [0.7564559 ],\n",
              "       [0.4139144 ],\n",
              "       [0.2005628 ],\n",
              "       [0.7722125 ],\n",
              "       [0.87978137],\n",
              "       [0.8930842 ],\n",
              "       [0.44517866],\n",
              "       [0.2026473 ],\n",
              "       [0.35316682],\n",
              "       [0.35316682],\n",
              "       [0.70658684],\n",
              "       [0.31779227],\n",
              "       [0.3190927 ],\n",
              "       [0.20229161],\n",
              "       [0.20236042],\n",
              "       [0.20229161],\n",
              "       [0.7990718 ],\n",
              "       [0.26137906]], dtype=float32)"
            ]
          },
          "metadata": {},
          "execution_count": 21
        }
      ]
    },
    {
      "cell_type": "markdown",
      "source": [
        "** implementing Support Vector Machine (SVM)**"
      ],
      "metadata": {
        "id": "WKMOnXRvPrjX"
      }
    },
    {
      "cell_type": "code",
      "source": [
        "clf = svm.SVC(kernel='rbf')\n",
        "clf.fit(X_train, y_train)"
      ],
      "metadata": {
        "colab": {
          "base_uri": "https://localhost:8080/"
        },
        "id": "vh-hcJ9pPt5s",
        "outputId": "dfb1fe32-157a-47b3-e3f5-4f710777151f"
      },
      "execution_count": null,
      "outputs": [
        {
          "output_type": "execute_result",
          "data": {
            "text/plain": [
              "SVC()"
            ]
          },
          "metadata": {},
          "execution_count": 23
        }
      ]
    },
    {
      "cell_type": "code",
      "source": [
        "yhat = clf.predict(X_test)\n",
        "yhat [0:5]"
      ],
      "metadata": {
        "colab": {
          "base_uri": "https://localhost:8080/"
        },
        "id": "YWPj_eLZQWGp",
        "outputId": "08142bde-a782-48d7-d52a-b57760d65f0a"
      },
      "execution_count": null,
      "outputs": [
        {
          "output_type": "execute_result",
          "data": {
            "text/plain": [
              "array([1, 1, 0, 1, 1])"
            ]
          },
          "metadata": {},
          "execution_count": 24
        }
      ]
    },
    {
      "cell_type": "code",
      "source": [
        "from sklearn import metrics\n",
        "print(\"Test set Accuracy: \", metrics.accuracy_score(y_test, yhat))"
      ],
      "metadata": {
        "colab": {
          "base_uri": "https://localhost:8080/"
        },
        "id": "_MFeDnSEQiS0",
        "outputId": "cafbf6a1-2459-480e-f63b-3128f9363af1"
      },
      "execution_count": null,
      "outputs": [
        {
          "output_type": "stream",
          "name": "stdout",
          "text": [
            "Test set Accuracy:  0.6815642458100558\n"
          ]
        }
      ]
    },
    {
      "cell_type": "markdown",
      "source": [
        "**Modellling - Logistic Regression**"
      ],
      "metadata": {
        "id": "Wm2zZs9HRJaI"
      }
    },
    {
      "cell_type": "code",
      "source": [
        "LR = LogisticRegression().fit(X_train,y_train)"
      ],
      "metadata": {
        "id": "YSO963uiRYF_"
      },
      "execution_count": null,
      "outputs": []
    },
    {
      "cell_type": "code",
      "source": [
        "yhat = LR.predict(X_test)\n",
        "yhat"
      ],
      "metadata": {
        "colab": {
          "base_uri": "https://localhost:8080/"
        },
        "id": "1pysHbUMRchY",
        "outputId": "20888088-1e60-40b1-d916-78ecf54a90bc"
      },
      "execution_count": null,
      "outputs": [
        {
          "output_type": "execute_result",
          "data": {
            "text/plain": [
              "array([1, 1, 0, 1, 0, 0, 1, 0, 0, 0, 0, 1, 0, 0, 1, 0, 0, 0, 0, 0, 0, 0,\n",
              "       0, 0, 1, 0, 1, 0, 0, 0, 1, 0, 0, 0, 0, 0, 0, 1, 0, 0, 0, 1, 0, 0,\n",
              "       0, 0, 0, 0, 1, 0, 1, 1, 0, 1, 0, 0, 0, 0, 0, 0, 1, 0, 1, 0, 0, 0,\n",
              "       1, 1, 0, 1, 0, 0, 0, 0, 0, 0, 0, 0, 0, 0, 0, 0, 1, 0, 0, 0, 0, 0,\n",
              "       0, 1, 0, 0, 0, 1, 0, 0, 0, 1, 1, 0, 0, 0, 0, 0, 0, 1, 1, 0, 0, 1,\n",
              "       0, 1, 0, 1, 0, 0, 0, 0, 1, 1, 0, 1, 1, 1, 0, 0, 0, 1, 0, 0, 0, 0,\n",
              "       0, 0, 1, 0, 0, 0, 0, 0, 1, 0, 0, 1, 0, 1, 0, 0, 0, 1, 1, 0, 0, 0,\n",
              "       0, 1, 1, 0, 0, 0, 0, 1, 1, 0, 1, 1, 1, 1, 0, 0, 0, 0, 0, 0, 0, 0,\n",
              "       0, 1, 0])"
            ]
          },
          "metadata": {},
          "execution_count": 28
        }
      ]
    },
    {
      "cell_type": "code",
      "source": [
        "yhat_prob = LR.predict_proba(X_test)\n",
        "yhat_prob"
      ],
      "metadata": {
        "colab": {
          "base_uri": "https://localhost:8080/"
        },
        "id": "ZUn77d-VRhaQ",
        "outputId": "bb704cf9-ca8c-4a62-b0ed-66b8c79665b5"
      },
      "execution_count": null,
      "outputs": [
        {
          "output_type": "execute_result",
          "data": {
            "text/plain": [
              "array([[0.45239648, 0.54760352],\n",
              "       [0.36863286, 0.63136714],\n",
              "       [0.76339361, 0.23660639],\n",
              "       [0.4224978 , 0.5775022 ],\n",
              "       [0.53781597, 0.46218403],\n",
              "       [0.76362414, 0.23637586],\n",
              "       [0.31245342, 0.68754658],\n",
              "       [0.76339361, 0.23660639],\n",
              "       [0.76362414, 0.23637586],\n",
              "       [0.76360493, 0.23639507],\n",
              "       [0.71910951, 0.28089049],\n",
              "       [0.41034846, 0.58965154],\n",
              "       [0.78778014, 0.21221986],\n",
              "       [0.76266256, 0.23733744],\n",
              "       [0.39945976, 0.60054024],\n",
              "       [0.60868075, 0.39131925],\n",
              "       [0.76358895, 0.23641105],\n",
              "       [0.76292245, 0.23707755],\n",
              "       [0.76348968, 0.23651032],\n",
              "       [0.60933944, 0.39066056],\n",
              "       [0.61121201, 0.38878799],\n",
              "       [0.76358895, 0.23641105],\n",
              "       [0.5954265 , 0.4045735 ],\n",
              "       [0.74218443, 0.25781557],\n",
              "       [0.42540795, 0.57459205],\n",
              "       [0.76410392, 0.23589608],\n",
              "       [0.3420386 , 0.6579614 ],\n",
              "       [0.7640272 , 0.2359728 ],\n",
              "       [0.75839968, 0.24160032],\n",
              "       [0.76351212, 0.23648788],\n",
              "       [0.39415447, 0.60584553],\n",
              "       [0.69384793, 0.30615207],\n",
              "       [0.76423814, 0.23576186],\n",
              "       [0.79760726, 0.20239274],\n",
              "       [0.76351212, 0.23648788],\n",
              "       [0.76410392, 0.23589608],\n",
              "       [0.60969396, 0.39030604],\n",
              "       [0.36863286, 0.63136714],\n",
              "       [0.76227718, 0.23772282],\n",
              "       [0.78260617, 0.21739383],\n",
              "       [0.62790981, 0.37209019],\n",
              "       [0.44733519, 0.55266481],\n",
              "       [0.76362414, 0.23637586],\n",
              "       [0.70361714, 0.29638286],\n",
              "       [0.61121201, 0.38878799],\n",
              "       [0.77859135, 0.22140865],\n",
              "       [0.55153605, 0.44846395],\n",
              "       [0.76351212, 0.23648788],\n",
              "       [0.43872992, 0.56127008],\n",
              "       [0.76220969, 0.23779031],\n",
              "       [0.42047211, 0.57952789],\n",
              "       [0.41959517, 0.58040483],\n",
              "       [0.7635281 , 0.2364719 ],\n",
              "       [0.35903113, 0.64096887],\n",
              "       [0.53992657, 0.46007343],\n",
              "       [0.52441207, 0.47558793],\n",
              "       [0.76356329, 0.23643671],\n",
              "       [0.76400802, 0.23599198],\n",
              "       [0.72211907, 0.27788093],\n",
              "       [0.61121201, 0.38878799],\n",
              "       [0.22827298, 0.77172702],\n",
              "       [0.74218443, 0.25781557],\n",
              "       [0.4224978 , 0.5775022 ],\n",
              "       [0.76339361, 0.23660639],\n",
              "       [0.76351212, 0.23648788],\n",
              "       [0.76351212, 0.23648788],\n",
              "       [0.35099459, 0.64900541],\n",
              "       [0.38754313, 0.61245687],\n",
              "       [0.7157123 , 0.2842877 ],\n",
              "       [0.4197636 , 0.5802364 ],\n",
              "       [0.78734993, 0.21265007],\n",
              "       [0.76351212, 0.23648788],\n",
              "       [0.61121201, 0.38878799],\n",
              "       [0.75079506, 0.24920494],\n",
              "       [0.78594225, 0.21405775],\n",
              "       [0.80882612, 0.19117388],\n",
              "       [0.76356329, 0.23643671],\n",
              "       [0.76381936, 0.23618064],\n",
              "       [0.72293671, 0.27706329],\n",
              "       [0.72416158, 0.27583842],\n",
              "       [0.7631533 , 0.2368467 ],\n",
              "       [0.72407896, 0.27592104],\n",
              "       [0.41550685, 0.58449315],\n",
              "       [0.76377774, 0.23622226],\n",
              "       [0.78260914, 0.21739086],\n",
              "       [0.76339361, 0.23660639],\n",
              "       [0.56360868, 0.43639132],\n",
              "       [0.76339361, 0.23660639],\n",
              "       [0.76363697, 0.23636303],\n",
              "       [0.42135599, 0.57864401],\n",
              "       [0.79760726, 0.20239274],\n",
              "       [0.7579315 , 0.2420685 ],\n",
              "       [0.71726122, 0.28273878],\n",
              "       [0.43872992, 0.56127008],\n",
              "       [0.60868075, 0.39131925],\n",
              "       [0.60868075, 0.39131925],\n",
              "       [0.62177659, 0.37822341],\n",
              "       [0.36743888, 0.63256112],\n",
              "       [0.3774884 , 0.6225116 ],\n",
              "       [0.76320138, 0.23679862],\n",
              "       [0.72416158, 0.27583842],\n",
              "       [0.60868075, 0.39131925],\n",
              "       [0.62790981, 0.37209019],\n",
              "       [0.76416145, 0.23583855],\n",
              "       [0.76339361, 0.23660639],\n",
              "       [0.25111925, 0.74888075],\n",
              "       [0.41602373, 0.58397627],\n",
              "       [0.76400802, 0.23599198],\n",
              "       [0.61121201, 0.38878799],\n",
              "       [0.36655728, 0.63344272],\n",
              "       [0.72416158, 0.27583842],\n",
              "       [0.17464775, 0.82535225],\n",
              "       [0.64791553, 0.35208447],\n",
              "       [0.48954854, 0.51045146],\n",
              "       [0.78033403, 0.21966597],\n",
              "       [0.76339361, 0.23660639],\n",
              "       [0.78257597, 0.21742403],\n",
              "       [0.7584322 , 0.2415678 ],\n",
              "       [0.39977466, 0.60022534],\n",
              "       [0.42655265, 0.57344735],\n",
              "       [0.76362414, 0.23637586],\n",
              "       [0.42655265, 0.57344735],\n",
              "       [0.33332777, 0.66667223],\n",
              "       [0.41499015, 0.58500985],\n",
              "       [0.74218443, 0.25781557],\n",
              "       [0.7188408 , 0.2811592 ],\n",
              "       [0.80260595, 0.19739405],\n",
              "       [0.41986726, 0.58013274],\n",
              "       [0.76339361, 0.23660639],\n",
              "       [0.76339361, 0.23660639],\n",
              "       [0.54352238, 0.45647762],\n",
              "       [0.7620168 , 0.2379832 ],\n",
              "       [0.60868075, 0.39131925],\n",
              "       [0.79904221, 0.20095779],\n",
              "       [0.41034846, 0.58965154],\n",
              "       [0.76339361, 0.23660639],\n",
              "       [0.77550707, 0.22449293],\n",
              "       [0.69681034, 0.30318966],\n",
              "       [0.76362414, 0.23637586],\n",
              "       [0.76354409, 0.23645591],\n",
              "       [0.36542163, 0.63457837],\n",
              "       [0.61020022, 0.38979978],\n",
              "       [0.76348968, 0.23651032],\n",
              "       [0.41530449, 0.58469551],\n",
              "       [0.76351212, 0.23648788],\n",
              "       [0.41086343, 0.58913657],\n",
              "       [0.60868075, 0.39131925],\n",
              "       [0.7640272 , 0.2359728 ],\n",
              "       [0.76358895, 0.23641105],\n",
              "       [0.44733519, 0.55266481],\n",
              "       [0.39600851, 0.60399149],\n",
              "       [0.62691495, 0.37308505],\n",
              "       [0.78740636, 0.21259364],\n",
              "       [0.63178678, 0.36821322],\n",
              "       [0.62790981, 0.37209019],\n",
              "       [0.44733519, 0.55266481],\n",
              "       [0.35903113, 0.64096887],\n",
              "       [0.76362414, 0.23637586],\n",
              "       [0.76362414, 0.23637586],\n",
              "       [0.62177659, 0.37822341],\n",
              "       [0.60868075, 0.39131925],\n",
              "       [0.20977469, 0.79022531],\n",
              "       [0.41959517, 0.58040483],\n",
              "       [0.76400802, 0.23599198],\n",
              "       [0.24771106, 0.75228894],\n",
              "       [0.37108774, 0.62891226],\n",
              "       [0.38754313, 0.61245687],\n",
              "       [0.39600851, 0.60399149],\n",
              "       [0.76352488, 0.23647512],\n",
              "       [0.62790981, 0.37209019],\n",
              "       [0.62790981, 0.37209019],\n",
              "       [0.53781597, 0.46218403],\n",
              "       [0.60868075, 0.39131925],\n",
              "       [0.60817378, 0.39182622],\n",
              "       [0.76362414, 0.23637586],\n",
              "       [0.76360493, 0.23639507],\n",
              "       [0.76362414, 0.23637586],\n",
              "       [0.35220463, 0.64779537],\n",
              "       [0.78619274, 0.21380726]])"
            ]
          },
          "metadata": {},
          "execution_count": 29
        }
      ]
    },
    {
      "cell_type": "code",
      "source": [
        "from sklearn import metrics\n",
        "print(\"Test set Accuracy: \", metrics.accuracy_score(y_test, yhat))"
      ],
      "metadata": {
        "colab": {
          "base_uri": "https://localhost:8080/"
        },
        "id": "SWyiN2MCR7Jd",
        "outputId": "bdc0692e-93cb-4f2b-86c6-3bb74125dcd5"
      },
      "execution_count": null,
      "outputs": [
        {
          "output_type": "stream",
          "name": "stdout",
          "text": [
            "Test set Accuracy:  0.6536312849162011\n"
          ]
        }
      ]
    },
    {
      "cell_type": "markdown",
      "source": [
        "**Implementing ANN linear regression model using TensorFlow**"
      ],
      "metadata": {
        "id": "8EZJPh6KTXlf"
      }
    },
    {
      "cell_type": "code",
      "source": [
        "df1 = pd.read_csv('FuelConsumption.csv')\n",
        "print(df1)"
      ],
      "metadata": {
        "colab": {
          "base_uri": "https://localhost:8080/"
        },
        "id": "6cqL7xFtTlql",
        "outputId": "f860c716-21dc-4fdd-f2f8-1da59c5fbb90"
      },
      "execution_count": null,
      "outputs": [
        {
          "output_type": "stream",
          "name": "stdout",
          "text": [
            "      MODELYEAR   MAKE       MODEL    VEHICLECLASS  ENGINESIZE  CYLINDERS  \\\n",
            "0          2014  ACURA         ILX         COMPACT         2.0          4   \n",
            "1          2014  ACURA         ILX         COMPACT         2.4          4   \n",
            "2          2014  ACURA  ILX HYBRID         COMPACT         1.5          4   \n",
            "3          2014  ACURA     MDX 4WD     SUV - SMALL         3.5          6   \n",
            "4          2014  ACURA     RDX AWD     SUV - SMALL         3.5          6   \n",
            "...         ...    ...         ...             ...         ...        ...   \n",
            "1062       2014  VOLVO    XC60 AWD     SUV - SMALL         3.0          6   \n",
            "1063       2014  VOLVO    XC60 AWD     SUV - SMALL         3.2          6   \n",
            "1064       2014  VOLVO    XC70 AWD     SUV - SMALL         3.0          6   \n",
            "1065       2014  VOLVO    XC70 AWD     SUV - SMALL         3.2          6   \n",
            "1066       2014  VOLVO    XC90 AWD  SUV - STANDARD         3.2          6   \n",
            "\n",
            "     TRANSMISSION FUELTYPE  FUELCONSUMPTION_CITY  FUELCONSUMPTION_HWY  \\\n",
            "0             AS5        Z                   9.9                  6.7   \n",
            "1              M6        Z                  11.2                  7.7   \n",
            "2             AV7        Z                   6.0                  5.8   \n",
            "3             AS6        Z                  12.7                  9.1   \n",
            "4             AS6        Z                  12.1                  8.7   \n",
            "...           ...      ...                   ...                  ...   \n",
            "1062          AS6        X                  13.4                  9.8   \n",
            "1063          AS6        X                  13.2                  9.5   \n",
            "1064          AS6        X                  13.4                  9.8   \n",
            "1065          AS6        X                  12.9                  9.3   \n",
            "1066          AS6        X                  14.9                 10.2   \n",
            "\n",
            "      FUELCONSUMPTION_COMB  FUELCONSUMPTION_COMB_MPG  CO2EMISSIONS  \n",
            "0                      8.5                        33           196  \n",
            "1                      9.6                        29           221  \n",
            "2                      5.9                        48           136  \n",
            "3                     11.1                        25           255  \n",
            "4                     10.6                        27           244  \n",
            "...                    ...                       ...           ...  \n",
            "1062                  11.8                        24           271  \n",
            "1063                  11.5                        25           264  \n",
            "1064                  11.8                        24           271  \n",
            "1065                  11.3                        25           260  \n",
            "1066                  12.8                        22           294  \n",
            "\n",
            "[1067 rows x 13 columns]\n"
          ]
        }
      ]
    },
    {
      "cell_type": "code",
      "source": [
        "df1.info()"
      ],
      "metadata": {
        "colab": {
          "base_uri": "https://localhost:8080/"
        },
        "id": "1wYPB-7qT8tw",
        "outputId": "f1761a24-c559-400b-ebd1-b6e0b04e3630"
      },
      "execution_count": null,
      "outputs": [
        {
          "output_type": "stream",
          "name": "stdout",
          "text": [
            "<class 'pandas.core.frame.DataFrame'>\n",
            "RangeIndex: 1067 entries, 0 to 1066\n",
            "Data columns (total 13 columns):\n",
            " #   Column                    Non-Null Count  Dtype  \n",
            "---  ------                    --------------  -----  \n",
            " 0   MODELYEAR                 1067 non-null   int64  \n",
            " 1   MAKE                      1067 non-null   object \n",
            " 2   MODEL                     1067 non-null   object \n",
            " 3   VEHICLECLASS              1067 non-null   object \n",
            " 4   ENGINESIZE                1067 non-null   float64\n",
            " 5   CYLINDERS                 1067 non-null   int64  \n",
            " 6   TRANSMISSION              1067 non-null   object \n",
            " 7   FUELTYPE                  1067 non-null   object \n",
            " 8   FUELCONSUMPTION_CITY      1067 non-null   float64\n",
            " 9   FUELCONSUMPTION_HWY       1067 non-null   float64\n",
            " 10  FUELCONSUMPTION_COMB      1067 non-null   float64\n",
            " 11  FUELCONSUMPTION_COMB_MPG  1067 non-null   int64  \n",
            " 12  CO2EMISSIONS              1067 non-null   int64  \n",
            "dtypes: float64(4), int64(4), object(5)\n",
            "memory usage: 108.5+ KB\n"
          ]
        }
      ]
    },
    {
      "cell_type": "code",
      "source": [
        "X = np.asarray(df1[['CYLINDERS']])\n",
        "X[0:5]"
      ],
      "metadata": {
        "colab": {
          "base_uri": "https://localhost:8080/"
        },
        "id": "vWmUwlz5UOfx",
        "outputId": "ecd17b6b-d213-419f-873a-a4f0bd9792a7"
      },
      "execution_count": null,
      "outputs": [
        {
          "output_type": "execute_result",
          "data": {
            "text/plain": [
              "array([[4],\n",
              "       [4],\n",
              "       [4],\n",
              "       [6],\n",
              "       [6]])"
            ]
          },
          "metadata": {},
          "execution_count": 34
        }
      ]
    },
    {
      "cell_type": "code",
      "source": [
        "y = np.asarray(df1['CO2EMISSIONS'])\n",
        "y [0:5]"
      ],
      "metadata": {
        "colab": {
          "base_uri": "https://localhost:8080/"
        },
        "id": "LdMXKL9VUrP3",
        "outputId": "9249d602-d80d-4235-aaab-10ef79e9ef79"
      },
      "execution_count": null,
      "outputs": [
        {
          "output_type": "execute_result",
          "data": {
            "text/plain": [
              "array([196, 221, 136, 255, 244])"
            ]
          },
          "metadata": {},
          "execution_count": 36
        }
      ]
    },
    {
      "cell_type": "code",
      "source": [
        "from sklearn.model_selection import train_test_split\n",
        "X_train, X_test, y_train, y_test = train_test_split( X, y, test_size=0.2)\n",
        "print ('Train set:', X_train.shape,  y_train.shape)\n",
        "print ('Test set:', X_test.shape,  y_test.shape)"
      ],
      "metadata": {
        "colab": {
          "base_uri": "https://localhost:8080/"
        },
        "id": "-4QydtceUwox",
        "outputId": "b3f399e5-b512-4232-e1be-4d9d74ee97a9"
      },
      "execution_count": null,
      "outputs": [
        {
          "output_type": "stream",
          "name": "stdout",
          "text": [
            "Train set: (853, 1) (853,)\n",
            "Test set: (214, 1) (214,)\n"
          ]
        }
      ]
    },
    {
      "cell_type": "code",
      "source": [
        "plt.xlabel('X_train') \n",
        "plt.ylabel('y_train') \n",
        "plt.scatter(X_train, y_train)\n",
        "plt.show()"
      ],
      "metadata": {
        "colab": {
          "base_uri": "https://localhost:8080/",
          "height": 281
        },
        "id": "um4gqHSRVVXZ",
        "outputId": "9ddc5d8e-06a8-496b-8055-f357ee64d6dc"
      },
      "execution_count": null,
      "outputs": [
        {
          "output_type": "display_data",
          "data": {
            "text/plain": [
              "<Figure size 432x288 with 1 Axes>"
            ],
            "image/png": "[encoded data removed]"
          },
          "metadata": {
            "needs_background": "light"
          }
        }
      ]
    },
    {
      "cell_type": "code",
      "source": [
        "model = tf.keras.models.Sequential()"
      ],
      "metadata": {
        "id": "JhASCe0hVbw0"
      },
      "execution_count": null,
      "outputs": []
    },
    {
      "cell_type": "code",
      "source": [
        "model.add(tf.keras.layers.Dense(units=1))"
      ],
      "metadata": {
        "id": "f1EY2j3aVguq"
      },
      "execution_count": null,
      "outputs": []
    },
    {
      "cell_type": "code",
      "source": [
        "opt = keras.optimizers.Adam(learning_rate=0.1)\n",
        "model.compile(loss='mean_squared_error', optimizer=opt)"
      ],
      "metadata": {
        "id": "jpFv-OmYVlDz"
      },
      "execution_count": null,
      "outputs": []
    },
    {
      "cell_type": "code",
      "source": [
        "history = model.fit(X_train,y_train, epochs=100)"
      ],
      "metadata": {
        "colab": {
          "base_uri": "https://localhost:8080/"
        },
        "id": "y-xMqHZIV2kl",
        "outputId": "acd0386c-01dc-4fa1-d95e-065da0283ea4"
      },
      "execution_count": null,
      "outputs": [
        {
          "output_type": "stream",
          "name": "stdout",
          "text": [
            "Epoch 1/100\n",
            "27/27 [==============================] - 1s 3ms/step - loss: 69001.3750\n",
            "Epoch 2/100\n",
            "27/27 [==============================] - 0s 3ms/step - loss: 59648.8867\n",
            "Epoch 3/100\n",
            "27/27 [==============================] - 0s 3ms/step - loss: 51281.3633\n",
            "Epoch 4/100\n",
            "27/27 [==============================] - 0s 3ms/step - loss: 43835.1758\n",
            "Epoch 5/100\n",
            "27/27 [==============================] - 0s 3ms/step - loss: 37273.9922\n",
            "Epoch 6/100\n",
            "27/27 [==============================] - 0s 3ms/step - loss: 31542.0625\n",
            "Epoch 7/100\n",
            "27/27 [==============================] - 0s 3ms/step - loss: 26556.2305\n",
            "Epoch 8/100\n",
            "27/27 [==============================] - 0s 3ms/step - loss: 22234.5234\n",
            "Epoch 9/100\n",
            "27/27 [==============================] - 0s 3ms/step - loss: 18519.6211\n",
            "Epoch 10/100\n",
            "27/27 [==============================] - 0s 3ms/step - loss: 15354.0537\n",
            "Epoch 11/100\n",
            "27/27 [==============================] - 0s 3ms/step - loss: 12696.8643\n",
            "Epoch 12/100\n",
            "27/27 [==============================] - 0s 3ms/step - loss: 10451.0303\n",
            "Epoch 13/100\n",
            "27/27 [==============================] - 0s 3ms/step - loss: 8598.8662\n",
            "Epoch 14/100\n",
            "27/27 [==============================] - 0s 3ms/step - loss: 7054.5068\n",
            "Epoch 15/100\n",
            "27/27 [==============================] - 0s 3ms/step - loss: 5810.9321\n",
            "Epoch 16/100\n",
            "27/27 [==============================] - 0s 3ms/step - loss: 4802.9653\n",
            "Epoch 17/100\n",
            "27/27 [==============================] - 0s 3ms/step - loss: 3982.8259\n",
            "Epoch 18/100\n",
            "27/27 [==============================] - 0s 2ms/step - loss: 3342.1975\n",
            "Epoch 19/100\n",
            "27/27 [==============================] - 0s 1ms/step - loss: 2832.2070\n",
            "Epoch 20/100\n",
            "27/27 [==============================] - 0s 2ms/step - loss: 2440.9983\n",
            "Epoch 21/100\n",
            "27/27 [==============================] - 0s 2ms/step - loss: 2135.1409\n",
            "Epoch 22/100\n",
            "27/27 [==============================] - 0s 2ms/step - loss: 1905.1947\n",
            "Epoch 23/100\n",
            "27/27 [==============================] - 0s 2ms/step - loss: 1731.3284\n",
            "Epoch 24/100\n",
            "27/27 [==============================] - 0s 1ms/step - loss: 1599.1411\n",
            "Epoch 25/100\n",
            "27/27 [==============================] - 0s 1ms/step - loss: 1504.4038\n",
            "Epoch 26/100\n",
            "27/27 [==============================] - 0s 2ms/step - loss: 1435.8721\n",
            "Epoch 27/100\n",
            "27/27 [==============================] - 0s 2ms/step - loss: 1382.7747\n",
            "Epoch 28/100\n",
            "27/27 [==============================] - 0s 1ms/step - loss: 1346.8846\n",
            "Epoch 29/100\n",
            "27/27 [==============================] - 0s 1ms/step - loss: 1319.9430\n",
            "Epoch 30/100\n",
            "27/27 [==============================] - 0s 1ms/step - loss: 1302.2202\n",
            "Epoch 31/100\n",
            "27/27 [==============================] - 0s 2ms/step - loss: 1288.0115\n",
            "Epoch 32/100\n",
            "27/27 [==============================] - 0s 1ms/step - loss: 1280.0093\n",
            "Epoch 33/100\n",
            "27/27 [==============================] - 0s 2ms/step - loss: 1272.9462\n",
            "Epoch 34/100\n",
            "27/27 [==============================] - 0s 2ms/step - loss: 1268.9906\n",
            "Epoch 35/100\n",
            "27/27 [==============================] - 0s 1ms/step - loss: 1265.9022\n",
            "Epoch 36/100\n",
            "27/27 [==============================] - 0s 2ms/step - loss: 1263.3760\n",
            "Epoch 37/100\n",
            "27/27 [==============================] - 0s 2ms/step - loss: 1261.6404\n",
            "Epoch 38/100\n",
            "27/27 [==============================] - 0s 2ms/step - loss: 1260.2645\n",
            "Epoch 39/100\n",
            "27/27 [==============================] - 0s 2ms/step - loss: 1259.3329\n",
            "Epoch 40/100\n",
            "27/27 [==============================] - 0s 2ms/step - loss: 1257.7642\n",
            "Epoch 41/100\n",
            "27/27 [==============================] - 0s 2ms/step - loss: 1257.1090\n",
            "Epoch 42/100\n",
            "27/27 [==============================] - 0s 2ms/step - loss: 1255.7368\n",
            "Epoch 43/100\n",
            "27/27 [==============================] - 0s 2ms/step - loss: 1254.9727\n",
            "Epoch 44/100\n",
            "27/27 [==============================] - 0s 1ms/step - loss: 1254.1121\n",
            "Epoch 45/100\n",
            "27/27 [==============================] - 0s 2ms/step - loss: 1253.1792\n",
            "Epoch 46/100\n",
            "27/27 [==============================] - 0s 1ms/step - loss: 1252.7024\n",
            "Epoch 47/100\n",
            "27/27 [==============================] - 0s 1ms/step - loss: 1251.8477\n",
            "Epoch 48/100\n",
            "27/27 [==============================] - 0s 1ms/step - loss: 1250.5250\n",
            "Epoch 49/100\n",
            "27/27 [==============================] - 0s 1ms/step - loss: 1249.5798\n",
            "Epoch 50/100\n",
            "27/27 [==============================] - 0s 2ms/step - loss: 1248.7574\n",
            "Epoch 51/100\n",
            "27/27 [==============================] - 0s 2ms/step - loss: 1247.7931\n",
            "Epoch 52/100\n",
            "27/27 [==============================] - 0s 1ms/step - loss: 1247.7257\n",
            "Epoch 53/100\n",
            "27/27 [==============================] - 0s 2ms/step - loss: 1246.3945\n",
            "Epoch 54/100\n",
            "27/27 [==============================] - 0s 2ms/step - loss: 1244.8750\n",
            "Epoch 55/100\n",
            "27/27 [==============================] - 0s 1ms/step - loss: 1244.4929\n",
            "Epoch 56/100\n",
            "27/27 [==============================] - 0s 2ms/step - loss: 1243.0100\n",
            "Epoch 57/100\n",
            "27/27 [==============================] - 0s 1ms/step - loss: 1242.0137\n",
            "Epoch 58/100\n",
            "27/27 [==============================] - 0s 2ms/step - loss: 1242.2268\n",
            "Epoch 59/100\n",
            "27/27 [==============================] - 0s 1ms/step - loss: 1240.0626\n",
            "Epoch 60/100\n",
            "27/27 [==============================] - 0s 1ms/step - loss: 1239.1392\n",
            "Epoch 61/100\n",
            "27/27 [==============================] - 0s 2ms/step - loss: 1238.4949\n",
            "Epoch 62/100\n",
            "27/27 [==============================] - 0s 2ms/step - loss: 1237.2256\n",
            "Epoch 63/100\n",
            "27/27 [==============================] - 0s 1ms/step - loss: 1236.1401\n",
            "Epoch 64/100\n",
            "27/27 [==============================] - 0s 1ms/step - loss: 1234.8945\n",
            "Epoch 65/100\n",
            "27/27 [==============================] - 0s 1ms/step - loss: 1233.9384\n",
            "Epoch 66/100\n",
            "27/27 [==============================] - 0s 2ms/step - loss: 1232.7039\n",
            "Epoch 67/100\n",
            "27/27 [==============================] - 0s 1ms/step - loss: 1231.7579\n",
            "Epoch 68/100\n",
            "27/27 [==============================] - 0s 2ms/step - loss: 1231.2251\n",
            "Epoch 69/100\n",
            "27/27 [==============================] - 0s 2ms/step - loss: 1229.6543\n",
            "Epoch 70/100\n",
            "27/27 [==============================] - 0s 1ms/step - loss: 1228.6891\n",
            "Epoch 71/100\n",
            "27/27 [==============================] - 0s 2ms/step - loss: 1227.5476\n",
            "Epoch 72/100\n",
            "27/27 [==============================] - 0s 1ms/step - loss: 1226.3818\n",
            "Epoch 73/100\n",
            "27/27 [==============================] - 0s 1ms/step - loss: 1225.5854\n",
            "Epoch 74/100\n",
            "27/27 [==============================] - 0s 2ms/step - loss: 1223.9066\n",
            "Epoch 75/100\n",
            "27/27 [==============================] - 0s 1ms/step - loss: 1223.0598\n",
            "Epoch 76/100\n",
            "27/27 [==============================] - 0s 1ms/step - loss: 1222.0441\n",
            "Epoch 77/100\n",
            "27/27 [==============================] - 0s 2ms/step - loss: 1221.3451\n",
            "Epoch 78/100\n",
            "27/27 [==============================] - 0s 2ms/step - loss: 1219.9305\n",
            "Epoch 79/100\n",
            "27/27 [==============================] - 0s 1ms/step - loss: 1218.5277\n",
            "Epoch 80/100\n",
            "27/27 [==============================] - 0s 2ms/step - loss: 1217.8307\n",
            "Epoch 81/100\n",
            "27/27 [==============================] - 0s 1ms/step - loss: 1215.9889\n",
            "Epoch 82/100\n",
            "27/27 [==============================] - 0s 1ms/step - loss: 1215.0443\n",
            "Epoch 83/100\n",
            "27/27 [==============================] - 0s 1ms/step - loss: 1214.2078\n",
            "Epoch 84/100\n",
            "27/27 [==============================] - 0s 2ms/step - loss: 1212.4139\n",
            "Epoch 85/100\n",
            "27/27 [==============================] - 0s 2ms/step - loss: 1211.2542\n",
            "Epoch 86/100\n",
            "27/27 [==============================] - 0s 2ms/step - loss: 1210.1394\n",
            "Epoch 87/100\n",
            "27/27 [==============================] - 0s 1ms/step - loss: 1208.9153\n",
            "Epoch 88/100\n",
            "27/27 [==============================] - 0s 1ms/step - loss: 1208.0801\n",
            "Epoch 89/100\n",
            "27/27 [==============================] - 0s 2ms/step - loss: 1206.9417\n",
            "Epoch 90/100\n",
            "27/27 [==============================] - 0s 2ms/step - loss: 1205.0797\n",
            "Epoch 91/100\n",
            "27/27 [==============================] - 0s 2ms/step - loss: 1204.2865\n",
            "Epoch 92/100\n",
            "27/27 [==============================] - 0s 2ms/step - loss: 1203.2203\n",
            "Epoch 93/100\n",
            "27/27 [==============================] - 0s 2ms/step - loss: 1201.8369\n",
            "Epoch 94/100\n",
            "27/27 [==============================] - 0s 2ms/step - loss: 1200.7743\n",
            "Epoch 95/100\n",
            "27/27 [==============================] - 0s 1ms/step - loss: 1199.6143\n",
            "Epoch 96/100\n",
            "27/27 [==============================] - 0s 2ms/step - loss: 1198.4745\n",
            "Epoch 97/100\n",
            "27/27 [==============================] - 0s 2ms/step - loss: 1197.0215\n",
            "Epoch 98/100\n",
            "27/27 [==============================] - 0s 2ms/step - loss: 1196.3854\n",
            "Epoch 99/100\n",
            "27/27 [==============================] - 0s 2ms/step - loss: 1194.8235\n",
            "Epoch 100/100\n",
            "27/27 [==============================] - 0s 2ms/step - loss: 1193.6006\n"
          ]
        }
      ]
    },
    {
      "cell_type": "code",
      "source": [
        "# Prediction\n",
        "print('Prediction: {}'.format(model.predict([3.5])))"
      ],
      "metadata": {
        "colab": {
          "base_uri": "https://localhost:8080/"
        },
        "id": "iKp1e6FDWGYC",
        "outputId": "ea519dae-0f32-47b4-d47a-3f1038031810"
      },
      "execution_count": null,
      "outputs": [
        {
          "output_type": "stream",
          "name": "stdout",
          "text": [
            "Prediction: [[155.56686]]\n"
          ]
        }
      ]
    },
    {
      "cell_type": "code",
      "source": [
        "# Get weight and bias\n",
        "weights = model.get_weights()\n",
        "weight = weights[0][0]\n",
        "bias = weights[1]\n",
        "print('weight: {} bias: {}'.format(weight, bias))\n",
        "y_learned = X_train * weight + bias \n",
        "plt.scatter(X_train, y_train, label='Observation')\n",
        "plt.plot(X_train, y_learned, color='orangered', label='Regression Model')\n",
        "plt.legend() \n",
        "plt.show()"
      ],
      "metadata": {
        "colab": {
          "base_uri": "https://localhost:8080/",
          "height": 284
        },
        "id": "6TUBfB6aWo12",
        "outputId": "c64dac0f-5354-4391-ecd7-c1317d528a05"
      },
      "execution_count": null,
      "outputs": [
        {
          "output_type": "stream",
          "name": "stdout",
          "text": [
            "weight: [35.074] bias: [50.344868]\n"
          ]
        },
        {
          "output_type": "display_data",
          "data": {
            "text/plain": [
              "<Figure size 432x288 with 1 Axes>"
            ],
            "image/png": "[encoded data removed]"
          },
          "metadata": {
            "needs_background": "light"
          }
        }
      ]
    },
    {
      "cell_type": "code",
      "source": [
        "from sklearn.metrics import r2_score\n",
        "test_y_ = model.predict(X_test)"
      ],
      "metadata": {
        "id": "nUnJjhfDXHSY"
      },
      "execution_count": null,
      "outputs": []
    },
    {
      "cell_type": "code",
      "source": [
        "print(\"Mean absolute error: %.2f\" % np.mean(np.absolute(test_y_-y_test)))\n",
        "print(\"Residual sum of squares (MSE): %.2f\" % np.mean((test_y_-y_test)**2))\n",
        "print(\"R2-score: %.2f\" % r2_score(test_y_,y_test))"
      ],
      "metadata": {
        "colab": {
          "base_uri": "https://localhost:8080/"
        },
        "id": "wFNJpF-uW8m5",
        "outputId": "9d552ba1-c26a-4cc1-fa3a-d9f4abfc5388"
      },
      "execution_count": null,
      "outputs": [
        {
          "output_type": "stream",
          "name": "stdout",
          "text": [
            "Mean absolute error: 68.59\n",
            "Residual sum of squares (MSE): 7544.14\n",
            "R2-score: 0.65\n"
          ]
        }
      ]
    }
  ]
}